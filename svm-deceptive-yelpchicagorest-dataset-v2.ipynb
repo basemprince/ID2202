{
 "cells": [
  {
   "cell_type": "code",
   "execution_count": 1,
   "metadata": {},
   "outputs": [],
   "source": [
    "#!/usr/bin/python3\n",
    "from sklearn.svm import OneClassSVM\n",
    "import pandas as pd\n",
    "import feather\n",
    "from sklearn.model_selection import train_test_split\n",
    "from sklearn.model_selection import StratifiedShuffleSplit\n",
    "import numpy as np\n",
    "from nltk.tokenize import word_tokenize\n",
    "from nltk import pos_tag\n",
    "from nltk.corpus import stopwords\n",
    "from nltk.stem import WordNetLemmatizer\n",
    "from sklearn.preprocessing import LabelEncoder\n",
    "from collections import defaultdict\n",
    "from nltk.corpus import wordnet as wn\n",
    "from sklearn.feature_extraction.text import TfidfVectorizer\n",
    "from sklearn import model_selection, naive_bayes, svm\n",
    "from sklearn.metrics import accuracy_score\n",
    "import pickle\n",
    "np.random.seed(500)\n",
    "import time\n",
    "import matplotlib.pyplot as plt\n",
    "import seaborn as sns\n",
    "from imblearn.under_sampling import RandomUnderSampler\n",
    "from imblearn.over_sampling import RandomOverSampler"
   ]
  },
  {
   "cell_type": "code",
   "execution_count": 2,
   "metadata": {},
   "outputs": [],
   "source": [
    "from sklearn.model_selection import train_test_split\n",
    "from sklearn.model_selection import cross_val_score\n",
    "from sklearn.model_selection import StratifiedKFold\n",
    "from sklearn.metrics import classification_report\n",
    "from sklearn.metrics import confusion_matrix\n",
    "from sklearn.metrics import accuracy_score\n",
    "from sklearn.linear_model import LogisticRegression\n",
    "from sklearn.tree import DecisionTreeClassifier\n",
    "from sklearn.neighbors import KNeighborsClassifier\n",
    "from sklearn.discriminant_analysis import LinearDiscriminantAnalysis\n",
    "from sklearn.naive_bayes import GaussianNB\n",
    "from sklearn.svm import SVC\n",
    "from sklearn.ensemble import RandomForestClassifier\n",
    "from sklearn import metrics\n",
    "from pandas.api.types import CategoricalDtype\n",
    "from sklearn.preprocessing import StandardScaler\n",
    "from sklearn.metrics import precision_recall_fscore_support\n",
    "from sklearn.model_selection import StratifiedKFold"
   ]
  },
  {
   "cell_type": "code",
   "execution_count": 3,
   "metadata": {},
   "outputs": [],
   "source": [
    "pickle_in = open(\"df_lemma_yelp_chicago_rest.pickle\",\"rb\")\n",
    "df = pickle.load(pickle_in)\n",
    "# df = pd.read_table(\"Data/YelpChi/output_review_yelpHotelData_NRYRcleaned.txt\",header=None)\n",
    "# df2 = pd.read_table(\"Data/YelpChi/output_meta_yelpHotelData_NRYRcleaned.txt\",header=None, sep=\" \")\n",
    "# df['label'] =  df2[4]\n",
    "# df['label'] = df['label'].replace(['N'],1)\n",
    "# df['label'] = df['label'].replace(['Y'],-1)\n",
    "# df.columns = ['review_content', 'label']"
   ]
  },
  {
   "cell_type": "code",
   "execution_count": 4,
   "metadata": {
    "scrolled": true
   },
   "outputs": [
    {
     "data": {
      "text/html": [
       "<div>\n",
       "<style scoped>\n",
       "    .dataframe tbody tr th:only-of-type {\n",
       "        vertical-align: middle;\n",
       "    }\n",
       "\n",
       "    .dataframe tbody tr th {\n",
       "        vertical-align: top;\n",
       "    }\n",
       "\n",
       "    .dataframe thead th {\n",
       "        text-align: right;\n",
       "    }\n",
       "</style>\n",
       "<table border=\"1\" class=\"dataframe\">\n",
       "  <thead>\n",
       "    <tr style=\"text-align: right;\">\n",
       "      <th></th>\n",
       "      <th>review_content</th>\n",
       "      <th>label</th>\n",
       "      <th>tokenized</th>\n",
       "      <th>text_final</th>\n",
       "    </tr>\n",
       "  </thead>\n",
       "  <tbody>\n",
       "    <tr>\n",
       "      <th>0</th>\n",
       "      <td>unlike next, which we'd eaten at the previous ...</td>\n",
       "      <td>1</td>\n",
       "      <td>[unlike, next, ,, which, we, 'd, eaten, at, th...</td>\n",
       "      <td>['unlike', 'next', 'eat', 'previous', 'night',...</td>\n",
       "    </tr>\n",
       "    <tr>\n",
       "      <th>1</th>\n",
       "      <td>probably one of the best meals i've had ever. ...</td>\n",
       "      <td>1</td>\n",
       "      <td>[probably, one, of, the, best, meals, i, 've, ...</td>\n",
       "      <td>['probably', 'one', 'best', 'meal', 'ever', 'p...</td>\n",
       "    </tr>\n",
       "    <tr>\n",
       "      <th>2</th>\n",
       "      <td>service was impeccable. experience and present...</td>\n",
       "      <td>1</td>\n",
       "      <td>[service, was, impeccable, ., experience, and,...</td>\n",
       "      <td>['service', 'impeccable', 'experience', 'prese...</td>\n",
       "    </tr>\n",
       "    <tr>\n",
       "      <th>3</th>\n",
       "      <td>the problem with places like this, given the e...</td>\n",
       "      <td>1</td>\n",
       "      <td>[the, problem, with, places, like, this, ,, gi...</td>\n",
       "      <td>['problem', 'place', 'like', 'give', 'exhorbit...</td>\n",
       "    </tr>\n",
       "    <tr>\n",
       "      <th>4</th>\n",
       "      <td>i have no idea how to write my review - dining...</td>\n",
       "      <td>1</td>\n",
       "      <td>[i, have, no, idea, how, to, write, my, review...</td>\n",
       "      <td>['idea', 'write', 'review', 'dining', 'alinea'...</td>\n",
       "    </tr>\n",
       "    <tr>\n",
       "      <th>...</th>\n",
       "      <td>...</td>\n",
       "      <td>...</td>\n",
       "      <td>...</td>\n",
       "      <td>...</td>\n",
       "    </tr>\n",
       "    <tr>\n",
       "      <th>61533</th>\n",
       "      <td>i've passed this place a bunch of times on my ...</td>\n",
       "      <td>1</td>\n",
       "      <td>[i, 've, passed, this, place, a, bunch, of, ti...</td>\n",
       "      <td>['pass', 'place', 'bunch', 'time', 'way', 'oly...</td>\n",
       "    </tr>\n",
       "    <tr>\n",
       "      <th>61534</th>\n",
       "      <td>rubino's is not really setup as a retail opera...</td>\n",
       "      <td>1</td>\n",
       "      <td>[rubino, 's, is, not, really, setup, as, a, re...</td>\n",
       "      <td>['rubino', 'really', 'setup', 'retail', 'opera...</td>\n",
       "    </tr>\n",
       "    <tr>\n",
       "      <th>61535</th>\n",
       "      <td>this place is amazing. the food is great and y...</td>\n",
       "      <td>1</td>\n",
       "      <td>[this, place, is, amazing, ., the, food, is, g...</td>\n",
       "      <td>['place', 'amaze', 'food', 'great', 'beat', 'p...</td>\n",
       "    </tr>\n",
       "    <tr>\n",
       "      <th>61536</th>\n",
       "      <td>ok went back the next day as i was driving by ...</td>\n",
       "      <td>1</td>\n",
       "      <td>[ok, went, back, the, next, day, as, i, was, d...</td>\n",
       "      <td>['ok', 'go', 'back', 'next', 'day', 'drive', '...</td>\n",
       "    </tr>\n",
       "    <tr>\n",
       "      <th>61537</th>\n",
       "      <td>delicious, rather authentic mexican food, must...</td>\n",
       "      <td>1</td>\n",
       "      <td>[delicious, ,, rather, authentic, mexican, foo...</td>\n",
       "      <td>['delicious', 'rather', 'authentic', 'mexican'...</td>\n",
       "    </tr>\n",
       "  </tbody>\n",
       "</table>\n",
       "<p>61538 rows × 4 columns</p>\n",
       "</div>"
      ],
      "text/plain": [
       "                                          review_content  label  \\\n",
       "0      unlike next, which we'd eaten at the previous ...      1   \n",
       "1      probably one of the best meals i've had ever. ...      1   \n",
       "2      service was impeccable. experience and present...      1   \n",
       "3      the problem with places like this, given the e...      1   \n",
       "4      i have no idea how to write my review - dining...      1   \n",
       "...                                                  ...    ...   \n",
       "61533  i've passed this place a bunch of times on my ...      1   \n",
       "61534  rubino's is not really setup as a retail opera...      1   \n",
       "61535  this place is amazing. the food is great and y...      1   \n",
       "61536  ok went back the next day as i was driving by ...      1   \n",
       "61537  delicious, rather authentic mexican food, must...      1   \n",
       "\n",
       "                                               tokenized  \\\n",
       "0      [unlike, next, ,, which, we, 'd, eaten, at, th...   \n",
       "1      [probably, one, of, the, best, meals, i, 've, ...   \n",
       "2      [service, was, impeccable, ., experience, and,...   \n",
       "3      [the, problem, with, places, like, this, ,, gi...   \n",
       "4      [i, have, no, idea, how, to, write, my, review...   \n",
       "...                                                  ...   \n",
       "61533  [i, 've, passed, this, place, a, bunch, of, ti...   \n",
       "61534  [rubino, 's, is, not, really, setup, as, a, re...   \n",
       "61535  [this, place, is, amazing, ., the, food, is, g...   \n",
       "61536  [ok, went, back, the, next, day, as, i, was, d...   \n",
       "61537  [delicious, ,, rather, authentic, mexican, foo...   \n",
       "\n",
       "                                              text_final  \n",
       "0      ['unlike', 'next', 'eat', 'previous', 'night',...  \n",
       "1      ['probably', 'one', 'best', 'meal', 'ever', 'p...  \n",
       "2      ['service', 'impeccable', 'experience', 'prese...  \n",
       "3      ['problem', 'place', 'like', 'give', 'exhorbit...  \n",
       "4      ['idea', 'write', 'review', 'dining', 'alinea'...  \n",
       "...                                                  ...  \n",
       "61533  ['pass', 'place', 'bunch', 'time', 'way', 'oly...  \n",
       "61534  ['rubino', 'really', 'setup', 'retail', 'opera...  \n",
       "61535  ['place', 'amaze', 'food', 'great', 'beat', 'p...  \n",
       "61536  ['ok', 'go', 'back', 'next', 'day', 'drive', '...  \n",
       "61537  ['delicious', 'rather', 'authentic', 'mexican'...  \n",
       "\n",
       "[61538 rows x 4 columns]"
      ]
     },
     "execution_count": 4,
     "metadata": {},
     "output_type": "execute_result"
    }
   ],
   "source": [
    "df"
   ]
  },
  {
   "cell_type": "code",
   "execution_count": 5,
   "metadata": {},
   "outputs": [
    {
     "name": "stdout",
     "output_type": "stream",
     "text": [
      "negative:  8141  positive: 53397 total 61538 percent deceptive 13.229224219181644\n"
     ]
    }
   ],
   "source": [
    "pos=0 \n",
    "neg = 0\n",
    "\n",
    "for x in df['label']:\n",
    "    if x == -1:\n",
    "        neg+=1\n",
    "    else:\n",
    "        pos+=1\n",
    "print ('negative: ', neg , ' positive:' , pos, 'total', neg+pos,'percent deceptive', neg*100.0/(neg+pos)) "
   ]
  },
  {
   "cell_type": "code",
   "execution_count": 6,
   "metadata": {},
   "outputs": [],
   "source": [
    "#file_path = '/home/parallels/KTH/II2202/Data/YelpNYC/database_feather.feather'\n",
    "#df = pd.read_feather(file_path, columns=None, use_threads=True)"
   ]
  },
  {
   "cell_type": "code",
   "execution_count": 7,
   "metadata": {},
   "outputs": [
    {
     "data": {
      "text/plain": [
       "review_content    object\n",
       "label              int64\n",
       "tokenized         object\n",
       "text_final        object\n",
       "dtype: object"
      ]
     },
     "execution_count": 7,
     "metadata": {},
     "output_type": "execute_result"
    }
   ],
   "source": [
    "df.dtypes"
   ]
  },
  {
   "cell_type": "code",
   "execution_count": 8,
   "metadata": {},
   "outputs": [
    {
     "data": {
      "text/html": [
       "<div>\n",
       "<style scoped>\n",
       "    .dataframe tbody tr th:only-of-type {\n",
       "        vertical-align: middle;\n",
       "    }\n",
       "\n",
       "    .dataframe tbody tr th {\n",
       "        vertical-align: top;\n",
       "    }\n",
       "\n",
       "    .dataframe thead th {\n",
       "        text-align: right;\n",
       "    }\n",
       "</style>\n",
       "<table border=\"1\" class=\"dataframe\">\n",
       "  <thead>\n",
       "    <tr style=\"text-align: right;\">\n",
       "      <th></th>\n",
       "      <th>label</th>\n",
       "    </tr>\n",
       "  </thead>\n",
       "  <tbody>\n",
       "    <tr>\n",
       "      <th>count</th>\n",
       "      <td>61538.000000</td>\n",
       "    </tr>\n",
       "    <tr>\n",
       "      <th>mean</th>\n",
       "      <td>0.735416</td>\n",
       "    </tr>\n",
       "    <tr>\n",
       "      <th>std</th>\n",
       "      <td>0.677622</td>\n",
       "    </tr>\n",
       "    <tr>\n",
       "      <th>min</th>\n",
       "      <td>-1.000000</td>\n",
       "    </tr>\n",
       "    <tr>\n",
       "      <th>25%</th>\n",
       "      <td>1.000000</td>\n",
       "    </tr>\n",
       "    <tr>\n",
       "      <th>50%</th>\n",
       "      <td>1.000000</td>\n",
       "    </tr>\n",
       "    <tr>\n",
       "      <th>75%</th>\n",
       "      <td>1.000000</td>\n",
       "    </tr>\n",
       "    <tr>\n",
       "      <th>max</th>\n",
       "      <td>1.000000</td>\n",
       "    </tr>\n",
       "  </tbody>\n",
       "</table>\n",
       "</div>"
      ],
      "text/plain": [
       "              label\n",
       "count  61538.000000\n",
       "mean       0.735416\n",
       "std        0.677622\n",
       "min       -1.000000\n",
       "25%        1.000000\n",
       "50%        1.000000\n",
       "75%        1.000000\n",
       "max        1.000000"
      ]
     },
     "execution_count": 8,
     "metadata": {},
     "output_type": "execute_result"
    }
   ],
   "source": [
    "df.describe()"
   ]
  },
  {
   "cell_type": "code",
   "execution_count": 9,
   "metadata": {},
   "outputs": [],
   "source": [
    "# # Step - a : Remove blank rows if any.\n",
    "# df['review_content'].dropna(inplace=True)"
   ]
  },
  {
   "cell_type": "code",
   "execution_count": 10,
   "metadata": {},
   "outputs": [],
   "source": [
    "# # Step - b : Change all the text to lower case\n",
    "# df['review_content'] = [entry.lower() for entry in df['review_content']]"
   ]
  },
  {
   "cell_type": "code",
   "execution_count": 11,
   "metadata": {},
   "outputs": [],
   "source": [
    "# # Step - c : Tokenization : In this each entry in the corpus will be broken into set of words\n",
    "# # tokenized = []\n",
    "# # for index,entry in enumerate(genuine['review_content']): \n",
    "# #     genuine.loc[index,'tokenized'] = [word_tokenize(entry)]\n",
    "# #     percent = index/len(genuine)*100\n",
    "# #     print('percent done [%d%%]\\r'%percent, end=\"\")\n",
    "# df['tokenized']= [word_tokenize(entry) for entry in df['review_content']]"
   ]
  },
  {
   "cell_type": "code",
   "execution_count": 12,
   "metadata": {},
   "outputs": [],
   "source": [
    "# # Step - d : Remove Stop words, Non-Numeric and perfom Word Stemming/Lemmenting.\n",
    "# # WordNetLemmatizer requires Pos tags to understand if the word is noun or verb or adjective etc. By default it is set to Noun\n",
    "# tag_map = defaultdict(lambda : wn.NOUN)\n",
    "# tag_map['J'] = wn.ADJ\n",
    "# tag_map['V'] = wn.VERB\n",
    "# tag_map['R'] = wn.ADV\n",
    "# final_text = [None]*len(df['tokenized'])\n",
    "# for index,entry in enumerate(df['tokenized']):\n",
    "#     # Declaring Empty List to store the words that follow the rules for this step\n",
    "#     Final_words = []\n",
    "#     # Initializing WordNetLemmatizer()\n",
    "#     percent = float(index/len(df['tokenized'])*100)\n",
    "\n",
    "#     print('percent done [%f%%]\\r'%percent, end=\"\")\n",
    "#     word_Lemmatized = WordNetLemmatizer()\n",
    "#     # pos_tag function below will provide the 'tag' i.e if the word is Noun(N) or Verb(V) or something else.\n",
    "#     for word, tag in pos_tag(entry):\n",
    "#         # Below condition is to check for Stop words and consider only alphabets\n",
    "#         if word not in stopwords.words('english') and word.isalpha():\n",
    "#             word_Final = word_Lemmatized.lemmatize(word,tag_map[tag[0]])\n",
    "#             Final_words.append(word_Final)\n",
    "#     # The final processed set of words for each iteration will be stored in 'text_final'\n",
    "#     df.loc[index,'text_final'] = str(Final_words)\n",
    "#     final_text[index]=(Final_words)\n",
    "    \n"
   ]
  },
  {
   "cell_type": "code",
   "execution_count": 13,
   "metadata": {},
   "outputs": [],
   "source": [
    "# #to save the preporcessed list\n",
    "\n",
    "# pickle_out = open(\"df_lemma_yelp_chicago.pickle\",\"wb\")\n",
    "# pickle.dump(df, pickle_out)\n",
    "# pickle_out.close()"
   ]
  },
  {
   "cell_type": "code",
   "execution_count": 14,
   "metadata": {},
   "outputs": [
    {
     "data": {
      "text/plain": [
       "(61538, 1)"
      ]
     },
     "execution_count": 14,
     "metadata": {},
     "output_type": "execute_result"
    }
   ],
   "source": [
    "x = df['text_final'].values.reshape(-1,1)\n",
    "y = df['label'].values.reshape(-1,1)\n",
    "y.shape"
   ]
  },
  {
   "cell_type": "code",
   "execution_count": 15,
   "metadata": {},
   "outputs": [],
   "source": [
    "#undersample = RandomUnderSampler(sampling_strategy='majority')\n",
    "undersample = RandomUnderSampler(sampling_strategy='majority')\n",
    "#oversample = RandomOverSampler(sampling_strategy='minority')\n",
    "X_under, y_under = undersample.fit_resample(x, y)\n",
    "#X_over, y_over = oversample.fit_resample(X, df['label'])"
   ]
  },
  {
   "cell_type": "code",
   "execution_count": 16,
   "metadata": {},
   "outputs": [],
   "source": [
    "d = {'text_final':X_under[:,0],'label':y_under[:,]}\n",
    "dfu = pd.DataFrame(d)"
   ]
  },
  {
   "cell_type": "code",
   "execution_count": 17,
   "metadata": {
    "scrolled": true
   },
   "outputs": [
    {
     "data": {
      "text/html": [
       "<div>\n",
       "<style scoped>\n",
       "    .dataframe tbody tr th:only-of-type {\n",
       "        vertical-align: middle;\n",
       "    }\n",
       "\n",
       "    .dataframe tbody tr th {\n",
       "        vertical-align: top;\n",
       "    }\n",
       "\n",
       "    .dataframe thead th {\n",
       "        text-align: right;\n",
       "    }\n",
       "</style>\n",
       "<table border=\"1\" class=\"dataframe\">\n",
       "  <thead>\n",
       "    <tr style=\"text-align: right;\">\n",
       "      <th></th>\n",
       "      <th>text_final</th>\n",
       "      <th>label</th>\n",
       "    </tr>\n",
       "  </thead>\n",
       "  <tbody>\n",
       "    <tr>\n",
       "      <th>0</th>\n",
       "      <td>['like', 'service', 'offer', 'alinea', 'restau...</td>\n",
       "      <td>-1</td>\n",
       "    </tr>\n",
       "    <tr>\n",
       "      <th>1</th>\n",
       "      <td>['presumably', 'one', 'best', 'restaurant', 'a...</td>\n",
       "      <td>-1</td>\n",
       "    </tr>\n",
       "    <tr>\n",
       "      <th>2</th>\n",
       "      <td>['truly', 'amazing', 'experience', 'ever', 're...</td>\n",
       "      <td>-1</td>\n",
       "    </tr>\n",
       "    <tr>\n",
       "      <th>3</th>\n",
       "      <td>['go', 'friend', 'birthday', 'say', 'wow', 'fi...</td>\n",
       "      <td>-1</td>\n",
       "    </tr>\n",
       "    <tr>\n",
       "      <th>4</th>\n",
       "      <td>['nutshell', 'sophisticated', 'place', 'good',...</td>\n",
       "      <td>-1</td>\n",
       "    </tr>\n",
       "    <tr>\n",
       "      <th>...</th>\n",
       "      <td>...</td>\n",
       "      <td>...</td>\n",
       "    </tr>\n",
       "    <tr>\n",
       "      <th>16277</th>\n",
       "      <td>['usually', 'yelp', 'place', 'drive', 'say', '...</td>\n",
       "      <td>1</td>\n",
       "    </tr>\n",
       "    <tr>\n",
       "      <th>16278</th>\n",
       "      <td>['three', 'thing', 'love', 'free', 'valet', 'f...</td>\n",
       "      <td>1</td>\n",
       "    </tr>\n",
       "    <tr>\n",
       "      <th>16279</th>\n",
       "      <td>['fresh', 'fast', 'cheap', 'falafel', 'sandwic...</td>\n",
       "      <td>1</td>\n",
       "    </tr>\n",
       "    <tr>\n",
       "      <th>16280</th>\n",
       "      <td>['come', 'restaurant', 'crappy', 'get', 'valle...</td>\n",
       "      <td>1</td>\n",
       "    </tr>\n",
       "    <tr>\n",
       "      <th>16281</th>\n",
       "      <td>['place', 'cool', 'line', 'get', 'long', 'move...</td>\n",
       "      <td>1</td>\n",
       "    </tr>\n",
       "  </tbody>\n",
       "</table>\n",
       "<p>16282 rows × 2 columns</p>\n",
       "</div>"
      ],
      "text/plain": [
       "                                              text_final  label\n",
       "0      ['like', 'service', 'offer', 'alinea', 'restau...     -1\n",
       "1      ['presumably', 'one', 'best', 'restaurant', 'a...     -1\n",
       "2      ['truly', 'amazing', 'experience', 'ever', 're...     -1\n",
       "3      ['go', 'friend', 'birthday', 'say', 'wow', 'fi...     -1\n",
       "4      ['nutshell', 'sophisticated', 'place', 'good',...     -1\n",
       "...                                                  ...    ...\n",
       "16277  ['usually', 'yelp', 'place', 'drive', 'say', '...      1\n",
       "16278  ['three', 'thing', 'love', 'free', 'valet', 'f...      1\n",
       "16279  ['fresh', 'fast', 'cheap', 'falafel', 'sandwic...      1\n",
       "16280  ['come', 'restaurant', 'crappy', 'get', 'valle...      1\n",
       "16281  ['place', 'cool', 'line', 'get', 'long', 'move...      1\n",
       "\n",
       "[16282 rows x 2 columns]"
      ]
     },
     "execution_count": 17,
     "metadata": {},
     "output_type": "execute_result"
    }
   ],
   "source": [
    "dfu"
   ]
  },
  {
   "cell_type": "code",
   "execution_count": 18,
   "metadata": {},
   "outputs": [
    {
     "name": "stdout",
     "output_type": "stream",
     "text": [
      "negative:  8141  positive: 8141 total 16282 percent deceptive 50.0\n"
     ]
    }
   ],
   "source": [
    "pos=0 \n",
    "neg = 0\n",
    "for x in dfu['label']:\n",
    "    if x == -1:\n",
    "        neg+=1\n",
    "    else:\n",
    "        pos+=1\n",
    "print ('negative: ', neg , ' positive:' , pos, 'total', neg+pos,'percent deceptive', neg*100.0/(neg+pos)) "
   ]
  },
  {
   "cell_type": "code",
   "execution_count": 19,
   "metadata": {},
   "outputs": [],
   "source": [
    "Train_X_oc_all, Test_X_oc_all = model_selection.train_test_split(dfu[['label','text_final']],test_size=0.3)"
   ]
  },
  {
   "cell_type": "code",
   "execution_count": 20,
   "metadata": {},
   "outputs": [
    {
     "name": "stdout",
     "output_type": "stream",
     "text": [
      "negative:  2430  positive: 2455 total 4885 percent deceptive 49.744114636642784\n"
     ]
    }
   ],
   "source": [
    "# check test genuine/deceptive\n",
    "pos=0 \n",
    "neg = 0\n",
    "\n",
    "for x in Test_X_oc_all['label']:\n",
    "    if x == -1:\n",
    "        neg+=1\n",
    "    else:\n",
    "        pos+=1\n",
    "print ('negative: ', neg , ' positive:' , pos, 'total', neg+pos,'percent deceptive', neg*100.0/(neg+pos)) "
   ]
  },
  {
   "cell_type": "code",
   "execution_count": 21,
   "metadata": {},
   "outputs": [],
   "source": [
    "# split using genuine\n",
    "Train_X, Test_X = model_selection.train_test_split((Train_X_oc_all.loc[(dfu['label'] == 1)]).text_final,test_size=0.3)\n"
   ]
  },
  {
   "cell_type": "code",
   "execution_count": 22,
   "metadata": {},
   "outputs": [],
   "source": [
    "#split using deceptive\n",
    "Train_X_dec, Test_X_dec = model_selection.train_test_split((Train_X_oc_all.loc[(dfu['label'] == -1)]).text_final,test_size=0.3)"
   ]
  },
  {
   "cell_type": "code",
   "execution_count": 23,
   "metadata": {},
   "outputs": [
    {
     "data": {
      "text/plain": [
       "TfidfVectorizer(max_features=400)"
      ]
     },
     "execution_count": 23,
     "metadata": {},
     "output_type": "execute_result"
    }
   ],
   "source": [
    "Tfidf_vect = TfidfVectorizer(max_features=400)        \n",
    "Tfidf_vect.fit(df['text_final'])"
   ]
  },
  {
   "cell_type": "code",
   "execution_count": 24,
   "metadata": {},
   "outputs": [],
   "source": [
    "#vectorizing genuine data\n",
    "Train_X_Tfidf = Tfidf_vect.transform(Train_X)\n",
    "Test_X_Tfidf = Tfidf_vect.transform(Test_X)"
   ]
  },
  {
   "cell_type": "code",
   "execution_count": 25,
   "metadata": {},
   "outputs": [],
   "source": [
    "# vectorizing deceptive data\n",
    "Train_X_Tfidf_dec = Tfidf_vect.transform(Train_X_dec)\n",
    "Test_X_Tfidf_dec = Tfidf_vect.transform(Test_X_oc_all['text_final'])"
   ]
  },
  {
   "cell_type": "code",
   "execution_count": 26,
   "metadata": {},
   "outputs": [],
   "source": [
    "# vectorizing all data\n",
    "Test_X_Tfidf_all = Tfidf_vect.transform(df['text_final'])"
   ]
  },
  {
   "cell_type": "code",
   "execution_count": 27,
   "metadata": {},
   "outputs": [
    {
     "data": {
      "text/plain": [
       "<3980x400 sparse matrix of type '<class 'numpy.float64'>'\n",
       "\twith 131905 stored elements in Compressed Sparse Row format>"
      ]
     },
     "execution_count": 27,
     "metadata": {},
     "output_type": "execute_result"
    }
   ],
   "source": [
    "Train_X_Tfidf"
   ]
  },
  {
   "cell_type": "code",
   "execution_count": 28,
   "metadata": {},
   "outputs": [
    {
     "name": "stdout",
     "output_type": "stream",
     "text": [
      "elapsed_time 4.744605541229248\n"
     ]
    }
   ],
   "source": [
    "# fit the training dataset on the classifier using [deceptive]\n",
    "start_time = time.time()\n",
    "\n",
    "clf_dec = OneClassSVM(gamma='auto', kernel='rbf', degree=5).fit(Train_X_Tfidf_dec)\n",
    "elapsed_time = time.time() - start_time\n",
    "print('elapsed_time' , elapsed_time)\n",
    "# predict the labels on validation dataset"
   ]
  },
  {
   "cell_type": "code",
   "execution_count": 29,
   "metadata": {},
   "outputs": [
    {
     "name": "stdout",
     "output_type": "stream",
     "text": [
      "elapsed_time 2.8502578735351562\n"
     ]
    }
   ],
   "source": [
    "# predict using deceptive\n",
    "start_time = time.time()\n",
    "predictions_oneclass_dec = clf_dec.predict(Test_X_Tfidf_dec)\n",
    "#print(predictions_oneclass_dec)\n",
    "elapsed_time = time.time() - start_time\n",
    "print('elapsed_time' , elapsed_time)\n",
    "# Use accuracy_score function to get the accuracy"
   ]
  },
  {
   "cell_type": "code",
   "execution_count": 30,
   "metadata": {},
   "outputs": [
    {
     "name": "stdout",
     "output_type": "stream",
     "text": [
      "negative:  2270  positive: 2615\n"
     ]
    }
   ],
   "source": [
    "# deceptive predict count\n",
    "pos=0 \n",
    "neg = 0\n",
    "\n",
    "for x in predictions_oneclass_dec:\n",
    "    if x == -1:\n",
    "        neg+=1\n",
    "    else:\n",
    "        pos+=1\n",
    "print ('negative: ', neg , ' positive:' , pos)       "
   ]
  },
  {
   "cell_type": "code",
   "execution_count": 31,
   "metadata": {},
   "outputs": [
    {
     "name": "stdout",
     "output_type": "stream",
     "text": [
      "Accuracy Score ->  0.4532241555783009\n",
      "percision:  0.4531674707230339  recall:  0.4532241555783009  fscore:  0.45254520517972374\n"
     ]
    }
   ],
   "source": [
    "cf_matrix=confusion_matrix(Test_X_oc_all['label'], predictions_oneclass_dec*-1)\n",
    "metrics_result = precision_recall_fscore_support(Test_X_oc_all['label'], predictions_oneclass_dec*-1, average='weighted',zero_division=0)\n",
    "print(\"Accuracy Score -> \",accuracy_score(predictions_oneclass_dec*-1, Test_X_oc_all['label'], normalize=True))\n",
    "print(\"percision: \", metrics_result[0], ' recall: ' , metrics_result[1], ' fscore: ', metrics_result[2])\n",
    "#print(metrics.f1_score(Test_X_oc_all['label'], predictions_oneclass_dec*-1, average='weighted'))\n",
    "#sns.heatmap(cf_matrix, annot=True)"
   ]
  },
  {
   "cell_type": "code",
   "execution_count": 32,
   "metadata": {},
   "outputs": [
    {
     "data": {
      "text/plain": [
       "<AxesSubplot:>"
      ]
     },
     "execution_count": 32,
     "metadata": {},
     "output_type": "execute_result"
    },
    {
     "data": {
      "image/png": "[encoded data removed]",
      "text/plain": [
       "<Figure size 432x288 with 2 Axes>"
      ]
     },
     "metadata": {
      "needs_background": "light"
     },
     "output_type": "display_data"
    }
   ],
   "source": [
    "group_names = ['True Neg','False Pos','False Neg','True Pos']\n",
    "group_counts = [\"{0:0.0f}\".format(value) for value in\n",
    "                cf_matrix.flatten()]\n",
    "group_percentages = [\"{0:.2%}\".format(value) for value in\n",
    "                     cf_matrix.flatten()/np.sum(cf_matrix)]\n",
    "labels = [f\"{v1}\\n{v2}\\n{v3}\" for v1, v2, v3 in\n",
    "          zip(group_names,group_counts,group_percentages)]\n",
    "labels = np.asarray(labels).reshape(2,2)\n",
    "sns.heatmap(cf_matrix, annot=labels, fmt='', cmap='Blues')\n"
   ]
  },
  {
   "cell_type": "code",
   "execution_count": 33,
   "metadata": {},
   "outputs": [
    {
     "name": "stdout",
     "output_type": "stream",
     "text": [
      "elapsed_time 3.4906880855560303\n"
     ]
    }
   ],
   "source": [
    "# fit the training dataset on the classifier using [genuine]\n",
    "start_time = time.time()\n",
    "\n",
    "clf_gen = OneClassSVM(gamma='auto', kernel='poly', degree=5).fit(Train_X_Tfidf)\n",
    "elapsed_time = time.time() - start_time\n",
    "print('elapsed_time' , elapsed_time)\n",
    "# predict the labels on validation dataset"
   ]
  },
  {
   "cell_type": "code",
   "execution_count": 34,
   "metadata": {},
   "outputs": [
    {
     "name": "stdout",
     "output_type": "stream",
     "text": [
      "elapsed_time 3.476022720336914\n"
     ]
    }
   ],
   "source": [
    "# predict using [genuine]\n",
    "start_time = time.time()\n",
    "predictions_oneclass_gen = clf_gen.predict(Test_X_Tfidf_dec)\n",
    "#print(predictions_oneclass_gen)\n",
    "elapsed_time = time.time() - start_time\n",
    "print('elapsed_time' , elapsed_time)\n",
    "# Use accuracy_score function to get the accuracy"
   ]
  },
  {
   "cell_type": "code",
   "execution_count": 35,
   "metadata": {},
   "outputs": [
    {
     "name": "stdout",
     "output_type": "stream",
     "text": [
      "negative:  4856  positive: 29\n"
     ]
    }
   ],
   "source": [
    "# count of prediction using [genuine]\n",
    "pos=0 \n",
    "neg = 0\n",
    "\n",
    "for x in predictions_oneclass_gen:\n",
    "    if x == -1:\n",
    "        neg+=1\n",
    "    else:\n",
    "        pos+=1\n",
    "print ('negative: ', neg , ' positive:' , pos)   "
   ]
  },
  {
   "cell_type": "code",
   "execution_count": 36,
   "metadata": {},
   "outputs": [
    {
     "name": "stdout",
     "output_type": "stream",
     "text": [
      "Accuracy Score ->  0.49887410440122826\n"
     ]
    }
   ],
   "source": [
    "print(\"Accuracy Score -> \",accuracy_score(predictions_oneclass_gen, Test_X_oc_all['label'], normalize=True))"
   ]
  },
  {
   "cell_type": "code",
   "execution_count": 37,
   "metadata": {},
   "outputs": [],
   "source": [
    "# # to save the classifier model\n",
    "\n",
    "# pickle_out = open(\"clf_oneclass.pickle\",\"wb\")\n",
    "# pickle.dump(clf, pickle_out)\n",
    "# pickle_out.close()"
   ]
  },
  {
   "cell_type": "code",
   "execution_count": 38,
   "metadata": {},
   "outputs": [],
   "source": [
    "X_train_all, X_validation_all, Y_train_all, Y_validation_all = train_test_split(Tfidf_vect.transform(dfu['text_final']), dfu['label'], test_size=0.30, random_state=1,stratify=dfu['label'] )"
   ]
  },
  {
   "cell_type": "code",
   "execution_count": 39,
   "metadata": {},
   "outputs": [
    {
     "name": "stdout",
     "output_type": "stream",
     "text": [
      "16282 11397\n"
     ]
    }
   ],
   "source": [
    "print(len(dfu['text_final']),len(Y_train_all))"
   ]
  },
  {
   "cell_type": "code",
   "execution_count": 40,
   "metadata": {},
   "outputs": [
    {
     "name": "stdout",
     "output_type": "stream",
     "text": [
      "negative:  5699  positive: 5698 total 11397 percent deceptive 50.00438711941739\n"
     ]
    }
   ],
   "source": [
    "pos=0 \n",
    "neg = 0\n",
    "for x in Y_train_all:\n",
    "    if x == -1:\n",
    "        neg+=1\n",
    "    else:\n",
    "        pos+=1\n",
    "print ('negative: ', neg , ' positive:' , pos, 'total', neg+pos,'percent deceptive', neg*100.0/(neg+pos)) "
   ]
  },
  {
   "cell_type": "code",
   "execution_count": 42,
   "metadata": {},
   "outputs": [
    {
     "name": "stdout",
     "output_type": "stream",
     "text": [
      "Support Vector Machine: 0.564366 (0.046945) elapsed time: 272.431864\n",
      "Support Vector Machine: 0.528039 (0.034897) elapsed time: 265.189305\n",
      "Support Vector Machine: 0.646136 (0.008003) elapsed time: 219.930950\n",
      "the best model performer is:  Support Vector Machine\n"
     ]
    }
   ],
   "source": [
    "# classifier checker\n",
    "\n",
    "# your code\n",
    "models = []\n",
    "#models.append(['Logistic Regression', LogisticRegression(solver='liblinear', multi_class='ovr'),[],0,0])\n",
    "#models.append(['Linear Discriminant Analysis', LinearDiscriminantAnalysis(),[],0,0])\n",
    "#models.append(['K Nearest Neighbor', KNeighborsClassifier(),[],0,0])\n",
    "#models.append(['Decesion Tree Classifier', DecisionTreeClassifier(),[],0,0])\n",
    "#models.append(['Gaussien Naive Bayes', GaussianNB(),[],0,0])\n",
    "models.append(['Support Vector Machine', SVC(gamma='auto',kernel='rbf'),[],0,0])\n",
    "models.append(['Support Vector Machine', SVC(gamma='auto',kernel='poly'),[],0,0])\n",
    "models.append(['Support Vector Machine', SVC(gamma='auto',kernel='linear'),[],0,0])\n",
    "#models.append(['Random Forest', RandomForestClassifier(max_depth = 1000,random_state=1),[],0,0])\n",
    "\n",
    "models = np.array(models,dtype=object)\n",
    "\n",
    "for i in range(len(models)):\n",
    "    start_time = time.time()\n",
    "    #kfold = StratifiedKFold(n_splits=1, random_state=1, shuffle=True)\n",
    "    cv_results = cross_val_score(models[i,1], X_train_all, Y_train_all, scoring='accuracy')\n",
    "    models[i,2] = cv_results\n",
    "    models[i,3] = cv_results.mean()\n",
    "    models[i,4] = cv_results.std()\n",
    "    elapsed_time = time.time() - start_time\n",
    "    print('%s: %f (%f) elapsed time: %f' % (models[i,0], models[i,3], models[i,4],elapsed_time))\n",
    "    \n",
    "    \n",
    "\n",
    "best_model= models[np.argmax(models[:,3]),:]\n",
    "print(\"the best model performer is: \", best_model[0])"
   ]
  },
  {
   "cell_type": "code",
   "execution_count": 43,
   "metadata": {},
   "outputs": [],
   "source": [
    "clf_model=SVC(gamma='auto',kernel='linear',degree=2).fit(X_train_all, Y_train_all)"
   ]
  },
  {
   "cell_type": "code",
   "execution_count": 44,
   "metadata": {},
   "outputs": [],
   "source": [
    "result=clf_model.predict(X_validation_all)"
   ]
  },
  {
   "cell_type": "code",
   "execution_count": 45,
   "metadata": {},
   "outputs": [
    {
     "name": "stdout",
     "output_type": "stream",
     "text": [
      "negative:  2557  positive: 2328 total 4885 percent deceptive 52.3439099283521\n"
     ]
    }
   ],
   "source": [
    "pos=0 \n",
    "neg = 0\n",
    "for x in result:\n",
    "    if x == -1:\n",
    "        neg+=1\n",
    "    else:\n",
    "        pos+=1\n",
    "print ('negative: ', neg , ' positive:' , pos, 'total', neg+pos,'percent deceptive', neg*100.0/(neg+pos)) "
   ]
  },
  {
   "cell_type": "code",
   "execution_count": 70,
   "metadata": {},
   "outputs": [
    {
     "name": "stdout",
     "output_type": "stream",
     "text": [
      "Accuracy Score ->  0.6325486182190379\n",
      "percision:  0.6391752577319587  recall:  0.6090871878837495  fscore:  0.6237686019702368 \n",
      "\n"
     ]
    }
   ],
   "source": [
    "print(\"Accuracy Score -> \",accuracy_score(result, Y_validation_all, normalize=True))\n",
    "metrics_result = precision_recall_fscore_support(Y_validation_all, result, average='binary',zero_division=0)\n",
    "print(\"percision: \", metrics_result[0], ' recall: ' , metrics_result[1], ' fscore: ', metrics_result[2], '\\n') "
   ]
  },
  {
   "cell_type": "code",
   "execution_count": 47,
   "metadata": {},
   "outputs": [],
   "source": [
    "df2= df[['text_final','label']]"
   ]
  },
  {
   "cell_type": "code",
   "execution_count": 48,
   "metadata": {},
   "outputs": [],
   "source": [
    "df3= pd.concat([df2, dfu]).drop_duplicates(keep=False)"
   ]
  },
  {
   "cell_type": "code",
   "execution_count": 49,
   "metadata": {},
   "outputs": [
    {
     "name": "stdout",
     "output_type": "stream",
     "text": [
      "negative:  0  positive: 45213 total 45213 percent deceptive 0.0\n"
     ]
    }
   ],
   "source": [
    "pos=0 \n",
    "neg = 0\n",
    "for x in df3['label']:\n",
    "    if x == -1:\n",
    "        neg+=1\n",
    "    else:\n",
    "        pos+=1\n",
    "print ('negative: ', neg , ' positive:' , pos, 'total', neg+pos,'percent deceptive', neg*100.0/(neg+pos)) "
   ]
  },
  {
   "cell_type": "code",
   "execution_count": 50,
   "metadata": {},
   "outputs": [],
   "source": [
    "# split using genuine\n",
    "perc=(1- len(Y_train_all)/len(df3))\n",
    "Train_X_oneclass, Test_X_oneclass = model_selection.train_test_split((df3.loc[(df['label'] == 1)]).text_final,test_size=perc)"
   ]
  },
  {
   "cell_type": "code",
   "execution_count": 51,
   "metadata": {},
   "outputs": [
    {
     "data": {
      "text/plain": [
       "(11397,)"
      ]
     },
     "execution_count": 51,
     "metadata": {},
     "output_type": "execute_result"
    }
   ],
   "source": [
    "Train_X_oneclass.shape"
   ]
  },
  {
   "cell_type": "code",
   "execution_count": 52,
   "metadata": {},
   "outputs": [],
   "source": [
    "# max_features = 100;\n",
    "# while max_features < 5000:\n",
    "#     Tfidf_vect = TfidfVectorizer(max_features=max_features)        \n",
    "#     Tfidf_vect.fit(df['text_final'])\n",
    "#     Train_X_Tfidf = Tfidf_vect.transform(Train_X)\n",
    "#     Test_X_Tfidf = Tfidf_vect.transform(Test_X)\n",
    "#     Train_X_Tfidf_dec = Tfidf_vect.transform(Train_X_dec)\n",
    "#     Test_X_Tfidf_dec = Tfidf_vect.transform(Test_X_oc_all['text_final'])\n",
    "#     one_class_train = Tfidf_vect.transform(Train_X_oneclass)\n",
    "    \n",
    "#     clf_result = OneClassSVM( kernel='poly', degree=2).fit(one_class_train)\n",
    "#     predict_result = clf_result.predict(Test_X_Tfidf_dec)\n",
    "#     acc = accuracy_score(predict_result*1, Test_X_oc_all['label'], normalize=True)\n",
    "#     metrics_result = precision_recall_fscore_support(Test_X_oc_all['label'], predict_result*1, average='weighted',zero_division=0)\n",
    "#     print('features used: ', max_features, ' accuracy: ', acc)\n",
    "#     print(\"percision: \", metrics_result[0], ' recall: ' , metrics_result[1], ' fscore: ', metrics_result[2], '\\n')  \n",
    "    \n",
    "#     max_features += 100"
   ]
  },
  {
   "cell_type": "code",
   "execution_count": 53,
   "metadata": {},
   "outputs": [],
   "source": [
    "one_class_train = Tfidf_vect.transform(Train_X_oneclass)"
   ]
  },
  {
   "cell_type": "code",
   "execution_count": 54,
   "metadata": {},
   "outputs": [
    {
     "data": {
      "text/plain": [
       "<11397x400 sparse matrix of type '<class 'numpy.float64'>'\n",
       "\twith 378736 stored elements in Compressed Sparse Row format>"
      ]
     },
     "execution_count": 54,
     "metadata": {},
     "output_type": "execute_result"
    }
   ],
   "source": [
    "one_class_train"
   ]
  },
  {
   "cell_type": "code",
   "execution_count": 55,
   "metadata": {},
   "outputs": [
    {
     "name": "stdout",
     "output_type": "stream",
     "text": [
      "kernel used:  linear  elapsed_time:  5.620898246765137\n",
      "kernel used:  poly  degree used:  0  elapsed_time: 32.24312901496887\n",
      "kernel used:  poly  degree used:  1  elapsed_time: 58.96566104888916\n",
      "kernel used:  poly  degree used:  2  elapsed_time: 60.076799392700195\n",
      "kernel used:  poly  degree used:  3  elapsed_time: 65.09239649772644\n",
      "kernel used:  poly  degree used:  5  elapsed_time: 223.27369785308838\n",
      "kernel used:  poly  degree used:  7  elapsed_time: 220.8226420879364\n",
      "kernel used:  poly  degree used:  9  elapsed_time: 218.18938565254211\n",
      "kernel used:  rbf  elapsed_time:  4.273554086685181\n",
      "kernel used:  sigmoid  elapsed_time:  4.207171440124512\n"
     ]
    }
   ],
   "source": [
    "# fit the training dataset on the classifier\n",
    "kernels = ['linear', 'poly', 'rbf', 'sigmoid']\n",
    "degrees = [0,1,2,3]\n",
    "classifiers = []\n",
    "for kern in kernels:\n",
    "    start_time = time.time()\n",
    "    if kern == 'poly':\n",
    "        for deg in degrees:\n",
    "            start_time = time.time()\n",
    "            clf_result = OneClassSVM( kernel=kern, degree=deg).fit(one_class_train)\n",
    "            elapsed_time = time.time() - start_time\n",
    "            classifiers.append([kern,deg,clf_result,elapsed_time])\n",
    "            print('kernel used: ' , kern, ' degree used: ' , deg, ' elapsed_time:' , elapsed_time)\n",
    "            \n",
    "    else:\n",
    "        clf_result = OneClassSVM(gamma='auto', kernel=kern).fit(Train_X_Tfidf_dec)\n",
    "        elapsed_time = time.time() - start_time\n",
    "        classifiers.append([kern,0,clf_result,elapsed_time])\n",
    "        print('kernel used: ' , kern, ' elapsed_time: ' , elapsed_time)\n",
    "\n",
    "# predict the labels on validation dataset"
   ]
  },
  {
   "cell_type": "code",
   "execution_count": 71,
   "metadata": {},
   "outputs": [
    {
     "name": "stdout",
     "output_type": "stream",
     "text": [
      "kernel used:  linear  degree used: 0  elapsed_time:  2.5374674797058105  accuracy:  0.5471852610030706\n",
      "percision:  0.5464627151051625  recall:  0.5820773930753564  fscore:  0.5637080867850099 \n",
      "\n",
      "kernel used:  poly  degree used: 0  elapsed_time:  12.72238302230835  accuracy:  0.49744114636642783\n",
      "percision:  0.0  recall:  0.0  fscore:  0.0 \n",
      "\n",
      "kernel used:  poly  degree used: 1  elapsed_time:  14.239993572235107  accuracy:  0.5707267144319345\n",
      "percision:  0.5861405197305101  recall:  0.4961303462321792  fscore:  0.5373924553275976 \n",
      "\n",
      "kernel used:  poly  degree used: 2  elapsed_time:  14.941925764083862  accuracy:  0.5690890481064483\n",
      "percision:  0.5863770977295163  recall:  0.4839103869653768  fscore:  0.5302387859852712 \n",
      "\n",
      "kernel used:  poly  degree used: 3  elapsed_time:  14.786422729492188  accuracy:  0.5643807574206755\n",
      "percision:  0.5887140531741726  recall:  0.4419551934826884  fscore:  0.504885993485342 \n",
      "\n",
      "kernel used:  poly  degree used: 5  elapsed_time:  23.518736124038696  accuracy:  0.5021494370522006\n",
      "percision:  0.5365079365079365  recall:  0.06883910386965376  fscore:  0.1220216606498195 \n",
      "\n",
      "kernel used:  poly  degree used: 7  elapsed_time:  25.60914421081543  accuracy:  0.49825997952917095\n",
      "percision:  0.5333333333333333  recall:  0.013034623217922607  fscore:  0.025447316103379726 \n",
      "\n",
      "kernel used:  poly  degree used: 9  elapsed_time:  26.088345527648926  accuracy:  0.49744114636642783\n",
      "percision:  0.5  recall:  0.001629327902240326  fscore:  0.0032480714575720666 \n",
      "\n",
      "kernel used:  rbf  degree used: 0  elapsed_time:  3.4477076530456543  accuracy:  0.5467758444216991\n",
      "percision:  0.5460803059273422  recall:  0.5816700610997964  fscore:  0.5633136094674556 \n",
      "\n",
      "kernel used:  sigmoid  degree used: 0  elapsed_time:  2.972766637802124  accuracy:  0.5475946775844421\n",
      "percision:  0.5468451242829828  recall:  0.5824847250509165  fscore:  0.5641025641025641 \n",
      "\n"
     ]
    }
   ],
   "source": [
    "clas_result = []\n",
    "for clas in classifiers:\n",
    "    start_time = time.time()\n",
    "    predict_result = clas[2].predict(Test_X_Tfidf_dec)\n",
    "    elapsed_time = time.time() - start_time\n",
    "    clas_result.append([clas[0],clas[1],clas[2],predict_result])\n",
    "    acc = accuracy_score(predict_result*1, Test_X_oc_all['label'], normalize=True)\n",
    "    metrics_result = precision_recall_fscore_support(Test_X_oc_all['label'], predict_result*1, average='binary',zero_division=0)\n",
    "    print('kernel used: ' , clas[0], ' degree used:' , clas[1], ' elapsed_time: ' , elapsed_time, ' accuracy: ', acc)\n",
    "    print(\"percision: \", metrics_result[0], ' recall: ' , metrics_result[1], ' fscore: ', metrics_result[2], '\\n')  \n",
    "# predict the labels on validation dataset"
   ]
  },
  {
   "cell_type": "code",
   "execution_count": 57,
   "metadata": {},
   "outputs": [
    {
     "data": {
      "text/plain": [
       "<AxesSubplot:>"
      ]
     },
     "execution_count": 57,
     "metadata": {},
     "output_type": "execute_result"
    },
    {
     "data": {
      "image/png": "[encoded data removed]",
      "text/plain": [
       "<Figure size 432x288 with 2 Axes>"
      ]
     },
     "metadata": {
      "needs_background": "light"
     },
     "output_type": "display_data"
    }
   ],
   "source": [
    "clf_result = OneClassSVM( kernel='poly', degree=2).fit(one_class_train)\n",
    "predict_result = clf_result.predict(Test_X_Tfidf_dec)\n",
    "\n",
    "cf_matrix=confusion_matrix(Test_X_oc_all['label'], predict_result*1)\n",
    "group_names = ['True Neg','False Pos','False Neg','True Pos']\n",
    "group_counts = [\"{0:0.0f}\".format(value) for value in\n",
    "                cf_matrix.flatten()]\n",
    "group_percentages = [\"{0:.2%}\".format(value) for value in\n",
    "                     cf_matrix.flatten()/np.sum(cf_matrix)]\n",
    "labels = [f\"{v1}\\n{v2}\\n{v3}\" for v1, v2, v3 in\n",
    "          zip(group_names,group_counts,group_percentages)]\n",
    "labels = np.asarray(labels).reshape(2,2)\n",
    "sns.heatmap(cf_matrix, annot=labels, fmt='', cmap='Blues')\n"
   ]
  },
  {
   "cell_type": "code",
   "execution_count": null,
   "metadata": {},
   "outputs": [],
   "source": [
    "import matplotlib\n",
    "import matplotlib.pyplot as plt\n",
    "import numpy as np\n",
    "\n",
    "\n",
    "labels = ['Accuracy', 'Elapsed Time']\n",
    "multi_class = [64.6, 219]\n",
    "one_class = [57.1, 72]\n",
    "\n",
    "x = np.arange(len(labels))  # the label locations\n",
    "width = 0.35  # the width of the bars\n",
    "\n",
    "fig, ax = plt.subplots()\n",
    "rects1 = ax.bar(x - width/2, men_means, width, label='Men')\n",
    "rects2 = ax.bar(x + width/2, women_means, width, label='Women')\n",
    "\n",
    "# Add some text for labels, title and custom x-axis tick labels, etc.\n",
    "ax.set_ylabel('Percent')\n",
    "ax.set_title('Yelp Chicago Resturant Results [multi-class vs. one-class SVM]')\n",
    "ax.set_xticks(x)\n",
    "ax.set_xticklabels(labels)\n",
    "ax.legend()\n",
    "\n",
    "\n",
    "def autolabel(rects):\n",
    "    \"\"\"Attach a text label above each bar in *rects*, displaying its height.\"\"\"\n",
    "    for rect in rects:\n",
    "        height = rect.get_height()\n",
    "        ax.annotate('{}'.format(height),\n",
    "                    xy=(rect.get_x() + rect.get_width() / 2, height),\n",
    "                    xytext=(0, 3),  # 3 points vertical offset\n",
    "                    textcoords=\"offset points\",\n",
    "                    ha='center', va='bottom')\n",
    "\n",
    "\n",
    "autolabel(rects1)\n",
    "autolabel(rects2)\n",
    "\n",
    "fig.tight_layout()\n",
    "\n",
    "plt.show()"
   ]
  },
  {
   "cell_type": "code",
   "execution_count": null,
   "metadata": {},
   "outputs": [],
   "source": []
  }
 ],
 "metadata": {
  "kernelspec": {
   "display_name": "Python 3",
   "language": "python",
   "name": "python3"
  },
  "language_info": {
   "codemirror_mode": {
    "name": "ipython",
    "version": 3
   },
   "file_extension": ".py",
   "mimetype": "text/x-python",
   "name": "python",
   "nbconvert_exporter": "python",
   "pygments_lexer": "ipython3",
   "version": "3.6.9"
  }
 },
 "nbformat": 4,
 "nbformat_minor": 2
}
