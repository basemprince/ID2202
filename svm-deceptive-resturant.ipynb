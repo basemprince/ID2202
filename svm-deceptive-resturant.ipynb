{
 "cells": [
  {
   "cell_type": "code",
   "execution_count": 1,
   "metadata": {},
   "outputs": [],
   "source": [
    "max_max = 400"
   ]
  },
  {
   "cell_type": "code",
   "execution_count": 2,
   "metadata": {},
   "outputs": [],
   "source": [
    "#!/usr/bin/python3\n",
    "from sklearn.svm import OneClassSVM\n",
    "import pandas as pd\n",
    "import feather\n",
    "from sklearn.model_selection import train_test_split\n",
    "from sklearn.model_selection import StratifiedShuffleSplit\n",
    "import numpy as np\n",
    "from nltk.tokenize import word_tokenize\n",
    "from nltk import pos_tag\n",
    "from nltk.corpus import stopwords\n",
    "from nltk.stem import WordNetLemmatizer\n",
    "from sklearn.preprocessing import LabelEncoder\n",
    "from collections import defaultdict\n",
    "from nltk.corpus import wordnet as wn\n",
    "from sklearn.feature_extraction.text import TfidfVectorizer\n",
    "from sklearn import model_selection, naive_bayes, svm\n",
    "from sklearn.metrics import accuracy_score\n",
    "import pickle\n",
    "np.random.seed(500)\n",
    "import time\n",
    "import matplotlib.pyplot as plt\n",
    "import seaborn as sns\n",
    "from imblearn.under_sampling import RandomUnderSampler\n",
    "from imblearn.over_sampling import RandomOverSampler\n",
    "import os"
   ]
  },
  {
   "cell_type": "code",
   "execution_count": 3,
   "metadata": {},
   "outputs": [],
   "source": [
    "from sklearn.model_selection import train_test_split\n",
    "from sklearn.model_selection import cross_val_score\n",
    "from sklearn.model_selection import StratifiedKFold\n",
    "from sklearn.metrics import classification_report\n",
    "from sklearn.metrics import confusion_matrix\n",
    "from sklearn.metrics import accuracy_score\n",
    "from sklearn.linear_model import LogisticRegression\n",
    "from sklearn.tree import DecisionTreeClassifier\n",
    "from sklearn.neighbors import KNeighborsClassifier\n",
    "from sklearn.discriminant_analysis import LinearDiscriminantAnalysis\n",
    "from sklearn.naive_bayes import GaussianNB\n",
    "from sklearn.svm import SVC\n",
    "from sklearn.ensemble import RandomForestClassifier\n",
    "from sklearn import metrics\n",
    "from pandas.api.types import CategoricalDtype\n",
    "from sklearn.preprocessing import StandardScaler\n",
    "from sklearn.metrics import precision_recall_fscore_support\n",
    "from sklearn.model_selection import StratifiedKFold"
   ]
  },
  {
   "cell_type": "code",
   "execution_count": 4,
   "metadata": {
    "scrolled": false
   },
   "outputs": [],
   "source": [
    "# from os import listdir\n",
    "# from os.path import isfile, join\n",
    "# dec_directory =\"/home/parallels/KTH/II2202/deception_dataset/restaurant/deceptive\"\n",
    "# genuine_directory = \"/home/parallels/KTH/II2202/deception_dataset/restaurant/truthful\"\n",
    "# deceptive_files = [f for f in listdir(dec_directory) if isfile(join(dec_directory, f))]\n",
    "# genuine_files = [f for f in listdir(genuine_directory) if isfile(join(genuine_directory, f))]\n",
    "# df_list = []\n",
    "\n",
    "# for deceit in deceptive_files:\n",
    "#     file_path = join( dec_directory, deceit )\n",
    "#     df_list.append(pd.read_table(file_path,header = None,sep= 'thisisimpossible',engine='python',error_bad_lines=False,index_col=False ).assign(label=-1))\n",
    "\n",
    "\n",
    "# for genuine in genuine_files:\n",
    "#     file_path = join( genuine_directory, genuine )\n",
    "#     df_list.append(pd.read_table(file_path,header = None,sep= 'thisisimpossible',engine='python',error_bad_lines=False,index_col=False ).assign(label=1))\n",
    "\n",
    "    \n",
    "# df = pd.concat(df_list, ignore_index=True)\n",
    "\n",
    "\n",
    "# # df = pd.read_table(\"Data/YelpChi/output_review_yelpHotelData_NRYRcleaned.txt\",header=None)\n",
    "# # df2 = pd.read_table(\"Data/YelpChi/output_meta_yelpHotelData_NRYRcleaned.txt\",header=None, sep=\" \")\n",
    "# # df['label'] =  df2[4]\n",
    "# # df['label'] = df['label'].replace(['N'],1)\n",
    "# # df['label'] = df['label'].replace(['Y'],-1)\n",
    "# df.columns = ['review_content', 'label']\n",
    "\n",
    "\n",
    "pickle_in = open(\"df_restaurant.pickle\",\"rb\")\n",
    "df = pickle.load(pickle_in)"
   ]
  },
  {
   "cell_type": "code",
   "execution_count": 5,
   "metadata": {
    "scrolled": true
   },
   "outputs": [
    {
     "data": {
      "text/html": [
       "<div>\n",
       "<style scoped>\n",
       "    .dataframe tbody tr th:only-of-type {\n",
       "        vertical-align: middle;\n",
       "    }\n",
       "\n",
       "    .dataframe tbody tr th {\n",
       "        vertical-align: top;\n",
       "    }\n",
       "\n",
       "    .dataframe thead th {\n",
       "        text-align: right;\n",
       "    }\n",
       "</style>\n",
       "<table border=\"1\" class=\"dataframe\">\n",
       "  <thead>\n",
       "    <tr style=\"text-align: right;\">\n",
       "      <th></th>\n",
       "      <th>review_content</th>\n",
       "      <th>label</th>\n",
       "      <th>tokenized</th>\n",
       "      <th>text_final</th>\n",
       "    </tr>\n",
       "  </thead>\n",
       "  <tbody>\n",
       "    <tr>\n",
       "      <th>0</th>\n",
       "      <td>whether you are tourist looking to venture the...</td>\n",
       "      <td>-1</td>\n",
       "      <td>[whether, you, are, tourist, looking, to, vent...</td>\n",
       "      <td>['whether', 'tourist', 'look', 'venture', 'chi...</td>\n",
       "    </tr>\n",
       "    <tr>\n",
       "      <th>1</th>\n",
       "      <td>weber grill restaurant is my family's favorite...</td>\n",
       "      <td>-1</td>\n",
       "      <td>[weber, grill, restaurant, is, my, family, 's,...</td>\n",
       "      <td>['weber', 'grill', 'restaurant', 'family', 'fa...</td>\n",
       "    </tr>\n",
       "    <tr>\n",
       "      <th>2</th>\n",
       "      <td>wow. i had an incredible night at the signatur...</td>\n",
       "      <td>-1</td>\n",
       "      <td>[wow, ., i, had, an, incredible, night, at, th...</td>\n",
       "      <td>['wow', 'incredible', 'night', 'signature', 'r...</td>\n",
       "    </tr>\n",
       "    <tr>\n",
       "      <th>3</th>\n",
       "      <td>fontera grill is one of my favorite places to ...</td>\n",
       "      <td>-1</td>\n",
       "      <td>[fontera, grill, is, one, of, my, favorite, pl...</td>\n",
       "      <td>['fontera', 'grill', 'one', 'favorite', 'place...</td>\n",
       "    </tr>\n",
       "    <tr>\n",
       "      <th>4</th>\n",
       "      <td>i started my evening out with an appetizer. i ...</td>\n",
       "      <td>-1</td>\n",
       "      <td>[i, started, my, evening, out, with, an, appet...</td>\n",
       "      <td>['start', 'even', 'appetizer', 'go', 'broccoli...</td>\n",
       "    </tr>\n",
       "    <tr>\n",
       "      <th>...</th>\n",
       "      <td>...</td>\n",
       "      <td>...</td>\n",
       "      <td>...</td>\n",
       "      <td>...</td>\n",
       "    </tr>\n",
       "    <tr>\n",
       "      <th>397</th>\n",
       "      <td>chicago \"top 10\" - signature room makes this l...</td>\n",
       "      <td>1</td>\n",
       "      <td>[chicago, ``, top, 10, '', -, signature, room,...</td>\n",
       "      <td>['chicago', 'top', 'signature', 'room', 'make'...</td>\n",
       "    </tr>\n",
       "    <tr>\n",
       "      <th>398</th>\n",
       "      <td>going up to the 95th floor and enjoying the vi...</td>\n",
       "      <td>1</td>\n",
       "      <td>[going, up, to, the, 95th, floor, and, enjoyin...</td>\n",
       "      <td>['go', 'floor', 'enjoy', 'view', 'chicago', 'r...</td>\n",
       "    </tr>\n",
       "    <tr>\n",
       "      <th>399</th>\n",
       "      <td>we enjoy our annual post thanksgiving chicago ...</td>\n",
       "      <td>1</td>\n",
       "      <td>[we, enjoy, our, annual, post, thanksgiving, c...</td>\n",
       "      <td>['enjoy', 'annual', 'post', 'thanksgiving', 'c...</td>\n",
       "    </tr>\n",
       "    <tr>\n",
       "      <th>400</th>\n",
       "      <td>service is quick without rushing. homemade tor...</td>\n",
       "      <td>1</td>\n",
       "      <td>[service, is, quick, without, rushing, ., home...</td>\n",
       "      <td>['service', 'quick', 'without', 'rush', 'homem...</td>\n",
       "    </tr>\n",
       "    <tr>\n",
       "      <th>401</th>\n",
       "      <td>we came across this when we ran a search on tr...</td>\n",
       "      <td>1</td>\n",
       "      <td>[we, came, across, this, when, we, ran, a, sea...</td>\n",
       "      <td>['come', 'across', 'run', 'search', 'tripadvis...</td>\n",
       "    </tr>\n",
       "  </tbody>\n",
       "</table>\n",
       "<p>402 rows × 4 columns</p>\n",
       "</div>"
      ],
      "text/plain": [
       "                                        review_content  label  \\\n",
       "0    whether you are tourist looking to venture the...     -1   \n",
       "1    weber grill restaurant is my family's favorite...     -1   \n",
       "2    wow. i had an incredible night at the signatur...     -1   \n",
       "3    fontera grill is one of my favorite places to ...     -1   \n",
       "4    i started my evening out with an appetizer. i ...     -1   \n",
       "..                                                 ...    ...   \n",
       "397  chicago \"top 10\" - signature room makes this l...      1   \n",
       "398  going up to the 95th floor and enjoying the vi...      1   \n",
       "399  we enjoy our annual post thanksgiving chicago ...      1   \n",
       "400  service is quick without rushing. homemade tor...      1   \n",
       "401  we came across this when we ran a search on tr...      1   \n",
       "\n",
       "                                             tokenized  \\\n",
       "0    [whether, you, are, tourist, looking, to, vent...   \n",
       "1    [weber, grill, restaurant, is, my, family, 's,...   \n",
       "2    [wow, ., i, had, an, incredible, night, at, th...   \n",
       "3    [fontera, grill, is, one, of, my, favorite, pl...   \n",
       "4    [i, started, my, evening, out, with, an, appet...   \n",
       "..                                                 ...   \n",
       "397  [chicago, ``, top, 10, '', -, signature, room,...   \n",
       "398  [going, up, to, the, 95th, floor, and, enjoyin...   \n",
       "399  [we, enjoy, our, annual, post, thanksgiving, c...   \n",
       "400  [service, is, quick, without, rushing, ., home...   \n",
       "401  [we, came, across, this, when, we, ran, a, sea...   \n",
       "\n",
       "                                            text_final  \n",
       "0    ['whether', 'tourist', 'look', 'venture', 'chi...  \n",
       "1    ['weber', 'grill', 'restaurant', 'family', 'fa...  \n",
       "2    ['wow', 'incredible', 'night', 'signature', 'r...  \n",
       "3    ['fontera', 'grill', 'one', 'favorite', 'place...  \n",
       "4    ['start', 'even', 'appetizer', 'go', 'broccoli...  \n",
       "..                                                 ...  \n",
       "397  ['chicago', 'top', 'signature', 'room', 'make'...  \n",
       "398  ['go', 'floor', 'enjoy', 'view', 'chicago', 'r...  \n",
       "399  ['enjoy', 'annual', 'post', 'thanksgiving', 'c...  \n",
       "400  ['service', 'quick', 'without', 'rush', 'homem...  \n",
       "401  ['come', 'across', 'run', 'search', 'tripadvis...  \n",
       "\n",
       "[402 rows x 4 columns]"
      ]
     },
     "execution_count": 5,
     "metadata": {},
     "output_type": "execute_result"
    }
   ],
   "source": [
    "df"
   ]
  },
  {
   "cell_type": "code",
   "execution_count": 6,
   "metadata": {},
   "outputs": [
    {
     "name": "stdout",
     "output_type": "stream",
     "text": [
      "negative:  202  positive: 200 total 402 percent deceptive 50.24875621890547\n"
     ]
    }
   ],
   "source": [
    "pos=0 \n",
    "neg = 0\n",
    "\n",
    "for x in df['label']:\n",
    "    if x == -1:\n",
    "        neg+=1\n",
    "    else:\n",
    "        pos+=1\n",
    "print ('negative: ', neg , ' positive:' , pos, 'total', neg+pos,'percent deceptive', neg*100.0/(neg+pos)) "
   ]
  },
  {
   "cell_type": "code",
   "execution_count": 7,
   "metadata": {},
   "outputs": [],
   "source": [
    "#file_path = '/home/parallels/KTH/II2202/Data/YelpNYC/database_feather.feather'\n",
    "#df = pd.read_feather(file_path, columns=None, use_threads=True)"
   ]
  },
  {
   "cell_type": "code",
   "execution_count": 8,
   "metadata": {},
   "outputs": [
    {
     "data": {
      "text/plain": [
       "review_content    object\n",
       "label              int64\n",
       "tokenized         object\n",
       "text_final        object\n",
       "dtype: object"
      ]
     },
     "execution_count": 8,
     "metadata": {},
     "output_type": "execute_result"
    }
   ],
   "source": [
    "df.dtypes"
   ]
  },
  {
   "cell_type": "code",
   "execution_count": 9,
   "metadata": {},
   "outputs": [
    {
     "data": {
      "text/html": [
       "<div>\n",
       "<style scoped>\n",
       "    .dataframe tbody tr th:only-of-type {\n",
       "        vertical-align: middle;\n",
       "    }\n",
       "\n",
       "    .dataframe tbody tr th {\n",
       "        vertical-align: top;\n",
       "    }\n",
       "\n",
       "    .dataframe thead th {\n",
       "        text-align: right;\n",
       "    }\n",
       "</style>\n",
       "<table border=\"1\" class=\"dataframe\">\n",
       "  <thead>\n",
       "    <tr style=\"text-align: right;\">\n",
       "      <th></th>\n",
       "      <th>label</th>\n",
       "    </tr>\n",
       "  </thead>\n",
       "  <tbody>\n",
       "    <tr>\n",
       "      <th>count</th>\n",
       "      <td>402.000000</td>\n",
       "    </tr>\n",
       "    <tr>\n",
       "      <th>mean</th>\n",
       "      <td>-0.004975</td>\n",
       "    </tr>\n",
       "    <tr>\n",
       "      <th>std</th>\n",
       "      <td>1.001234</td>\n",
       "    </tr>\n",
       "    <tr>\n",
       "      <th>min</th>\n",
       "      <td>-1.000000</td>\n",
       "    </tr>\n",
       "    <tr>\n",
       "      <th>25%</th>\n",
       "      <td>-1.000000</td>\n",
       "    </tr>\n",
       "    <tr>\n",
       "      <th>50%</th>\n",
       "      <td>-1.000000</td>\n",
       "    </tr>\n",
       "    <tr>\n",
       "      <th>75%</th>\n",
       "      <td>1.000000</td>\n",
       "    </tr>\n",
       "    <tr>\n",
       "      <th>max</th>\n",
       "      <td>1.000000</td>\n",
       "    </tr>\n",
       "  </tbody>\n",
       "</table>\n",
       "</div>"
      ],
      "text/plain": [
       "            label\n",
       "count  402.000000\n",
       "mean    -0.004975\n",
       "std      1.001234\n",
       "min     -1.000000\n",
       "25%     -1.000000\n",
       "50%     -1.000000\n",
       "75%      1.000000\n",
       "max      1.000000"
      ]
     },
     "execution_count": 9,
     "metadata": {},
     "output_type": "execute_result"
    }
   ],
   "source": [
    "df.describe()"
   ]
  },
  {
   "cell_type": "code",
   "execution_count": 10,
   "metadata": {},
   "outputs": [],
   "source": [
    "# # Step - a : Remove blank rows if any.\n",
    "# df['review_content'].dropna(inplace=True)"
   ]
  },
  {
   "cell_type": "code",
   "execution_count": 11,
   "metadata": {},
   "outputs": [],
   "source": [
    "# # Step - b : Change all the text to lower case\n",
    "# df['review_content'] = [entry.lower() for entry in df['review_content']]"
   ]
  },
  {
   "cell_type": "code",
   "execution_count": 12,
   "metadata": {},
   "outputs": [],
   "source": [
    "# # Step - c : Tokenization : In this each entry in the corpus will be broken into set of words\n",
    "# # tokenized = []\n",
    "# # for index,entry in enumerate(genuine['review_content']): \n",
    "# #     genuine.loc[index,'tokenized'] = [word_tokenize(entry)]\n",
    "# #     percent = index/len(genuine)*100\n",
    "# #     print('percent done [%d%%]\\r'%percent, end=\"\")\n",
    "# df['tokenized']= [word_tokenize(entry) for entry in df['review_content']]"
   ]
  },
  {
   "cell_type": "code",
   "execution_count": 13,
   "metadata": {},
   "outputs": [],
   "source": [
    "# # Step - d : Remove Stop words, Non-Numeric and perfom Word Stemming/Lemmenting.\n",
    "# # WordNetLemmatizer requires Pos tags to understand if the word is noun or verb or adjective etc. By default it is set to Noun\n",
    "# tag_map = defaultdict(lambda : wn.NOUN)\n",
    "# tag_map['J'] = wn.ADJ\n",
    "# tag_map['V'] = wn.VERB\n",
    "# tag_map['R'] = wn.ADV\n",
    "# final_text = [None]*len(df['tokenized'])\n",
    "# for index,entry in enumerate(df['tokenized']):\n",
    "#     # Declaring Empty List to store the words that follow the rules for this step\n",
    "#     Final_words = []\n",
    "#     # Initializing WordNetLemmatizer()\n",
    "#     percent = float(index/len(df['tokenized'])*100)\n",
    "\n",
    "#     print('percent done [%f%%]\\r'%percent, end=\"\")\n",
    "#     word_Lemmatized = WordNetLemmatizer()\n",
    "#     # pos_tag function below will provide the 'tag' i.e if the word is Noun(N) or Verb(V) or something else.\n",
    "#     for word, tag in pos_tag(entry):\n",
    "#         # Below condition is to check for Stop words and consider only alphabets\n",
    "#         if word not in stopwords.words('english') and word.isalpha():\n",
    "#             word_Final = word_Lemmatized.lemmatize(word,tag_map[tag[0]])\n",
    "#             Final_words.append(word_Final)\n",
    "#     # The final processed set of words for each iteration will be stored in 'text_final'\n",
    "#     df.loc[index,'text_final'] = str(Final_words)\n",
    "#     final_text[index]=(Final_words)\n",
    "    \n"
   ]
  },
  {
   "cell_type": "code",
   "execution_count": 14,
   "metadata": {},
   "outputs": [],
   "source": [
    "# #to save the preporcessed list\n",
    "\n",
    "# pickle_out = open(\"df_restaurant.pickle\",\"wb\")\n",
    "# pickle.dump(df, pickle_out)\n",
    "# pickle_out.close()"
   ]
  },
  {
   "cell_type": "code",
   "execution_count": 15,
   "metadata": {},
   "outputs": [
    {
     "data": {
      "text/html": [
       "<div>\n",
       "<style scoped>\n",
       "    .dataframe tbody tr th:only-of-type {\n",
       "        vertical-align: middle;\n",
       "    }\n",
       "\n",
       "    .dataframe tbody tr th {\n",
       "        vertical-align: top;\n",
       "    }\n",
       "\n",
       "    .dataframe thead th {\n",
       "        text-align: right;\n",
       "    }\n",
       "</style>\n",
       "<table border=\"1\" class=\"dataframe\">\n",
       "  <thead>\n",
       "    <tr style=\"text-align: right;\">\n",
       "      <th></th>\n",
       "      <th>review_content</th>\n",
       "      <th>label</th>\n",
       "      <th>tokenized</th>\n",
       "      <th>text_final</th>\n",
       "    </tr>\n",
       "  </thead>\n",
       "  <tbody>\n",
       "    <tr>\n",
       "      <th>0</th>\n",
       "      <td>whether you are tourist looking to venture the...</td>\n",
       "      <td>-1</td>\n",
       "      <td>[whether, you, are, tourist, looking, to, vent...</td>\n",
       "      <td>['whether', 'tourist', 'look', 'venture', 'chi...</td>\n",
       "    </tr>\n",
       "    <tr>\n",
       "      <th>1</th>\n",
       "      <td>weber grill restaurant is my family's favorite...</td>\n",
       "      <td>-1</td>\n",
       "      <td>[weber, grill, restaurant, is, my, family, 's,...</td>\n",
       "      <td>['weber', 'grill', 'restaurant', 'family', 'fa...</td>\n",
       "    </tr>\n",
       "    <tr>\n",
       "      <th>2</th>\n",
       "      <td>wow. i had an incredible night at the signatur...</td>\n",
       "      <td>-1</td>\n",
       "      <td>[wow, ., i, had, an, incredible, night, at, th...</td>\n",
       "      <td>['wow', 'incredible', 'night', 'signature', 'r...</td>\n",
       "    </tr>\n",
       "    <tr>\n",
       "      <th>3</th>\n",
       "      <td>fontera grill is one of my favorite places to ...</td>\n",
       "      <td>-1</td>\n",
       "      <td>[fontera, grill, is, one, of, my, favorite, pl...</td>\n",
       "      <td>['fontera', 'grill', 'one', 'favorite', 'place...</td>\n",
       "    </tr>\n",
       "    <tr>\n",
       "      <th>4</th>\n",
       "      <td>i started my evening out with an appetizer. i ...</td>\n",
       "      <td>-1</td>\n",
       "      <td>[i, started, my, evening, out, with, an, appet...</td>\n",
       "      <td>['start', 'even', 'appetizer', 'go', 'broccoli...</td>\n",
       "    </tr>\n",
       "    <tr>\n",
       "      <th>...</th>\n",
       "      <td>...</td>\n",
       "      <td>...</td>\n",
       "      <td>...</td>\n",
       "      <td>...</td>\n",
       "    </tr>\n",
       "    <tr>\n",
       "      <th>397</th>\n",
       "      <td>chicago \"top 10\" - signature room makes this l...</td>\n",
       "      <td>1</td>\n",
       "      <td>[chicago, ``, top, 10, '', -, signature, room,...</td>\n",
       "      <td>['chicago', 'top', 'signature', 'room', 'make'...</td>\n",
       "    </tr>\n",
       "    <tr>\n",
       "      <th>398</th>\n",
       "      <td>going up to the 95th floor and enjoying the vi...</td>\n",
       "      <td>1</td>\n",
       "      <td>[going, up, to, the, 95th, floor, and, enjoyin...</td>\n",
       "      <td>['go', 'floor', 'enjoy', 'view', 'chicago', 'r...</td>\n",
       "    </tr>\n",
       "    <tr>\n",
       "      <th>399</th>\n",
       "      <td>we enjoy our annual post thanksgiving chicago ...</td>\n",
       "      <td>1</td>\n",
       "      <td>[we, enjoy, our, annual, post, thanksgiving, c...</td>\n",
       "      <td>['enjoy', 'annual', 'post', 'thanksgiving', 'c...</td>\n",
       "    </tr>\n",
       "    <tr>\n",
       "      <th>400</th>\n",
       "      <td>service is quick without rushing. homemade tor...</td>\n",
       "      <td>1</td>\n",
       "      <td>[service, is, quick, without, rushing, ., home...</td>\n",
       "      <td>['service', 'quick', 'without', 'rush', 'homem...</td>\n",
       "    </tr>\n",
       "    <tr>\n",
       "      <th>401</th>\n",
       "      <td>we came across this when we ran a search on tr...</td>\n",
       "      <td>1</td>\n",
       "      <td>[we, came, across, this, when, we, ran, a, sea...</td>\n",
       "      <td>['come', 'across', 'run', 'search', 'tripadvis...</td>\n",
       "    </tr>\n",
       "  </tbody>\n",
       "</table>\n",
       "<p>402 rows × 4 columns</p>\n",
       "</div>"
      ],
      "text/plain": [
       "                                        review_content  label  \\\n",
       "0    whether you are tourist looking to venture the...     -1   \n",
       "1    weber grill restaurant is my family's favorite...     -1   \n",
       "2    wow. i had an incredible night at the signatur...     -1   \n",
       "3    fontera grill is one of my favorite places to ...     -1   \n",
       "4    i started my evening out with an appetizer. i ...     -1   \n",
       "..                                                 ...    ...   \n",
       "397  chicago \"top 10\" - signature room makes this l...      1   \n",
       "398  going up to the 95th floor and enjoying the vi...      1   \n",
       "399  we enjoy our annual post thanksgiving chicago ...      1   \n",
       "400  service is quick without rushing. homemade tor...      1   \n",
       "401  we came across this when we ran a search on tr...      1   \n",
       "\n",
       "                                             tokenized  \\\n",
       "0    [whether, you, are, tourist, looking, to, vent...   \n",
       "1    [weber, grill, restaurant, is, my, family, 's,...   \n",
       "2    [wow, ., i, had, an, incredible, night, at, th...   \n",
       "3    [fontera, grill, is, one, of, my, favorite, pl...   \n",
       "4    [i, started, my, evening, out, with, an, appet...   \n",
       "..                                                 ...   \n",
       "397  [chicago, ``, top, 10, '', -, signature, room,...   \n",
       "398  [going, up, to, the, 95th, floor, and, enjoyin...   \n",
       "399  [we, enjoy, our, annual, post, thanksgiving, c...   \n",
       "400  [service, is, quick, without, rushing, ., home...   \n",
       "401  [we, came, across, this, when, we, ran, a, sea...   \n",
       "\n",
       "                                            text_final  \n",
       "0    ['whether', 'tourist', 'look', 'venture', 'chi...  \n",
       "1    ['weber', 'grill', 'restaurant', 'family', 'fa...  \n",
       "2    ['wow', 'incredible', 'night', 'signature', 'r...  \n",
       "3    ['fontera', 'grill', 'one', 'favorite', 'place...  \n",
       "4    ['start', 'even', 'appetizer', 'go', 'broccoli...  \n",
       "..                                                 ...  \n",
       "397  ['chicago', 'top', 'signature', 'room', 'make'...  \n",
       "398  ['go', 'floor', 'enjoy', 'view', 'chicago', 'r...  \n",
       "399  ['enjoy', 'annual', 'post', 'thanksgiving', 'c...  \n",
       "400  ['service', 'quick', 'without', 'rush', 'homem...  \n",
       "401  ['come', 'across', 'run', 'search', 'tripadvis...  \n",
       "\n",
       "[402 rows x 4 columns]"
      ]
     },
     "execution_count": 15,
     "metadata": {},
     "output_type": "execute_result"
    }
   ],
   "source": [
    "df"
   ]
  },
  {
   "cell_type": "code",
   "execution_count": 16,
   "metadata": {},
   "outputs": [
    {
     "data": {
      "text/plain": [
       "(402, 1)"
      ]
     },
     "execution_count": 16,
     "metadata": {},
     "output_type": "execute_result"
    }
   ],
   "source": [
    "x = df['text_final'].values.reshape(-1,1)\n",
    "y = df['label'].values.reshape(-1,1)\n",
    "y.shape"
   ]
  },
  {
   "cell_type": "code",
   "execution_count": 17,
   "metadata": {},
   "outputs": [],
   "source": [
    "#undersample = RandomUnderSampler(sampling_strategy='majority')\n",
    "undersample = RandomUnderSampler(sampling_strategy='majority')\n",
    "#oversample = RandomOverSampler(sampling_strategy='minority')\n",
    "X_under, y_under = undersample.fit_resample(x, y)\n",
    "#X_over, y_over = oversample.fit_resample(X, df['label'])"
   ]
  },
  {
   "cell_type": "code",
   "execution_count": 18,
   "metadata": {},
   "outputs": [],
   "source": [
    "d = {'text_final':X_under[:,0],'label':y_under[:,]}\n",
    "dfu = pd.DataFrame(d)"
   ]
  },
  {
   "cell_type": "code",
   "execution_count": 19,
   "metadata": {
    "scrolled": true
   },
   "outputs": [
    {
     "data": {
      "text/html": [
       "<div>\n",
       "<style scoped>\n",
       "    .dataframe tbody tr th:only-of-type {\n",
       "        vertical-align: middle;\n",
       "    }\n",
       "\n",
       "    .dataframe tbody tr th {\n",
       "        vertical-align: top;\n",
       "    }\n",
       "\n",
       "    .dataframe thead th {\n",
       "        text-align: right;\n",
       "    }\n",
       "</style>\n",
       "<table border=\"1\" class=\"dataframe\">\n",
       "  <thead>\n",
       "    <tr style=\"text-align: right;\">\n",
       "      <th></th>\n",
       "      <th>text_final</th>\n",
       "      <th>label</th>\n",
       "    </tr>\n",
       "  </thead>\n",
       "  <tbody>\n",
       "    <tr>\n",
       "      <th>0</th>\n",
       "      <td>['overall', 'impression', 'joe', 'seafood', 'p...</td>\n",
       "      <td>-1</td>\n",
       "    </tr>\n",
       "    <tr>\n",
       "      <th>1</th>\n",
       "      <td>['ever', 'chicago', 'area', 'must', 'make', 'r...</td>\n",
       "      <td>-1</td>\n",
       "    </tr>\n",
       "    <tr>\n",
       "      <th>2</th>\n",
       "      <td>['restaurant', 'chicago', 'would', 'recommend'...</td>\n",
       "      <td>-1</td>\n",
       "    </tr>\n",
       "    <tr>\n",
       "      <th>3</th>\n",
       "      <td>['girlfriend', 'come', 'gibson', 'anniversary'...</td>\n",
       "      <td>-1</td>\n",
       "    </tr>\n",
       "    <tr>\n",
       "      <th>4</th>\n",
       "      <td>['family', 'hear', 'amazing', 'thing', 'shaw',...</td>\n",
       "      <td>-1</td>\n",
       "    </tr>\n",
       "    <tr>\n",
       "      <th>...</th>\n",
       "      <td>...</td>\n",
       "      <td>...</td>\n",
       "    </tr>\n",
       "    <tr>\n",
       "      <th>395</th>\n",
       "      <td>['chicago', 'top', 'signature', 'room', 'make'...</td>\n",
       "      <td>1</td>\n",
       "    </tr>\n",
       "    <tr>\n",
       "      <th>396</th>\n",
       "      <td>['go', 'floor', 'enjoy', 'view', 'chicago', 'r...</td>\n",
       "      <td>1</td>\n",
       "    </tr>\n",
       "    <tr>\n",
       "      <th>397</th>\n",
       "      <td>['enjoy', 'annual', 'post', 'thanksgiving', 'c...</td>\n",
       "      <td>1</td>\n",
       "    </tr>\n",
       "    <tr>\n",
       "      <th>398</th>\n",
       "      <td>['service', 'quick', 'without', 'rush', 'homem...</td>\n",
       "      <td>1</td>\n",
       "    </tr>\n",
       "    <tr>\n",
       "      <th>399</th>\n",
       "      <td>['come', 'across', 'run', 'search', 'tripadvis...</td>\n",
       "      <td>1</td>\n",
       "    </tr>\n",
       "  </tbody>\n",
       "</table>\n",
       "<p>400 rows × 2 columns</p>\n",
       "</div>"
      ],
      "text/plain": [
       "                                            text_final  label\n",
       "0    ['overall', 'impression', 'joe', 'seafood', 'p...     -1\n",
       "1    ['ever', 'chicago', 'area', 'must', 'make', 'r...     -1\n",
       "2    ['restaurant', 'chicago', 'would', 'recommend'...     -1\n",
       "3    ['girlfriend', 'come', 'gibson', 'anniversary'...     -1\n",
       "4    ['family', 'hear', 'amazing', 'thing', 'shaw',...     -1\n",
       "..                                                 ...    ...\n",
       "395  ['chicago', 'top', 'signature', 'room', 'make'...      1\n",
       "396  ['go', 'floor', 'enjoy', 'view', 'chicago', 'r...      1\n",
       "397  ['enjoy', 'annual', 'post', 'thanksgiving', 'c...      1\n",
       "398  ['service', 'quick', 'without', 'rush', 'homem...      1\n",
       "399  ['come', 'across', 'run', 'search', 'tripadvis...      1\n",
       "\n",
       "[400 rows x 2 columns]"
      ]
     },
     "execution_count": 19,
     "metadata": {},
     "output_type": "execute_result"
    }
   ],
   "source": [
    "dfu"
   ]
  },
  {
   "cell_type": "code",
   "execution_count": 20,
   "metadata": {},
   "outputs": [
    {
     "name": "stdout",
     "output_type": "stream",
     "text": [
      "negative:  200  positive: 200 total 400 percent deceptive 50.0\n"
     ]
    }
   ],
   "source": [
    "pos=0 \n",
    "neg = 0\n",
    "for x in dfu['label']:\n",
    "    if x == -1:\n",
    "        neg+=1\n",
    "    else:\n",
    "        pos+=1\n",
    "print ('negative: ', neg , ' positive:' , pos, 'total', neg+pos,'percent deceptive', neg*100.0/(neg+pos)) "
   ]
  },
  {
   "cell_type": "code",
   "execution_count": 21,
   "metadata": {},
   "outputs": [],
   "source": [
    "Train_X_oc_all, Test_X_oc_all = model_selection.train_test_split(dfu[['label','text_final']],test_size=0.3,stratify=dfu['label'])"
   ]
  },
  {
   "cell_type": "code",
   "execution_count": 22,
   "metadata": {},
   "outputs": [
    {
     "name": "stdout",
     "output_type": "stream",
     "text": [
      "negative:  60  positive: 60 total 120 percent deceptive 50.0\n"
     ]
    }
   ],
   "source": [
    "# check test genuine/deceptive\n",
    "pos=0 \n",
    "neg = 0\n",
    "\n",
    "for x in Test_X_oc_all['label']:\n",
    "    if x == -1:\n",
    "        neg+=1\n",
    "    else:\n",
    "        pos+=1\n",
    "print ('negative: ', neg , ' positive:' , pos, 'total', neg+pos,'percent deceptive', neg*100.0/(neg+pos)) "
   ]
  },
  {
   "cell_type": "code",
   "execution_count": 23,
   "metadata": {},
   "outputs": [],
   "source": [
    "# split using genuine\n",
    "Train_X, Test_X = model_selection.train_test_split((df.loc[(df['label'] == 1)]).text_final,test_size=0.3)\n"
   ]
  },
  {
   "cell_type": "code",
   "execution_count": 24,
   "metadata": {},
   "outputs": [
    {
     "data": {
      "text/plain": [
       "140"
      ]
     },
     "execution_count": 24,
     "metadata": {},
     "output_type": "execute_result"
    }
   ],
   "source": [
    "len(Train_X)"
   ]
  },
  {
   "cell_type": "code",
   "execution_count": 25,
   "metadata": {},
   "outputs": [],
   "source": [
    "#split using deceptive\n",
    "Train_X_dec, Test_X_dec = model_selection.train_test_split((Train_X_oc_all.loc[(dfu['label'] == -1)]).text_final,test_size=0.3)"
   ]
  },
  {
   "cell_type": "code",
   "execution_count": 26,
   "metadata": {},
   "outputs": [
    {
     "data": {
      "text/plain": [
       "TfidfVectorizer(max_features=400)"
      ]
     },
     "execution_count": 26,
     "metadata": {},
     "output_type": "execute_result"
    }
   ],
   "source": [
    "Tfidf_vect = TfidfVectorizer(max_features=max_max)        \n",
    "Tfidf_vect.fit(df['text_final'])"
   ]
  },
  {
   "cell_type": "code",
   "execution_count": 27,
   "metadata": {},
   "outputs": [],
   "source": [
    "#vectorizing genuine data\n",
    "Train_X_Tfidf = Tfidf_vect.transform(Train_X)\n",
    "Test_X_Tfidf = Tfidf_vect.transform(Test_X)"
   ]
  },
  {
   "cell_type": "code",
   "execution_count": 28,
   "metadata": {},
   "outputs": [],
   "source": [
    "# vectorizing deceptive data\n",
    "Train_X_Tfidf_dec = Tfidf_vect.transform(Train_X_dec)\n",
    "Test_X_Tfidf_dec = Tfidf_vect.transform(Test_X_oc_all['text_final'])"
   ]
  },
  {
   "cell_type": "code",
   "execution_count": 29,
   "metadata": {},
   "outputs": [],
   "source": [
    "# vectorizing all data\n",
    "Test_X_Tfidf_all = Tfidf_vect.transform(df['text_final'])"
   ]
  },
  {
   "cell_type": "code",
   "execution_count": 30,
   "metadata": {},
   "outputs": [
    {
     "data": {
      "text/plain": [
       "<140x400 sparse matrix of type '<class 'numpy.float64'>'\n",
       "\twith 5234 stored elements in Compressed Sparse Row format>"
      ]
     },
     "execution_count": 30,
     "metadata": {},
     "output_type": "execute_result"
    }
   ],
   "source": [
    "Train_X_Tfidf"
   ]
  },
  {
   "cell_type": "code",
   "execution_count": 31,
   "metadata": {},
   "outputs": [
    {
     "name": "stdout",
     "output_type": "stream",
     "text": [
      "elapsed_time 0.0055713653564453125\n"
     ]
    }
   ],
   "source": [
    "# fit the training dataset on the classifier using [deceptive]\n",
    "start_time = time.time()\n",
    "\n",
    "clf_dec = OneClassSVM(gamma='auto', kernel='rbf', degree=5).fit(Train_X_Tfidf_dec)\n",
    "elapsed_time = time.time() - start_time\n",
    "print('elapsed_time' , elapsed_time)\n",
    "# predict the labels on validation dataset"
   ]
  },
  {
   "cell_type": "code",
   "execution_count": 32,
   "metadata": {},
   "outputs": [
    {
     "name": "stdout",
     "output_type": "stream",
     "text": [
      "elapsed_time 0.004827976226806641\n"
     ]
    }
   ],
   "source": [
    "# predict using deceptive\n",
    "start_time = time.time()\n",
    "predictions_oneclass_dec = clf_dec.predict(Test_X_Tfidf_dec)\n",
    "#print(predictions_oneclass_dec)\n",
    "elapsed_time = time.time() - start_time\n",
    "print('elapsed_time' , elapsed_time)\n",
    "# Use accuracy_score function to get the accuracy"
   ]
  },
  {
   "cell_type": "code",
   "execution_count": 33,
   "metadata": {},
   "outputs": [
    {
     "name": "stdout",
     "output_type": "stream",
     "text": [
      "negative:  86  positive: 34\n"
     ]
    }
   ],
   "source": [
    "# deceptive predict count\n",
    "pos=0 \n",
    "neg = 0\n",
    "\n",
    "for x in predictions_oneclass_dec:\n",
    "    if x == -1:\n",
    "        neg+=1\n",
    "    else:\n",
    "        pos+=1\n",
    "print ('negative: ', neg , ' positive:' , pos)       "
   ]
  },
  {
   "cell_type": "code",
   "execution_count": 34,
   "metadata": {},
   "outputs": [
    {
     "name": "stdout",
     "output_type": "stream",
     "text": [
      "Accuracy Score ->  0.65\n",
      "percision:  0.6846785225718193  recall:  0.65  fscore:  0.6327601282424951\n"
     ]
    }
   ],
   "source": [
    "cf_matrix=confusion_matrix(Test_X_oc_all['label'], predictions_oneclass_dec*-1)\n",
    "metrics_result = precision_recall_fscore_support(Test_X_oc_all['label'], predictions_oneclass_dec*-1, average='weighted',zero_division=0)\n",
    "print(\"Accuracy Score -> \",accuracy_score(predictions_oneclass_dec*-1, Test_X_oc_all['label'], normalize=True))\n",
    "print(\"percision: \", metrics_result[0], ' recall: ' , metrics_result[1], ' fscore: ', metrics_result[2])\n",
    "#print(metrics.f1_score(Test_X_oc_all['label'], predictions_oneclass_dec*-1, average='weighted'))\n",
    "#sns.heatmap(cf_matrix, annot=True)"
   ]
  },
  {
   "cell_type": "code",
   "execution_count": 35,
   "metadata": {},
   "outputs": [
    {
     "data": {
      "text/plain": [
       "<AxesSubplot:>"
      ]
     },
     "execution_count": 35,
     "metadata": {},
     "output_type": "execute_result"
    },
    {
     "data": {
      "image/png": "[encoded data removed]",
      "text/plain": [
       "<Figure size 432x288 with 2 Axes>"
      ]
     },
     "metadata": {
      "needs_background": "light"
     },
     "output_type": "display_data"
    }
   ],
   "source": [
    "group_names = ['True Neg','False Pos','False Neg','True Pos']\n",
    "group_counts = [\"{0:0.0f}\".format(value) for value in\n",
    "                cf_matrix.flatten()]\n",
    "group_percentages = [\"{0:.2%}\".format(value) for value in\n",
    "                     cf_matrix.flatten()/np.sum(cf_matrix)]\n",
    "labels = [f\"{v1}\\n{v2}\\n{v3}\" for v1, v2, v3 in\n",
    "          zip(group_names,group_counts,group_percentages)]\n",
    "labels = np.asarray(labels).reshape(2,2)\n",
    "sns.heatmap(cf_matrix, annot=labels, fmt='', cmap='Blues')\n"
   ]
  },
  {
   "cell_type": "code",
   "execution_count": 36,
   "metadata": {},
   "outputs": [
    {
     "name": "stdout",
     "output_type": "stream",
     "text": [
      "elapsed_time 0.008001327514648438\n"
     ]
    }
   ],
   "source": [
    "# fit the training dataset on the classifier using [genuine]\n",
    "start_time = time.time()\n",
    "\n",
    "clf_gen = OneClassSVM(gamma='auto', kernel='poly', degree=1).fit(Train_X_Tfidf)\n",
    "elapsed_time = time.time() - start_time\n",
    "print('elapsed_time' , elapsed_time)\n",
    "# predict the labels on validation dataset"
   ]
  },
  {
   "cell_type": "code",
   "execution_count": 37,
   "metadata": {},
   "outputs": [
    {
     "name": "stdout",
     "output_type": "stream",
     "text": [
      "elapsed_time 0.004019737243652344\n"
     ]
    }
   ],
   "source": [
    "# predict using [genuine]\n",
    "start_time = time.time()\n",
    "predictions_oneclass_gen = clf_gen.predict(Test_X_Tfidf_dec)\n",
    "#print(predictions_oneclass_gen)\n",
    "elapsed_time = time.time() - start_time\n",
    "print('elapsed_time' , elapsed_time)\n",
    "# Use accuracy_score function to get the accuracy"
   ]
  },
  {
   "cell_type": "code",
   "execution_count": 38,
   "metadata": {},
   "outputs": [
    {
     "name": "stdout",
     "output_type": "stream",
     "text": [
      "negative:  69  positive: 51\n"
     ]
    }
   ],
   "source": [
    "# count of prediction using [genuine]\n",
    "pos=0 \n",
    "neg = 0\n",
    "\n",
    "for x in predictions_oneclass_gen:\n",
    "    if x == -1:\n",
    "        neg+=1\n",
    "    else:\n",
    "        pos+=1\n",
    "print ('negative: ', neg , ' positive:' , pos)   "
   ]
  },
  {
   "cell_type": "code",
   "execution_count": 39,
   "metadata": {},
   "outputs": [
    {
     "name": "stdout",
     "output_type": "stream",
     "text": [
      "Accuracy Score ->  0.575\n"
     ]
    }
   ],
   "source": [
    "print(\"Accuracy Score -> \",accuracy_score(predictions_oneclass_gen, Test_X_oc_all['label'], normalize=True))"
   ]
  },
  {
   "cell_type": "code",
   "execution_count": 40,
   "metadata": {},
   "outputs": [],
   "source": [
    "# # to save the classifier model\n",
    "\n",
    "# pickle_out = open(\"clf_oneclass.pickle\",\"wb\")\n",
    "# pickle.dump(clf, pickle_out)\n",
    "# pickle_out.close()"
   ]
  },
  {
   "cell_type": "code",
   "execution_count": 41,
   "metadata": {},
   "outputs": [],
   "source": [
    "X_train_all, X_validation_all, Y_train_all, Y_validation_all = train_test_split(Tfidf_vect.transform(dfu['text_final']), dfu['label'], test_size=0.65, random_state=1,stratify=dfu['label'] )"
   ]
  },
  {
   "cell_type": "code",
   "execution_count": 42,
   "metadata": {},
   "outputs": [
    {
     "name": "stdout",
     "output_type": "stream",
     "text": [
      "400 140\n"
     ]
    }
   ],
   "source": [
    "print(len(dfu['text_final']),len(Y_train_all))"
   ]
  },
  {
   "cell_type": "code",
   "execution_count": 43,
   "metadata": {},
   "outputs": [
    {
     "name": "stdout",
     "output_type": "stream",
     "text": [
      "negative:  70  positive: 70 total 140 percent deceptive 50.0\n"
     ]
    }
   ],
   "source": [
    "pos=0 \n",
    "neg = 0\n",
    "for x in Y_train_all:\n",
    "    if x == -1:\n",
    "        neg+=1\n",
    "    else:\n",
    "        pos+=1\n",
    "print ('negative: ', neg , ' positive:' , pos, 'total', neg+pos,'percent deceptive', neg*100.0/(neg+pos)) "
   ]
  },
  {
   "cell_type": "code",
   "execution_count": 44,
   "metadata": {},
   "outputs": [
    {
     "name": "stdout",
     "output_type": "stream",
     "text": [
      "Support Vector Machine: 0.771429 (0.053452) elapsed time: 0.058073\n",
      "Support Vector Machine: 0.728571 (0.066240) elapsed time: 0.053908\n",
      "Support Vector Machine: 0.764286 (0.066240) elapsed time: 0.055317\n",
      "the best model performer is:  Support Vector Machine\n"
     ]
    }
   ],
   "source": [
    "# classifier checker\n",
    "\n",
    "# your code\n",
    "models = []\n",
    "#models.append(['Logistic Regression', LogisticRegression(solver='liblinear', multi_class='ovr'),[],0,0])\n",
    "#models.append(['Linear Discriminant Analysis', LinearDiscriminantAnalysis(),[],0,0])\n",
    "#models.append(['K Nearest Neighbor', KNeighborsClassifier(),[],0,0])\n",
    "#models.append(['Decesion Tree Classifier', DecisionTreeClassifier(),[],0,0])\n",
    "#models.append(['Gaussien Naive Bayes', GaussianNB(),[],0,0])\n",
    "models.append(['Support Vector Machine', SVC(gamma='auto',kernel='rbf'),[],0,0])\n",
    "models.append(['Support Vector Machine', SVC(gamma='auto',kernel='poly'),[],0,0])\n",
    "models.append(['Support Vector Machine', SVC(gamma='auto',kernel='linear'),[],0,0])\n",
    "#models.append(['Random Forest', RandomForestClassifier(max_depth = 1000,random_state=1),[],0,0])\n",
    "\n",
    "models = np.array(models,dtype=object)\n",
    "\n",
    "for i in range(len(models)):\n",
    "    start_time = time.time()\n",
    "    #kfold = StratifiedKFold(n_splits=1, random_state=1, shuffle=True)\n",
    "    cv_results = cross_val_score(models[i,1], X_train_all, Y_train_all, scoring='accuracy')\n",
    "    models[i,2] = cv_results\n",
    "    models[i,3] = cv_results.mean()\n",
    "    models[i,4] = cv_results.std()\n",
    "    elapsed_time = time.time() - start_time\n",
    "    print('%s: %f (%f) elapsed time: %f' % (models[i,0], models[i,3], models[i,4],elapsed_time))\n",
    "    \n",
    "    \n",
    "\n",
    "best_model= models[np.argmax(models[:,3]),:]\n",
    "print(\"the best model performer is: \", best_model[0])"
   ]
  },
  {
   "cell_type": "code",
   "execution_count": 45,
   "metadata": {},
   "outputs": [],
   "source": [
    "clf_model=SVC(gamma='auto',kernel='linear',degree=2).fit(X_train_all, Y_train_all)"
   ]
  },
  {
   "cell_type": "code",
   "execution_count": 46,
   "metadata": {},
   "outputs": [],
   "source": [
    "result=clf_model.predict(X_validation_all)"
   ]
  },
  {
   "cell_type": "code",
   "execution_count": 47,
   "metadata": {},
   "outputs": [
    {
     "name": "stdout",
     "output_type": "stream",
     "text": [
      "negative:  124  positive: 136 total 260 percent deceptive 47.69230769230769\n"
     ]
    }
   ],
   "source": [
    "pos=0 \n",
    "neg = 0\n",
    "for x in result:\n",
    "    if x == -1:\n",
    "        neg+=1\n",
    "    else:\n",
    "        pos+=1\n",
    "print ('negative: ', neg , ' positive:' , pos, 'total', neg+pos,'percent deceptive', neg*100.0/(neg+pos)) "
   ]
  },
  {
   "cell_type": "code",
   "execution_count": 48,
   "metadata": {},
   "outputs": [
    {
     "name": "stdout",
     "output_type": "stream",
     "text": [
      "Accuracy Score ->  0.7615384615384615\n",
      "percision:  0.75  recall:  0.7846153846153846  fscore:  0.7669172932330828 \n",
      "\n"
     ]
    }
   ],
   "source": [
    "print(\"Accuracy Score -> \",accuracy_score(result, Y_validation_all, normalize=True))\n",
    "metrics_result = precision_recall_fscore_support(Y_validation_all, result, average='binary',zero_division=0)\n",
    "print(\"percision: \", metrics_result[0], ' recall: ' , metrics_result[1], ' fscore: ', metrics_result[2], '\\n') "
   ]
  },
  {
   "cell_type": "code",
   "execution_count": 49,
   "metadata": {},
   "outputs": [
    {
     "name": "stdout",
     "output_type": "stream",
     "text": [
      "kernel used:  linear  elapsed_time:  0.010189056396484375\n",
      "kernel used:  poly  degree used:  0  elapsed_time: 0.010638952255249023\n",
      "kernel used:  poly  degree used:  1  elapsed_time: 0.01566147804260254\n",
      "kernel used:  poly  degree used:  2  elapsed_time: 0.016019821166992188\n",
      "kernel used:  poly  degree used:  3  elapsed_time: 0.014362335205078125\n",
      "kernel used:  rbf  elapsed_time:  0.006768941879272461\n",
      "kernel used:  sigmoid  elapsed_time:  0.007247447967529297\n"
     ]
    }
   ],
   "source": [
    "# fit the training dataset on the classifier\n",
    "kernels = ['linear', 'poly', 'rbf', 'sigmoid']\n",
    "degrees = [0,1,2,3]\n",
    "classifiers = []\n",
    "for kern in kernels:\n",
    "    start_time = time.time()\n",
    "    if kern == 'poly':\n",
    "        for deg in degrees:\n",
    "            start_time = time.time()\n",
    "            clf_result = OneClassSVM( kernel=kern, degree=deg).fit(Train_X_Tfidf)\n",
    "            elapsed_time = time.time() - start_time\n",
    "            classifiers.append([kern,deg,clf_result,elapsed_time])\n",
    "            print('kernel used: ' , kern, ' degree used: ' , deg, ' elapsed_time:' , elapsed_time)\n",
    "            \n",
    "    else:\n",
    "        clf_result = OneClassSVM(gamma='auto', kernel=kern).fit(Train_X_Tfidf)\n",
    "        elapsed_time = time.time() - start_time\n",
    "        classifiers.append([kern,0,clf_result,elapsed_time])\n",
    "        print('kernel used: ' , kern, ' elapsed_time: ' , elapsed_time)\n",
    "\n",
    "# predict the labels on validation dataset"
   ]
  },
  {
   "cell_type": "code",
   "execution_count": 50,
   "metadata": {},
   "outputs": [
    {
     "name": "stdout",
     "output_type": "stream",
     "text": [
      "kernel used:  linear  degree used: 0  elapsed_time:  0.005759716033935547  accuracy:  0.525\n",
      "percision:  0.5306122448979592  recall:  0.43333333333333335  fscore:  0.47706422018348627 \n",
      "\n",
      "kernel used:  poly  degree used: 0  elapsed_time:  0.003771543502807617  accuracy:  0.5\n",
      "percision:  0.0  recall:  0.0  fscore:  0.0 \n",
      "\n",
      "kernel used:  poly  degree used: 1  elapsed_time:  0.005262136459350586  accuracy:  0.525\n",
      "percision:  0.5306122448979592  recall:  0.43333333333333335  fscore:  0.47706422018348627 \n",
      "\n",
      "kernel used:  poly  degree used: 2  elapsed_time:  0.006025552749633789  accuracy:  0.7416666666666667\n",
      "percision:  0.967741935483871  recall:  0.5  fscore:  0.6593406593406593 \n",
      "\n",
      "kernel used:  poly  degree used: 3  elapsed_time:  0.007590293884277344  accuracy:  0.6333333333333333\n",
      "percision:  1.0  recall:  0.26666666666666666  fscore:  0.4210526315789474 \n",
      "\n",
      "kernel used:  rbf  degree used: 0  elapsed_time:  0.0035407543182373047  accuracy:  0.55\n",
      "percision:  0.5555555555555556  recall:  0.5  fscore:  0.5263157894736842 \n",
      "\n",
      "kernel used:  sigmoid  degree used: 0  elapsed_time:  0.005444765090942383  accuracy:  0.575\n",
      "percision:  0.5882352941176471  recall:  0.5  fscore:  0.5405405405405405 \n",
      "\n"
     ]
    }
   ],
   "source": [
    "clas_result = []\n",
    "for clas in classifiers:\n",
    "    start_time = time.time()\n",
    "    predict_result = clas[2].predict(Test_X_Tfidf_dec)\n",
    "    elapsed_time = time.time() - start_time\n",
    "    clas_result.append([clas[0],clas[1],clas[2],predict_result])\n",
    "    acc = accuracy_score(predict_result*1, Test_X_oc_all['label'], normalize=True)\n",
    "    metrics_result = precision_recall_fscore_support(Test_X_oc_all['label'], predict_result*1, average='binary',zero_division=0)\n",
    "    print('kernel used: ' , clas[0], ' degree used:' , clas[1], ' elapsed_time: ' , elapsed_time, ' accuracy: ', acc)\n",
    "    print(\"percision: \", metrics_result[0], ' recall: ' , metrics_result[1], ' fscore: ', metrics_result[2], '\\n')  \n",
    "# predict the labels on validation dataset"
   ]
  },
  {
   "cell_type": "code",
   "execution_count": 51,
   "metadata": {},
   "outputs": [
    {
     "data": {
      "text/plain": [
       "<AxesSubplot:>"
      ]
     },
     "execution_count": 51,
     "metadata": {},
     "output_type": "execute_result"
    },
    {
     "data": {
      "image/png": "[encoded data removed]",
      "text/plain": [
       "<Figure size 432x288 with 2 Axes>"
      ]
     },
     "metadata": {
      "needs_background": "light"
     },
     "output_type": "display_data"
    }
   ],
   "source": [
    "clf_result = OneClassSVM( kernel='poly', degree=2).fit(Train_X_Tfidf)\n",
    "predict_result = clf_result.predict(Test_X_Tfidf_dec)\n",
    "\n",
    "cf_matrix=confusion_matrix(Test_X_oc_all['label'], predict_result*1)\n",
    "group_names = ['True Neg','False Pos','False Neg','True Pos']\n",
    "group_counts = [\"{0:0.0f}\".format(value) for value in\n",
    "                cf_matrix.flatten()]\n",
    "group_percentages = [\"{0:.2%}\".format(value) for value in\n",
    "                     cf_matrix.flatten()/np.sum(cf_matrix)]\n",
    "labels = [f\"{v1}\\n{v2}\\n{v3}\" for v1, v2, v3 in\n",
    "          zip(group_names,group_counts,group_percentages)]\n",
    "labels = np.asarray(labels).reshape(2,2)\n",
    "sns.heatmap(cf_matrix, annot=labels, fmt='', cmap='Blues')\n"
   ]
  },
  {
   "cell_type": "code",
   "execution_count": null,
   "metadata": {},
   "outputs": [],
   "source": []
  }
 ],
 "metadata": {
  "kernelspec": {
   "display_name": "Python 3",
   "language": "python",
   "name": "python3"
  },
  "language_info": {
   "codemirror_mode": {
    "name": "ipython",
    "version": 3
   },
   "file_extension": ".py",
   "mimetype": "text/x-python",
   "name": "python",
   "nbconvert_exporter": "python",
   "pygments_lexer": "ipython3",
   "version": "3.6.9"
  }
 },
 "nbformat": 4,
 "nbformat_minor": 2
}
