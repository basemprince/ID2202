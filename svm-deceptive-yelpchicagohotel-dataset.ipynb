{
 "cells": [
  {
   "cell_type": "code",
   "execution_count": 1,
   "metadata": {},
   "outputs": [],
   "source": [
    "#!/usr/bin/python3\n",
    "from sklearn.svm import OneClassSVM\n",
    "import pandas as pd\n",
    "import feather\n",
    "from sklearn.model_selection import train_test_split\n",
    "from sklearn.model_selection import StratifiedShuffleSplit\n",
    "import numpy as np\n",
    "from nltk.tokenize import word_tokenize\n",
    "from nltk import pos_tag\n",
    "from nltk.corpus import stopwords\n",
    "from nltk.stem import WordNetLemmatizer\n",
    "from sklearn.preprocessing import LabelEncoder\n",
    "from collections import defaultdict\n",
    "from nltk.corpus import wordnet as wn\n",
    "from sklearn.feature_extraction.text import TfidfVectorizer\n",
    "from sklearn import model_selection, naive_bayes, svm\n",
    "from sklearn.metrics import accuracy_score\n",
    "import pickle\n",
    "np.random.seed(500)\n",
    "import time\n",
    "import matplotlib.pyplot as plt\n",
    "import seaborn as sns\n",
    "from imblearn.under_sampling import RandomUnderSampler\n",
    "from imblearn.over_sampling import RandomOverSampler"
   ]
  },
  {
   "cell_type": "code",
   "execution_count": 2,
   "metadata": {},
   "outputs": [],
   "source": [
    "from sklearn.model_selection import train_test_split\n",
    "from sklearn.model_selection import cross_val_score\n",
    "from sklearn.model_selection import StratifiedKFold\n",
    "from sklearn.metrics import classification_report\n",
    "from sklearn.metrics import confusion_matrix\n",
    "from sklearn.metrics import accuracy_score\n",
    "from sklearn.linear_model import LogisticRegression\n",
    "from sklearn.tree import DecisionTreeClassifier\n",
    "from sklearn.neighbors import KNeighborsClassifier\n",
    "from sklearn.discriminant_analysis import LinearDiscriminantAnalysis\n",
    "from sklearn.naive_bayes import GaussianNB\n",
    "from sklearn.svm import SVC\n",
    "from sklearn.ensemble import RandomForestClassifier\n",
    "from sklearn import metrics\n",
    "from pandas.api.types import CategoricalDtype\n",
    "from sklearn.preprocessing import StandardScaler\n",
    "from sklearn.metrics import precision_recall_fscore_support\n",
    "from sklearn.model_selection import StratifiedKFold"
   ]
  },
  {
   "cell_type": "code",
   "execution_count": 3,
   "metadata": {},
   "outputs": [],
   "source": [
    "pickle_in = open(\"df_lemma_yelp_chicago_hot.pickle\",\"rb\")\n",
    "df = pickle.load(pickle_in)\n",
    "# df = pd.read_table(\"Data/YelpChi/output_review_yelpHotelData_NRYRcleaned.txt\",header=None)\n",
    "# df2 = pd.read_table(\"Data/YelpChi/output_meta_yelpHotelData_NRYRcleaned.txt\",header=None, sep=\" \")\n",
    "# df['label'] =  df2[4]\n",
    "# df['label'] = df['label'].replace(['N'],1)\n",
    "# df['label'] = df['label'].replace(['Y'],-1)\n",
    "# df.columns = ['review_content', 'label']"
   ]
  },
  {
   "cell_type": "code",
   "execution_count": 4,
   "metadata": {
    "scrolled": true
   },
   "outputs": [
    {
     "data": {
      "text/html": [
       "<div>\n",
       "<style scoped>\n",
       "    .dataframe tbody tr th:only-of-type {\n",
       "        vertical-align: middle;\n",
       "    }\n",
       "\n",
       "    .dataframe tbody tr th {\n",
       "        vertical-align: top;\n",
       "    }\n",
       "\n",
       "    .dataframe thead th {\n",
       "        text-align: right;\n",
       "    }\n",
       "</style>\n",
       "<table border=\"1\" class=\"dataframe\">\n",
       "  <thead>\n",
       "    <tr style=\"text-align: right;\">\n",
       "      <th></th>\n",
       "      <th>review_content</th>\n",
       "      <th>label</th>\n",
       "      <th>tokenized</th>\n",
       "      <th>text_final</th>\n",
       "    </tr>\n",
       "  </thead>\n",
       "  <tbody>\n",
       "    <tr>\n",
       "      <th>0</th>\n",
       "      <td>let me begin by saying that there are two kind...</td>\n",
       "      <td>1</td>\n",
       "      <td>[let, me, begin, by, saying, that, there, are,...</td>\n",
       "      <td>['let', 'begin', 'say', 'two', 'kind', 'people...</td>\n",
       "    </tr>\n",
       "    <tr>\n",
       "      <th>1</th>\n",
       "      <td>the only place inside the loop that you can st...</td>\n",
       "      <td>1</td>\n",
       "      <td>[the, only, place, inside, the, loop, that, yo...</td>\n",
       "      <td>['place', 'inside', 'loop', 'stay', 'also', 'p...</td>\n",
       "    </tr>\n",
       "    <tr>\n",
       "      <th>2</th>\n",
       "      <td>i have walked by the tokyo hotel countless tim...</td>\n",
       "      <td>1</td>\n",
       "      <td>[i, have, walked, by, the, tokyo, hotel, count...</td>\n",
       "      <td>['walk', 'tokyo', 'hotel', 'countless', 'time'...</td>\n",
       "    </tr>\n",
       "    <tr>\n",
       "      <th>3</th>\n",
       "      <td>if you are considering staying here, watch thi...</td>\n",
       "      <td>1</td>\n",
       "      <td>[if, you, are, considering, staying, here, ,, ...</td>\n",
       "      <td>['consider', 'stay', 'watch', 'first', 'http']</td>\n",
       "    </tr>\n",
       "    <tr>\n",
       "      <th>4</th>\n",
       "      <td>this place is disgusting, absolutely horrible,...</td>\n",
       "      <td>1</td>\n",
       "      <td>[this, place, is, disgusting, ,, absolutely, h...</td>\n",
       "      <td>['place', 'disgust', 'absolutely', 'horrible',...</td>\n",
       "    </tr>\n",
       "    <tr>\n",
       "      <th>...</th>\n",
       "      <td>...</td>\n",
       "      <td>...</td>\n",
       "      <td>...</td>\n",
       "      <td>...</td>\n",
       "    </tr>\n",
       "    <tr>\n",
       "      <th>5849</th>\n",
       "      <td>this hotel is amazing! granted, i worked here,...</td>\n",
       "      <td>-1</td>\n",
       "      <td>[this, hotel, is, amazing, !, granted, ,, i, w...</td>\n",
       "      <td>['hotel', 'amazing', 'grant', 'work', 'might',...</td>\n",
       "    </tr>\n",
       "    <tr>\n",
       "      <th>5850</th>\n",
       "      <td>short version: i am very torn about this place...</td>\n",
       "      <td>-1</td>\n",
       "      <td>[short, version, :, i, am, very, torn, about, ...</td>\n",
       "      <td>['short', 'version', 'torn', 'place', 'great',...</td>\n",
       "    </tr>\n",
       "    <tr>\n",
       "      <th>5851</th>\n",
       "      <td>sutton place is a very elegant hotel. the room...</td>\n",
       "      <td>-1</td>\n",
       "      <td>[sutton, place, is, a, very, elegant, hotel, ....</td>\n",
       "      <td>['sutton', 'place', 'elegant', 'hotel', 'room'...</td>\n",
       "    </tr>\n",
       "    <tr>\n",
       "      <th>5852</th>\n",
       "      <td>the only great thing is location. rest of the ...</td>\n",
       "      <td>-1</td>\n",
       "      <td>[the, only, great, thing, is, location, ., res...</td>\n",
       "      <td>['great', 'thing', 'location', 'rest', 'hotel'...</td>\n",
       "    </tr>\n",
       "    <tr>\n",
       "      <th>5853</th>\n",
       "      <td>noise, noise, noise! unbelievable! between the...</td>\n",
       "      <td>-1</td>\n",
       "      <td>[noise, ,, noise, ,, noise, !, unbelievable, !...</td>\n",
       "      <td>['noise', 'noise', 'noise', 'unbelievable', 'o...</td>\n",
       "    </tr>\n",
       "  </tbody>\n",
       "</table>\n",
       "<p>5854 rows × 4 columns</p>\n",
       "</div>"
      ],
      "text/plain": [
       "                                         review_content  label  \\\n",
       "0     let me begin by saying that there are two kind...      1   \n",
       "1     the only place inside the loop that you can st...      1   \n",
       "2     i have walked by the tokyo hotel countless tim...      1   \n",
       "3     if you are considering staying here, watch thi...      1   \n",
       "4     this place is disgusting, absolutely horrible,...      1   \n",
       "...                                                 ...    ...   \n",
       "5849  this hotel is amazing! granted, i worked here,...     -1   \n",
       "5850  short version: i am very torn about this place...     -1   \n",
       "5851  sutton place is a very elegant hotel. the room...     -1   \n",
       "5852  the only great thing is location. rest of the ...     -1   \n",
       "5853  noise, noise, noise! unbelievable! between the...     -1   \n",
       "\n",
       "                                              tokenized  \\\n",
       "0     [let, me, begin, by, saying, that, there, are,...   \n",
       "1     [the, only, place, inside, the, loop, that, yo...   \n",
       "2     [i, have, walked, by, the, tokyo, hotel, count...   \n",
       "3     [if, you, are, considering, staying, here, ,, ...   \n",
       "4     [this, place, is, disgusting, ,, absolutely, h...   \n",
       "...                                                 ...   \n",
       "5849  [this, hotel, is, amazing, !, granted, ,, i, w...   \n",
       "5850  [short, version, :, i, am, very, torn, about, ...   \n",
       "5851  [sutton, place, is, a, very, elegant, hotel, ....   \n",
       "5852  [the, only, great, thing, is, location, ., res...   \n",
       "5853  [noise, ,, noise, ,, noise, !, unbelievable, !...   \n",
       "\n",
       "                                             text_final  \n",
       "0     ['let', 'begin', 'say', 'two', 'kind', 'people...  \n",
       "1     ['place', 'inside', 'loop', 'stay', 'also', 'p...  \n",
       "2     ['walk', 'tokyo', 'hotel', 'countless', 'time'...  \n",
       "3        ['consider', 'stay', 'watch', 'first', 'http']  \n",
       "4     ['place', 'disgust', 'absolutely', 'horrible',...  \n",
       "...                                                 ...  \n",
       "5849  ['hotel', 'amazing', 'grant', 'work', 'might',...  \n",
       "5850  ['short', 'version', 'torn', 'place', 'great',...  \n",
       "5851  ['sutton', 'place', 'elegant', 'hotel', 'room'...  \n",
       "5852  ['great', 'thing', 'location', 'rest', 'hotel'...  \n",
       "5853  ['noise', 'noise', 'noise', 'unbelievable', 'o...  \n",
       "\n",
       "[5854 rows x 4 columns]"
      ]
     },
     "execution_count": 4,
     "metadata": {},
     "output_type": "execute_result"
    }
   ],
   "source": [
    "df"
   ]
  },
  {
   "cell_type": "code",
   "execution_count": 5,
   "metadata": {},
   "outputs": [
    {
     "name": "stdout",
     "output_type": "stream",
     "text": [
      "negative:  778  positive: 5076 total 5854 percent deceptive 13.290058079945336\n"
     ]
    }
   ],
   "source": [
    "pos=0 \n",
    "neg = 0\n",
    "\n",
    "for x in df['label']:\n",
    "    if x == -1:\n",
    "        neg+=1\n",
    "    else:\n",
    "        pos+=1\n",
    "print ('negative: ', neg , ' positive:' , pos, 'total', neg+pos,'percent deceptive', neg*100.0/(neg+pos)) "
   ]
  },
  {
   "cell_type": "code",
   "execution_count": 6,
   "metadata": {},
   "outputs": [],
   "source": [
    "#file_path = '/home/parallels/KTH/II2202/Data/YelpNYC/database_feather.feather'\n",
    "#df = pd.read_feather(file_path, columns=None, use_threads=True)"
   ]
  },
  {
   "cell_type": "code",
   "execution_count": 7,
   "metadata": {},
   "outputs": [
    {
     "data": {
      "text/plain": [
       "review_content    object\n",
       "label              int64\n",
       "tokenized         object\n",
       "text_final        object\n",
       "dtype: object"
      ]
     },
     "execution_count": 7,
     "metadata": {},
     "output_type": "execute_result"
    }
   ],
   "source": [
    "df.dtypes"
   ]
  },
  {
   "cell_type": "code",
   "execution_count": 8,
   "metadata": {},
   "outputs": [
    {
     "data": {
      "text/html": [
       "<div>\n",
       "<style scoped>\n",
       "    .dataframe tbody tr th:only-of-type {\n",
       "        vertical-align: middle;\n",
       "    }\n",
       "\n",
       "    .dataframe tbody tr th {\n",
       "        vertical-align: top;\n",
       "    }\n",
       "\n",
       "    .dataframe thead th {\n",
       "        text-align: right;\n",
       "    }\n",
       "</style>\n",
       "<table border=\"1\" class=\"dataframe\">\n",
       "  <thead>\n",
       "    <tr style=\"text-align: right;\">\n",
       "      <th></th>\n",
       "      <th>label</th>\n",
       "    </tr>\n",
       "  </thead>\n",
       "  <tbody>\n",
       "    <tr>\n",
       "      <th>count</th>\n",
       "      <td>5854.000000</td>\n",
       "    </tr>\n",
       "    <tr>\n",
       "      <th>mean</th>\n",
       "      <td>0.734199</td>\n",
       "    </tr>\n",
       "    <tr>\n",
       "      <th>std</th>\n",
       "      <td>0.678993</td>\n",
       "    </tr>\n",
       "    <tr>\n",
       "      <th>min</th>\n",
       "      <td>-1.000000</td>\n",
       "    </tr>\n",
       "    <tr>\n",
       "      <th>25%</th>\n",
       "      <td>1.000000</td>\n",
       "    </tr>\n",
       "    <tr>\n",
       "      <th>50%</th>\n",
       "      <td>1.000000</td>\n",
       "    </tr>\n",
       "    <tr>\n",
       "      <th>75%</th>\n",
       "      <td>1.000000</td>\n",
       "    </tr>\n",
       "    <tr>\n",
       "      <th>max</th>\n",
       "      <td>1.000000</td>\n",
       "    </tr>\n",
       "  </tbody>\n",
       "</table>\n",
       "</div>"
      ],
      "text/plain": [
       "             label\n",
       "count  5854.000000\n",
       "mean      0.734199\n",
       "std       0.678993\n",
       "min      -1.000000\n",
       "25%       1.000000\n",
       "50%       1.000000\n",
       "75%       1.000000\n",
       "max       1.000000"
      ]
     },
     "execution_count": 8,
     "metadata": {},
     "output_type": "execute_result"
    }
   ],
   "source": [
    "df.describe()"
   ]
  },
  {
   "cell_type": "code",
   "execution_count": 9,
   "metadata": {},
   "outputs": [],
   "source": [
    "# # Step - a : Remove blank rows if any.\n",
    "# df['review_content'].dropna(inplace=True)"
   ]
  },
  {
   "cell_type": "code",
   "execution_count": 10,
   "metadata": {},
   "outputs": [],
   "source": [
    "# # Step - b : Change all the text to lower case\n",
    "# df['review_content'] = [entry.lower() for entry in df['review_content']]"
   ]
  },
  {
   "cell_type": "code",
   "execution_count": 11,
   "metadata": {},
   "outputs": [],
   "source": [
    "# # Step - c : Tokenization : In this each entry in the corpus will be broken into set of words\n",
    "# # tokenized = []\n",
    "# # for index,entry in enumerate(genuine['review_content']): \n",
    "# #     genuine.loc[index,'tokenized'] = [word_tokenize(entry)]\n",
    "# #     percent = index/len(genuine)*100\n",
    "# #     print('percent done [%d%%]\\r'%percent, end=\"\")\n",
    "# df['tokenized']= [word_tokenize(entry) for entry in df['review_content']]"
   ]
  },
  {
   "cell_type": "code",
   "execution_count": 12,
   "metadata": {},
   "outputs": [],
   "source": [
    "# # Step - d : Remove Stop words, Non-Numeric and perfom Word Stemming/Lemmenting.\n",
    "# # WordNetLemmatizer requires Pos tags to understand if the word is noun or verb or adjective etc. By default it is set to Noun\n",
    "# tag_map = defaultdict(lambda : wn.NOUN)\n",
    "# tag_map['J'] = wn.ADJ\n",
    "# tag_map['V'] = wn.VERB\n",
    "# tag_map['R'] = wn.ADV\n",
    "# final_text = [None]*len(df['tokenized'])\n",
    "# for index,entry in enumerate(df['tokenized']):\n",
    "#     # Declaring Empty List to store the words that follow the rules for this step\n",
    "#     Final_words = []\n",
    "#     # Initializing WordNetLemmatizer()\n",
    "#     percent = float(index/len(df['tokenized'])*100)\n",
    "\n",
    "#     print('percent done [%f%%]\\r'%percent, end=\"\")\n",
    "#     word_Lemmatized = WordNetLemmatizer()\n",
    "#     # pos_tag function below will provide the 'tag' i.e if the word is Noun(N) or Verb(V) or something else.\n",
    "#     for word, tag in pos_tag(entry):\n",
    "#         # Below condition is to check for Stop words and consider only alphabets\n",
    "#         if word not in stopwords.words('english') and word.isalpha():\n",
    "#             word_Final = word_Lemmatized.lemmatize(word,tag_map[tag[0]])\n",
    "#             Final_words.append(word_Final)\n",
    "#     # The final processed set of words for each iteration will be stored in 'text_final'\n",
    "#     df.loc[index,'text_final'] = str(Final_words)\n",
    "#     final_text[index]=(Final_words)\n",
    "    \n"
   ]
  },
  {
   "cell_type": "code",
   "execution_count": 13,
   "metadata": {},
   "outputs": [],
   "source": [
    "# #to save the preporcessed list\n",
    "\n",
    "# pickle_out = open(\"df_lemma_yelp_chicago.pickle\",\"wb\")\n",
    "# pickle.dump(df, pickle_out)\n",
    "# pickle_out.close()"
   ]
  },
  {
   "cell_type": "code",
   "execution_count": 14,
   "metadata": {},
   "outputs": [
    {
     "data": {
      "text/plain": [
       "(5854, 1)"
      ]
     },
     "execution_count": 14,
     "metadata": {},
     "output_type": "execute_result"
    }
   ],
   "source": [
    "x = df['text_final'].values.reshape(-1,1)\n",
    "y = df['label'].values.reshape(-1,1)\n",
    "y.shape"
   ]
  },
  {
   "cell_type": "code",
   "execution_count": 15,
   "metadata": {},
   "outputs": [],
   "source": [
    "#undersample = RandomUnderSampler(sampling_strategy='majority')\n",
    "undersample = RandomUnderSampler(sampling_strategy='majority')\n",
    "#oversample = RandomOverSampler(sampling_strategy='minority')\n",
    "X_under, y_under = undersample.fit_resample(x, y)\n",
    "#X_over, y_over = oversample.fit_resample(X, df['label'])"
   ]
  },
  {
   "cell_type": "code",
   "execution_count": 16,
   "metadata": {},
   "outputs": [],
   "source": [
    "d = {'text_final':X_under[:,0],'label':y_under[:,]}\n",
    "dfu = pd.DataFrame(d)"
   ]
  },
  {
   "cell_type": "code",
   "execution_count": 17,
   "metadata": {
    "scrolled": true
   },
   "outputs": [
    {
     "data": {
      "text/html": [
       "<div>\n",
       "<style scoped>\n",
       "    .dataframe tbody tr th:only-of-type {\n",
       "        vertical-align: middle;\n",
       "    }\n",
       "\n",
       "    .dataframe tbody tr th {\n",
       "        vertical-align: top;\n",
       "    }\n",
       "\n",
       "    .dataframe thead th {\n",
       "        text-align: right;\n",
       "    }\n",
       "</style>\n",
       "<table border=\"1\" class=\"dataframe\">\n",
       "  <thead>\n",
       "    <tr style=\"text-align: right;\">\n",
       "      <th></th>\n",
       "      <th>text_final</th>\n",
       "      <th>label</th>\n",
       "    </tr>\n",
       "  </thead>\n",
       "  <tbody>\n",
       "    <tr>\n",
       "      <th>0</th>\n",
       "      <td>['believe', 'anything', 'cozy', 'little', 'web...</td>\n",
       "      <td>-1</td>\n",
       "    </tr>\n",
       "    <tr>\n",
       "      <th>1</th>\n",
       "      <td>['husband', 'two', 'young', 'kid', 'stay', 'ro...</td>\n",
       "      <td>-1</td>\n",
       "    </tr>\n",
       "    <tr>\n",
       "      <th>2</th>\n",
       "      <td>['place', 'everyone', 'great', 'location', 'an...</td>\n",
       "      <td>-1</td>\n",
       "    </tr>\n",
       "    <tr>\n",
       "      <th>3</th>\n",
       "      <td>['check', 'initially', 'greet', 'warm', 'frien...</td>\n",
       "      <td>-1</td>\n",
       "    </tr>\n",
       "    <tr>\n",
       "      <th>4</th>\n",
       "      <td>['b', 'b', 'great', 'location', 'first', 'reas...</td>\n",
       "      <td>-1</td>\n",
       "    </tr>\n",
       "    <tr>\n",
       "      <th>...</th>\n",
       "      <td>...</td>\n",
       "      <td>...</td>\n",
       "    </tr>\n",
       "    <tr>\n",
       "      <th>1551</th>\n",
       "      <td>['actually', 'believe', 'hotel', 'felix', 'wor...</td>\n",
       "      <td>1</td>\n",
       "    </tr>\n",
       "    <tr>\n",
       "      <th>1552</th>\n",
       "      <td>['note', 'review', 'lounge', 'friday', 'night'...</td>\n",
       "      <td>1</td>\n",
       "    </tr>\n",
       "    <tr>\n",
       "      <th>1553</th>\n",
       "      <td>['send', 'following', 'complaint', 'hotel', 'f...</td>\n",
       "      <td>1</td>\n",
       "    </tr>\n",
       "    <tr>\n",
       "      <th>1554</th>\n",
       "      <td>['really', 'want', 'like', 'love', 'hotel', 'r...</td>\n",
       "      <td>1</td>\n",
       "    </tr>\n",
       "    <tr>\n",
       "      <th>1555</th>\n",
       "      <td>['recommend', 'ask', 'room', 'floor', 'newly',...</td>\n",
       "      <td>1</td>\n",
       "    </tr>\n",
       "  </tbody>\n",
       "</table>\n",
       "<p>1556 rows × 2 columns</p>\n",
       "</div>"
      ],
      "text/plain": [
       "                                             text_final  label\n",
       "0     ['believe', 'anything', 'cozy', 'little', 'web...     -1\n",
       "1     ['husband', 'two', 'young', 'kid', 'stay', 'ro...     -1\n",
       "2     ['place', 'everyone', 'great', 'location', 'an...     -1\n",
       "3     ['check', 'initially', 'greet', 'warm', 'frien...     -1\n",
       "4     ['b', 'b', 'great', 'location', 'first', 'reas...     -1\n",
       "...                                                 ...    ...\n",
       "1551  ['actually', 'believe', 'hotel', 'felix', 'wor...      1\n",
       "1552  ['note', 'review', 'lounge', 'friday', 'night'...      1\n",
       "1553  ['send', 'following', 'complaint', 'hotel', 'f...      1\n",
       "1554  ['really', 'want', 'like', 'love', 'hotel', 'r...      1\n",
       "1555  ['recommend', 'ask', 'room', 'floor', 'newly',...      1\n",
       "\n",
       "[1556 rows x 2 columns]"
      ]
     },
     "execution_count": 17,
     "metadata": {},
     "output_type": "execute_result"
    }
   ],
   "source": [
    "dfu"
   ]
  },
  {
   "cell_type": "code",
   "execution_count": 18,
   "metadata": {},
   "outputs": [
    {
     "name": "stdout",
     "output_type": "stream",
     "text": [
      "negative:  778  positive: 778 total 1556 percent deceptive 50.0\n"
     ]
    }
   ],
   "source": [
    "pos=0 \n",
    "neg = 0\n",
    "for x in dfu['label']:\n",
    "    if x == -1:\n",
    "        neg+=1\n",
    "    else:\n",
    "        pos+=1\n",
    "print ('negative: ', neg , ' positive:' , pos, 'total', neg+pos,'percent deceptive', neg*100.0/(neg+pos)) "
   ]
  },
  {
   "cell_type": "code",
   "execution_count": 19,
   "metadata": {},
   "outputs": [],
   "source": [
    "Train_X_oc_all, Test_X_oc_all = model_selection.train_test_split(dfu[['label','text_final']],test_size=0.3)"
   ]
  },
  {
   "cell_type": "code",
   "execution_count": 20,
   "metadata": {},
   "outputs": [
    {
     "name": "stdout",
     "output_type": "stream",
     "text": [
      "negative:  227  positive: 240 total 467 percent deceptive 48.60813704496788\n"
     ]
    }
   ],
   "source": [
    "# check test genuine/deceptive\n",
    "pos=0 \n",
    "neg = 0\n",
    "\n",
    "for x in Test_X_oc_all['label']:\n",
    "    if x == -1:\n",
    "        neg+=1\n",
    "    else:\n",
    "        pos+=1\n",
    "print ('negative: ', neg , ' positive:' , pos, 'total', neg+pos,'percent deceptive', neg*100.0/(neg+pos)) "
   ]
  },
  {
   "cell_type": "code",
   "execution_count": 21,
   "metadata": {},
   "outputs": [],
   "source": [
    "# split using genuine\n",
    "Train_X, Test_X = model_selection.train_test_split((Train_X_oc_all.loc[(dfu['label'] == 1)]).text_final,test_size=0.3)\n"
   ]
  },
  {
   "cell_type": "code",
   "execution_count": 22,
   "metadata": {},
   "outputs": [],
   "source": [
    "#split using deceptive\n",
    "Train_X_dec, Test_X_dec = model_selection.train_test_split((Train_X_oc_all.loc[(dfu['label'] == -1)]).text_final,test_size=0.3)"
   ]
  },
  {
   "cell_type": "code",
   "execution_count": 23,
   "metadata": {},
   "outputs": [
    {
     "data": {
      "text/plain": [
       "TfidfVectorizer(max_features=400)"
      ]
     },
     "execution_count": 23,
     "metadata": {},
     "output_type": "execute_result"
    }
   ],
   "source": [
    "Tfidf_vect = TfidfVectorizer(max_features=400)        \n",
    "Tfidf_vect.fit(df['text_final'])"
   ]
  },
  {
   "cell_type": "code",
   "execution_count": 24,
   "metadata": {},
   "outputs": [],
   "source": [
    "#vectorizing genuine data\n",
    "Train_X_Tfidf = Tfidf_vect.transform(Train_X)\n",
    "Test_X_Tfidf = Tfidf_vect.transform(Test_X)"
   ]
  },
  {
   "cell_type": "code",
   "execution_count": 25,
   "metadata": {},
   "outputs": [],
   "source": [
    "# vectorizing deceptive data\n",
    "Train_X_Tfidf_dec = Tfidf_vect.transform(Train_X_dec)\n",
    "Test_X_Tfidf_dec = Tfidf_vect.transform(Test_X_oc_all['text_final'])"
   ]
  },
  {
   "cell_type": "code",
   "execution_count": 26,
   "metadata": {},
   "outputs": [],
   "source": [
    "# vectorizing all data\n",
    "Test_X_Tfidf_all = Tfidf_vect.transform(df['text_final'])"
   ]
  },
  {
   "cell_type": "code",
   "execution_count": 27,
   "metadata": {},
   "outputs": [
    {
     "data": {
      "text/plain": [
       "<376x400 sparse matrix of type '<class 'numpy.float64'>'\n",
       "\twith 14241 stored elements in Compressed Sparse Row format>"
      ]
     },
     "execution_count": 27,
     "metadata": {},
     "output_type": "execute_result"
    }
   ],
   "source": [
    "Train_X_Tfidf"
   ]
  },
  {
   "cell_type": "code",
   "execution_count": 28,
   "metadata": {},
   "outputs": [
    {
     "name": "stdout",
     "output_type": "stream",
     "text": [
      "elapsed_time 0.03611636161804199\n"
     ]
    }
   ],
   "source": [
    "# fit the training dataset on the classifier using [deceptive]\n",
    "start_time = time.time()\n",
    "\n",
    "clf_dec = OneClassSVM(gamma='auto', kernel='rbf', degree=5).fit(Train_X_Tfidf_dec)\n",
    "elapsed_time = time.time() - start_time\n",
    "print('elapsed_time' , elapsed_time)\n",
    "# predict the labels on validation dataset"
   ]
  },
  {
   "cell_type": "code",
   "execution_count": 29,
   "metadata": {},
   "outputs": [
    {
     "name": "stdout",
     "output_type": "stream",
     "text": [
      "elapsed_time 0.029712200164794922\n"
     ]
    }
   ],
   "source": [
    "# predict using deceptive\n",
    "start_time = time.time()\n",
    "predictions_oneclass_dec = clf_dec.predict(Test_X_Tfidf_dec)\n",
    "#print(predictions_oneclass_dec)\n",
    "elapsed_time = time.time() - start_time\n",
    "print('elapsed_time' , elapsed_time)\n",
    "# Use accuracy_score function to get the accuracy"
   ]
  },
  {
   "cell_type": "code",
   "execution_count": 30,
   "metadata": {},
   "outputs": [
    {
     "name": "stdout",
     "output_type": "stream",
     "text": [
      "negative:  204  positive: 263\n"
     ]
    }
   ],
   "source": [
    "# deceptive predict count\n",
    "pos=0 \n",
    "neg = 0\n",
    "\n",
    "for x in predictions_oneclass_dec:\n",
    "    if x == -1:\n",
    "        neg+=1\n",
    "    else:\n",
    "        pos+=1\n",
    "print ('negative: ', neg , ' positive:' , pos)       "
   ]
  },
  {
   "cell_type": "code",
   "execution_count": 31,
   "metadata": {},
   "outputs": [
    {
     "name": "stdout",
     "output_type": "stream",
     "text": [
      "Accuracy Score ->  0.430406852248394\n",
      "percision:  0.4312100297084662  recall:  0.430406852248394  fscore:  0.42823906806776185\n"
     ]
    }
   ],
   "source": [
    "cf_matrix=confusion_matrix(Test_X_oc_all['label'], predictions_oneclass_dec*-1)\n",
    "metrics_result = precision_recall_fscore_support(Test_X_oc_all['label'], predictions_oneclass_dec*-1, average='weighted',zero_division=0)\n",
    "print(\"Accuracy Score -> \",accuracy_score(predictions_oneclass_dec*-1, Test_X_oc_all['label'], normalize=True))\n",
    "print(\"percision: \", metrics_result[0], ' recall: ' , metrics_result[1], ' fscore: ', metrics_result[2])\n",
    "#print(metrics.f1_score(Test_X_oc_all['label'], predictions_oneclass_dec*-1, average='weighted'))\n",
    "#sns.heatmap(cf_matrix, annot=True)"
   ]
  },
  {
   "cell_type": "code",
   "execution_count": 32,
   "metadata": {},
   "outputs": [
    {
     "data": {
      "text/plain": [
       "<AxesSubplot:>"
      ]
     },
     "execution_count": 32,
     "metadata": {},
     "output_type": "execute_result"
    },
    {
     "data": {
      "image/png": "[encoded data removed]",
      "text/plain": [
       "<Figure size 432x288 with 2 Axes>"
      ]
     },
     "metadata": {
      "needs_background": "light"
     },
     "output_type": "display_data"
    }
   ],
   "source": [
    "group_names = ['True Neg','False Pos','False Neg','True Pos']\n",
    "group_counts = [\"{0:0.0f}\".format(value) for value in\n",
    "                cf_matrix.flatten()]\n",
    "group_percentages = [\"{0:.2%}\".format(value) for value in\n",
    "                     cf_matrix.flatten()/np.sum(cf_matrix)]\n",
    "labels = [f\"{v1}\\n{v2}\\n{v3}\" for v1, v2, v3 in\n",
    "          zip(group_names,group_counts,group_percentages)]\n",
    "labels = np.asarray(labels).reshape(2,2)\n",
    "sns.heatmap(cf_matrix, annot=labels, fmt='', cmap='Blues')\n"
   ]
  },
  {
   "cell_type": "code",
   "execution_count": 33,
   "metadata": {},
   "outputs": [
    {
     "name": "stdout",
     "output_type": "stream",
     "text": [
      "elapsed_time 0.035991668701171875\n"
     ]
    }
   ],
   "source": [
    "# fit the training dataset on the classifier using [genuine]\n",
    "start_time = time.time()\n",
    "\n",
    "clf_gen = OneClassSVM(gamma='auto', kernel='poly', degree=5).fit(Train_X_Tfidf)\n",
    "elapsed_time = time.time() - start_time\n",
    "print('elapsed_time' , elapsed_time)\n",
    "# predict the labels on validation dataset"
   ]
  },
  {
   "cell_type": "code",
   "execution_count": 34,
   "metadata": {},
   "outputs": [
    {
     "name": "stdout",
     "output_type": "stream",
     "text": [
      "elapsed_time 0.04003763198852539\n"
     ]
    }
   ],
   "source": [
    "# predict using [genuine]\n",
    "start_time = time.time()\n",
    "predictions_oneclass_gen = clf_gen.predict(Test_X_Tfidf_dec)\n",
    "#print(predictions_oneclass_gen)\n",
    "elapsed_time = time.time() - start_time\n",
    "print('elapsed_time' , elapsed_time)\n",
    "# Use accuracy_score function to get the accuracy"
   ]
  },
  {
   "cell_type": "code",
   "execution_count": 35,
   "metadata": {},
   "outputs": [
    {
     "name": "stdout",
     "output_type": "stream",
     "text": [
      "negative:  467  positive: 0\n"
     ]
    }
   ],
   "source": [
    "# count of prediction using [genuine]\n",
    "pos=0 \n",
    "neg = 0\n",
    "\n",
    "for x in predictions_oneclass_gen:\n",
    "    if x == -1:\n",
    "        neg+=1\n",
    "    else:\n",
    "        pos+=1\n",
    "print ('negative: ', neg , ' positive:' , pos)   "
   ]
  },
  {
   "cell_type": "code",
   "execution_count": 36,
   "metadata": {},
   "outputs": [
    {
     "name": "stdout",
     "output_type": "stream",
     "text": [
      "Accuracy Score ->  0.4860813704496788\n"
     ]
    }
   ],
   "source": [
    "print(\"Accuracy Score -> \",accuracy_score(predictions_oneclass_gen, Test_X_oc_all['label'], normalize=True))"
   ]
  },
  {
   "cell_type": "code",
   "execution_count": 37,
   "metadata": {},
   "outputs": [],
   "source": [
    "# # to save the classifier model\n",
    "\n",
    "# pickle_out = open(\"clf_oneclass.pickle\",\"wb\")\n",
    "# pickle.dump(clf, pickle_out)\n",
    "# pickle_out.close()"
   ]
  },
  {
   "cell_type": "code",
   "execution_count": 38,
   "metadata": {},
   "outputs": [],
   "source": [
    "X_train_all, X_validation_all, Y_train_all, Y_validation_all = train_test_split(Tfidf_vect.transform(dfu['text_final']), dfu['label'], test_size=0.30, random_state=1,stratify=dfu['label'] )"
   ]
  },
  {
   "cell_type": "code",
   "execution_count": 39,
   "metadata": {},
   "outputs": [
    {
     "name": "stdout",
     "output_type": "stream",
     "text": [
      "1556 1089\n"
     ]
    }
   ],
   "source": [
    "print(len(dfu['text_final']),len(Y_train_all))"
   ]
  },
  {
   "cell_type": "code",
   "execution_count": 40,
   "metadata": {},
   "outputs": [
    {
     "name": "stdout",
     "output_type": "stream",
     "text": [
      "negative:  545  positive: 544 total 1089 percent deceptive 50.045913682277316\n"
     ]
    }
   ],
   "source": [
    "pos=0 \n",
    "neg = 0\n",
    "for x in Y_train_all:\n",
    "    if x == -1:\n",
    "        neg+=1\n",
    "    else:\n",
    "        pos+=1\n",
    "print ('negative: ', neg , ' positive:' , pos, 'total', neg+pos,'percent deceptive', neg*100.0/(neg+pos)) "
   ]
  },
  {
   "cell_type": "code",
   "execution_count": 58,
   "metadata": {},
   "outputs": [
    {
     "name": "stdout",
     "output_type": "stream",
     "text": [
      "Support Vector Machine: 0.524424 (0.048848) elapsed time: 1.651855\n",
      "Support Vector Machine: 0.525346 (0.050691) elapsed time: 1.537112\n",
      "Support Vector Machine: 0.653807 (0.034310) elapsed time: 1.258126\n",
      "the best model performer is:  Support Vector Machine\n"
     ]
    }
   ],
   "source": [
    "# classifier checker\n",
    "\n",
    "# your code\n",
    "models = []\n",
    "#models.append(['Logistic Regression', LogisticRegression(solver='liblinear', multi_class='ovr'),[],0,0])\n",
    "#models.append(['Linear Discriminant Analysis', LinearDiscriminantAnalysis(),[],0,0])\n",
    "#models.append(['K Nearest Neighbor', KNeighborsClassifier(),[],0,0])\n",
    "#models.append(['Decesion Tree Classifier', DecisionTreeClassifier(),[],0,0])\n",
    "#models.append(['Gaussien Naive Bayes', GaussianNB(),[],0,0])\n",
    "models.append(['Support Vector Machine', SVC(gamma='auto',kernel='rbf'),[],0,0])\n",
    "models.append(['Support Vector Machine', SVC(gamma='auto',kernel='poly'),[],0,0])\n",
    "models.append(['Support Vector Machine', SVC(gamma='auto',kernel='linear'),[],0,0])\n",
    "#models.append(['Random Forest', RandomForestClassifier(max_depth = 1000,random_state=1),[],0,0])\n",
    "\n",
    "models = np.array(models,dtype=object)\n",
    "\n",
    "for i in range(len(models)):\n",
    "    start_time = time.time()\n",
    "    #kfold = StratifiedKFold(n_splits=10, random_state=1, shuffle=True)\n",
    "    cv_results = cross_val_score(models[i,1], X_train_all, Y_train_all, scoring='accuracy')\n",
    "    models[i,2] = cv_results\n",
    "    models[i,3] = cv_results.mean()\n",
    "    models[i,4] = cv_results.std()\n",
    "    elapsed_time = time.time() - start_time\n",
    "    print('%s: %f (%f) elapsed time: %f' % (models[i,0], models[i,3], models[i,4],elapsed_time))\n",
    "    \n",
    "    \n",
    "\n",
    "best_model= models[np.argmax(models[:,3]),:]\n",
    "print(\"the best model performer is: \", best_model[0])"
   ]
  },
  {
   "cell_type": "code",
   "execution_count": 42,
   "metadata": {},
   "outputs": [],
   "source": [
    "clf_model=SVC(gamma='auto',kernel='linear',degree=2).fit(X_train_all, Y_train_all)"
   ]
  },
  {
   "cell_type": "code",
   "execution_count": 43,
   "metadata": {},
   "outputs": [],
   "source": [
    "result=clf_model.predict(X_validation_all)"
   ]
  },
  {
   "cell_type": "code",
   "execution_count": 44,
   "metadata": {},
   "outputs": [
    {
     "name": "stdout",
     "output_type": "stream",
     "text": [
      "negative:  254  positive: 213 total 467 percent deceptive 54.389721627408996\n"
     ]
    }
   ],
   "source": [
    "pos=0 \n",
    "neg = 0\n",
    "for x in result:\n",
    "    if x == -1:\n",
    "        neg+=1\n",
    "    else:\n",
    "        pos+=1\n",
    "print ('negative: ', neg , ' positive:' , pos, 'total', neg+pos,'percent deceptive', neg*100.0/(neg+pos)) "
   ]
  },
  {
   "cell_type": "code",
   "execution_count": 57,
   "metadata": {},
   "outputs": [
    {
     "name": "stdout",
     "output_type": "stream",
     "text": [
      "Accuracy Score ->  0.6338329764453962\n",
      "percision:  0.647887323943662  recall:  0.5897435897435898  fscore:  0.6174496644295302 \n",
      "\n"
     ]
    }
   ],
   "source": [
    "print(\"Accuracy Score -> \",accuracy_score(result, Y_validation_all, normalize=True))\n",
    "metrics_result = precision_recall_fscore_support(Y_validation_all, result, average='binary',zero_division=0)\n",
    "print(\"percision: \", metrics_result[0], ' recall: ' , metrics_result[1], ' fscore: ', metrics_result[2], '\\n') "
   ]
  },
  {
   "cell_type": "code",
   "execution_count": 46,
   "metadata": {},
   "outputs": [],
   "source": [
    "df2= df[['text_final','label']]"
   ]
  },
  {
   "cell_type": "code",
   "execution_count": 47,
   "metadata": {},
   "outputs": [],
   "source": [
    "df3= pd.concat([df2, dfu]).drop_duplicates(keep=False)"
   ]
  },
  {
   "cell_type": "code",
   "execution_count": 48,
   "metadata": {},
   "outputs": [
    {
     "name": "stdout",
     "output_type": "stream",
     "text": [
      "negative:  0  positive: 4298 total 4298 percent deceptive 0.0\n"
     ]
    }
   ],
   "source": [
    "pos=0 \n",
    "neg = 0\n",
    "for x in df3['label']:\n",
    "    if x == -1:\n",
    "        neg+=1\n",
    "    else:\n",
    "        pos+=1\n",
    "print ('negative: ', neg , ' positive:' , pos, 'total', neg+pos,'percent deceptive', neg*100.0/(neg+pos)) "
   ]
  },
  {
   "cell_type": "code",
   "execution_count": 49,
   "metadata": {},
   "outputs": [],
   "source": [
    "# split using genuine\n",
    "perc=(1- len(Y_train_all)/len(df3))\n",
    "Train_X_oneclass, Test_X_oneclass = model_selection.train_test_split((df3.loc[(df['label'] == 1)]).text_final,test_size=perc)"
   ]
  },
  {
   "cell_type": "code",
   "execution_count": 50,
   "metadata": {},
   "outputs": [
    {
     "data": {
      "text/plain": [
       "(1088,)"
      ]
     },
     "execution_count": 50,
     "metadata": {},
     "output_type": "execute_result"
    }
   ],
   "source": [
    "Train_X_oneclass.shape"
   ]
  },
  {
   "cell_type": "code",
   "execution_count": 51,
   "metadata": {},
   "outputs": [],
   "source": [
    "# max_features = 100;\n",
    "# while max_features < 5000:\n",
    "#     Tfidf_vect = TfidfVectorizer(max_features=max_features)        \n",
    "#     Tfidf_vect.fit(df['text_final'])\n",
    "#     Train_X_Tfidf = Tfidf_vect.transform(Train_X)\n",
    "#     Test_X_Tfidf = Tfidf_vect.transform(Test_X)\n",
    "#     Train_X_Tfidf_dec = Tfidf_vect.transform(Train_X_dec)\n",
    "#     Test_X_Tfidf_dec = Tfidf_vect.transform(Test_X_oc_all['text_final'])\n",
    "#     one_class_train = Tfidf_vect.transform(Train_X_oneclass)\n",
    "    \n",
    "#     clf_result = OneClassSVM( kernel='poly', degree=2).fit(one_class_train)\n",
    "#     predict_result = clf_result.predict(Test_X_Tfidf_dec)\n",
    "#     acc = accuracy_score(predict_result*1, Test_X_oc_all['label'], normalize=True)\n",
    "#     metrics_result = precision_recall_fscore_support(Test_X_oc_all['label'], predict_result*1, average='weighted',zero_division=0)\n",
    "#     print('features used: ', max_features, ' accuracy: ', acc)\n",
    "#     print(\"percision: \", metrics_result[0], ' recall: ' , metrics_result[1], ' fscore: ', metrics_result[2], '\\n')  \n",
    "    \n",
    "#     max_features += 100"
   ]
  },
  {
   "cell_type": "code",
   "execution_count": 52,
   "metadata": {},
   "outputs": [],
   "source": [
    "one_class_train = Tfidf_vect.transform(Train_X_oneclass)"
   ]
  },
  {
   "cell_type": "code",
   "execution_count": 53,
   "metadata": {},
   "outputs": [
    {
     "data": {
      "text/plain": [
       "<1088x400 sparse matrix of type '<class 'numpy.float64'>'\n",
       "\twith 41267 stored elements in Compressed Sparse Row format>"
      ]
     },
     "execution_count": 53,
     "metadata": {},
     "output_type": "execute_result"
    }
   ],
   "source": [
    "one_class_train"
   ]
  },
  {
   "cell_type": "code",
   "execution_count": 54,
   "metadata": {},
   "outputs": [
    {
     "name": "stdout",
     "output_type": "stream",
     "text": [
      "kernel used:  linear  elapsed_time:  0.04111742973327637\n",
      "kernel used:  poly  degree used:  0  elapsed_time: 0.24273920059204102\n",
      "kernel used:  poly  degree used:  1  elapsed_time: 0.31805872917175293\n",
      "kernel used:  poly  degree used:  2  elapsed_time: 0.3837156295776367\n",
      "kernel used:  poly  degree used:  3  elapsed_time: 0.48233938217163086\n",
      "kernel used:  poly  degree used:  5  elapsed_time: 0.48497796058654785\n",
      "kernel used:  poly  degree used:  7  elapsed_time: 0.44222259521484375\n",
      "kernel used:  poly  degree used:  9  elapsed_time: 0.4387376308441162\n",
      "kernel used:  rbf  elapsed_time:  0.030718088150024414\n",
      "kernel used:  sigmoid  elapsed_time:  0.030317068099975586\n"
     ]
    }
   ],
   "source": [
    "# fit the training dataset on the classifier\n",
    "kernels = ['linear', 'poly', 'rbf', 'sigmoid']\n",
    "degrees = [0,1,2,3,5,7,9]\n",
    "classifiers = []\n",
    "for kern in kernels:\n",
    "    start_time = time.time()\n",
    "    if kern == 'poly':\n",
    "        for deg in degrees:\n",
    "            start_time = time.time()\n",
    "            clf_result = OneClassSVM( kernel=kern, degree=deg).fit(one_class_train)\n",
    "            elapsed_time = time.time() - start_time\n",
    "            classifiers.append([kern,deg,clf_result,elapsed_time])\n",
    "            print('kernel used: ' , kern, ' degree used: ' , deg, ' elapsed_time:' , elapsed_time)\n",
    "            \n",
    "    else:\n",
    "        clf_result = OneClassSVM(gamma='auto', kernel=kern).fit(Train_X_Tfidf_dec)\n",
    "        elapsed_time = time.time() - start_time\n",
    "        classifiers.append([kern,0,clf_result,elapsed_time])\n",
    "        print('kernel used: ' , kern, ' elapsed_time: ' , elapsed_time)\n",
    "\n",
    "# predict the labels on validation dataset"
   ]
  },
  {
   "cell_type": "code",
   "execution_count": 55,
   "metadata": {},
   "outputs": [
    {
     "name": "stdout",
     "output_type": "stream",
     "text": [
      "kernel used:  linear  degree used: 0  elapsed_time:  0.02618098258972168  accuracy:  0.569593147751606\n",
      "percision:  0.5690712573901611  recall:  0.569593147751606  fscore:  0.5681765329788173 \n",
      "\n",
      "kernel used:  poly  degree used: 0  elapsed_time:  0.08899903297424316  accuracy:  0.4860813704496788\n",
      "percision:  0.2362750986982379  recall:  0.4860813704496788  fscore:  0.31798406654777256 \n",
      "\n",
      "kernel used:  poly  degree used: 1  elapsed_time:  0.08434677124023438  accuracy:  0.5910064239828694\n",
      "percision:  0.5923203739696543  recall:  0.5910064239828694  fscore:  0.5908788907111249 \n",
      "\n",
      "kernel used:  poly  degree used: 2  elapsed_time:  0.10004806518554688  accuracy:  0.588865096359743\n",
      "percision:  0.5939155612065827  recall:  0.588865096359743  fscore:  0.5865600702484148 \n",
      "\n",
      "kernel used:  poly  degree used: 3  elapsed_time:  0.13007068634033203  accuracy:  0.5267665952890792\n",
      "percision:  0.5626195225226387  recall:  0.5267665952890792  fscore:  0.47255479808455486 \n",
      "\n",
      "kernel used:  poly  degree used: 5  elapsed_time:  0.18629789352416992  accuracy:  0.4860813704496788\n",
      "percision:  0.2362750986982379  recall:  0.4860813704496788  fscore:  0.31798406654777256 \n",
      "\n",
      "kernel used:  poly  degree used: 7  elapsed_time:  0.18671417236328125  accuracy:  0.4860813704496788\n",
      "percision:  0.2362750986982379  recall:  0.4860813704496788  fscore:  0.31798406654777256 \n",
      "\n",
      "kernel used:  poly  degree used: 9  elapsed_time:  0.18375134468078613  accuracy:  0.48394004282655245\n",
      "percision:  0.23573903373739785  recall:  0.48394004282655245  fscore:  0.31704008577670245 \n",
      "\n",
      "kernel used:  rbf  degree used: 0  elapsed_time:  0.024343013763427734  accuracy:  0.569593147751606\n",
      "percision:  0.56908000659656  recall:  0.569593147751606  fscore:  0.567949289907203 \n",
      "\n",
      "kernel used:  sigmoid  degree used: 0  elapsed_time:  0.025371789932250977  accuracy:  0.5674518201284796\n",
      "percision:  0.5669080162040812  recall:  0.5674518201284796  fscore:  0.5659160092124167 \n",
      "\n"
     ]
    }
   ],
   "source": [
    "clas_result = []\n",
    "for clas in classifiers:\n",
    "    start_time = time.time()\n",
    "    predict_result = clas[2].predict(Test_X_Tfidf_dec)\n",
    "    elapsed_time = time.time() - start_time\n",
    "    clas_result.append([clas[0],clas[1],clas[2],predict_result])\n",
    "    acc = accuracy_score(predict_result*1, Test_X_oc_all['label'], normalize=True)\n",
    "    metrics_result = precision_recall_fscore_support(Test_X_oc_all['label'], predict_result*1, average='binary',zero_division=0)\n",
    "    print('kernel used: ' , clas[0], ' degree used:' , clas[1], ' elapsed_time: ' , elapsed_time, ' accuracy: ', acc)\n",
    "    print(\"percision: \", metrics_result[0], ' recall: ' , metrics_result[1], ' fscore: ', metrics_result[2], '\\n')  \n",
    "# predict the labels on validation dataset"
   ]
  },
  {
   "cell_type": "code",
   "execution_count": 56,
   "metadata": {},
   "outputs": [
    {
     "data": {
      "text/plain": [
       "<AxesSubplot:>"
      ]
     },
     "execution_count": 56,
     "metadata": {},
     "output_type": "execute_result"
    },
    {
     "data": {
      "image/png": "[encoded data removed]",
      "text/plain": [
       "<Figure size 432x288 with 2 Axes>"
      ]
     },
     "metadata": {
      "needs_background": "light"
     },
     "output_type": "display_data"
    }
   ],
   "source": [
    "clf_result = OneClassSVM( kernel='poly', degree=2).fit(one_class_train)\n",
    "predict_result = clf_result.predict(Test_X_Tfidf_dec)\n",
    "\n",
    "cf_matrix=confusion_matrix(Test_X_oc_all['label'], predict_result*1)\n",
    "group_names = ['True Neg','False Pos','False Neg','True Pos']\n",
    "group_counts = [\"{0:0.0f}\".format(value) for value in\n",
    "                cf_matrix.flatten()]\n",
    "group_percentages = [\"{0:.2%}\".format(value) for value in\n",
    "                     cf_matrix.flatten()/np.sum(cf_matrix)]\n",
    "labels = [f\"{v1}\\n{v2}\\n{v3}\" for v1, v2, v3 in\n",
    "          zip(group_names,group_counts,group_percentages)]\n",
    "labels = np.asarray(labels).reshape(2,2)\n",
    "sns.heatmap(cf_matrix, annot=labels, fmt='', cmap='Blues')\n"
   ]
  },
  {
   "cell_type": "code",
   "execution_count": null,
   "metadata": {},
   "outputs": [],
   "source": []
  }
 ],
 "metadata": {
  "kernelspec": {
   "display_name": "Python 3",
   "language": "python",
   "name": "python3"
  },
  "language_info": {
   "codemirror_mode": {
    "name": "ipython",
    "version": 3
   },
   "file_extension": ".py",
   "mimetype": "text/x-python",
   "name": "python",
   "nbconvert_exporter": "python",
   "pygments_lexer": "ipython3",
   "version": "3.6.9"
  }
 },
 "nbformat": 4,
 "nbformat_minor": 2
}
