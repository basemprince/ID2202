{
 "cells": [
  {
   "cell_type": "code",
   "execution_count": 1,
   "metadata": {},
   "outputs": [],
   "source": [
    "max_max = 400"
   ]
  },
  {
   "cell_type": "code",
   "execution_count": 2,
   "metadata": {},
   "outputs": [],
   "source": [
    "#!/usr/bin/python3\n",
    "from sklearn.svm import OneClassSVM\n",
    "import pandas as pd\n",
    "import feather\n",
    "from sklearn.model_selection import train_test_split\n",
    "from sklearn.model_selection import StratifiedShuffleSplit\n",
    "import numpy as np\n",
    "from nltk.tokenize import word_tokenize\n",
    "from nltk import pos_tag\n",
    "from nltk.corpus import stopwords\n",
    "from nltk.stem import WordNetLemmatizer\n",
    "from sklearn.preprocessing import LabelEncoder\n",
    "from collections import defaultdict\n",
    "from nltk.corpus import wordnet as wn\n",
    "from sklearn.feature_extraction.text import TfidfVectorizer\n",
    "from sklearn import model_selection, naive_bayes, svm\n",
    "from sklearn.metrics import accuracy_score\n",
    "import pickle\n",
    "np.random.seed(500)\n",
    "import time\n",
    "import matplotlib.pyplot as plt\n",
    "import seaborn as sns\n",
    "from imblearn.under_sampling import RandomUnderSampler\n",
    "from imblearn.over_sampling import RandomOverSampler\n",
    "import os"
   ]
  },
  {
   "cell_type": "code",
   "execution_count": 3,
   "metadata": {},
   "outputs": [],
   "source": [
    "from sklearn.model_selection import train_test_split\n",
    "from sklearn.model_selection import cross_val_score\n",
    "from sklearn.model_selection import StratifiedKFold\n",
    "from sklearn.metrics import classification_report\n",
    "from sklearn.metrics import confusion_matrix\n",
    "from sklearn.metrics import accuracy_score\n",
    "from sklearn.linear_model import LogisticRegression\n",
    "from sklearn.tree import DecisionTreeClassifier\n",
    "from sklearn.neighbors import KNeighborsClassifier\n",
    "from sklearn.discriminant_analysis import LinearDiscriminantAnalysis\n",
    "from sklearn.naive_bayes import GaussianNB\n",
    "from sklearn.svm import SVC\n",
    "from sklearn.ensemble import RandomForestClassifier\n",
    "from sklearn import metrics\n",
    "from pandas.api.types import CategoricalDtype\n",
    "from sklearn.preprocessing import StandardScaler\n",
    "from sklearn.metrics import precision_recall_fscore_support\n",
    "from sklearn.model_selection import StratifiedKFold"
   ]
  },
  {
   "cell_type": "code",
   "execution_count": 4,
   "metadata": {
    "scrolled": false
   },
   "outputs": [],
   "source": [
    "# from os import listdir\n",
    "# from os.path import isfile, join\n",
    "# dec_directory =\"/home/parallels/KTH/II2202/deception_dataset/hotel/merged/Deceptive\"\n",
    "# dec_directory2 =\"/home/parallels/KTH/II2202/deception_dataset/hotel/merged/Deceptive2\"\n",
    "# dec_directory3 =\"/home/parallels/KTH/II2202/deception_dataset/hotel/merged/Deceptive3\"\n",
    "\n",
    "# genuine_directory = \"/home/parallels/KTH/II2202/deception_dataset/hotel/merged/Truthful\"\n",
    "# deceptive_files = [f for f in listdir(dec_directory) if isfile(join(dec_directory, f))]\n",
    "# deceptive_files2 = [f for f in listdir(dec_directory2) if isfile(join(dec_directory2, f))]\n",
    "# deceptive_files3 = [f for f in listdir(dec_directory3) if isfile(join(dec_directory3, f))]\n",
    "\n",
    "# genuine_files = [f for f in listdir(genuine_directory) if isfile(join(genuine_directory, f))]\n",
    "# df_list = []\n",
    "\n",
    "# for deceit in deceptive_files:\n",
    "#     file_path = join( dec_directory, deceit )\n",
    "#     df_list.append(pd.read_table(file_path,header = None,sep= 'thisisimpossible',engine='python',error_bad_lines=False,index_col=False ).assign(label=-1))\n",
    "\n",
    "# for deceit in deceptive_files2:\n",
    "#     file_path = join( dec_directory2, deceit )\n",
    "#     df_list.append(pd.read_table(file_path,header = None,sep= 'thisisimpossible',engine='python',error_bad_lines=False,index_col=False ).assign(label=-1))\n",
    "    \n",
    "# for deceit in deceptive_files3:\n",
    "#     file_path = join( dec_directory3, deceit )\n",
    "#     df_list.append(pd.read_table(file_path,header = None,sep= 'thisisimpossible',engine='python',error_bad_lines=False,index_col=False ).assign(label=-1))\n",
    "    \n",
    "\n",
    "# for genuine in genuine_files:\n",
    "#     file_path = join( genuine_directory, genuine )\n",
    "#     df_list.append(pd.read_table(file_path,header = None,sep= 'thisisimpossible',engine='python',error_bad_lines=False,index_col=False ).assign(label=1))\n",
    "\n",
    "    \n",
    "# df = pd.concat(df_list, ignore_index=True)\n",
    "\n",
    "\n",
    "# # df = pd.read_table(\"Data/YelpChi/output_review_yelpHotelData_NRYRcleaned.txt\",header=None)\n",
    "# # df2 = pd.read_table(\"Data/YelpChi/output_meta_yelpHotelData_NRYRcleaned.txt\",header=None, sep=\" \")\n",
    "# # df['label'] =  df2[4]\n",
    "# # df['label'] = df['label'].replace(['N'],1)\n",
    "# # df['label'] = df['label'].replace(['Y'],-1)\n",
    "# df.columns = ['review_content', 'label']\n",
    "\n",
    "\n",
    "pickle_in = open(\"df_hotel.pickle\",\"rb\")\n",
    "df = pickle.load(pickle_in)"
   ]
  },
  {
   "cell_type": "code",
   "execution_count": 5,
   "metadata": {
    "scrolled": true
   },
   "outputs": [
    {
     "data": {
      "text/html": [
       "<div>\n",
       "<style scoped>\n",
       "    .dataframe tbody tr th:only-of-type {\n",
       "        vertical-align: middle;\n",
       "    }\n",
       "\n",
       "    .dataframe tbody tr th {\n",
       "        vertical-align: top;\n",
       "    }\n",
       "\n",
       "    .dataframe thead th {\n",
       "        text-align: right;\n",
       "    }\n",
       "</style>\n",
       "<table border=\"1\" class=\"dataframe\">\n",
       "  <thead>\n",
       "    <tr style=\"text-align: right;\">\n",
       "      <th></th>\n",
       "      <th>review_content</th>\n",
       "      <th>label</th>\n",
       "      <th>tokenized</th>\n",
       "      <th>text_final</th>\n",
       "    </tr>\n",
       "  </thead>\n",
       "  <tbody>\n",
       "    <tr>\n",
       "      <th>0</th>\n",
       "      <td>stayed here for a conference and it was a very...</td>\n",
       "      <td>-1</td>\n",
       "      <td>[stayed, here, for, a, conference, and, it, wa...</td>\n",
       "      <td>['stay', 'conference', 'bad', 'experience', 'f...</td>\n",
       "    </tr>\n",
       "    <tr>\n",
       "      <th>1</th>\n",
       "      <td>elegant and modernized hotel with great staff....</td>\n",
       "      <td>-1</td>\n",
       "      <td>[elegant, and, modernized, hotel, with, great,...</td>\n",
       "      <td>['elegant', 'modernized', 'hotel', 'great', 's...</td>\n",
       "    </tr>\n",
       "    <tr>\n",
       "      <th>2</th>\n",
       "      <td>we were extremely pleased with our beautiful c...</td>\n",
       "      <td>-1</td>\n",
       "      <td>[we, were, extremely, pleased, with, our, beau...</td>\n",
       "      <td>['extremely', 'pleased', 'beautiful', 'cabana'...</td>\n",
       "    </tr>\n",
       "    <tr>\n",
       "      <th>3</th>\n",
       "      <td>the experience turned even more sour when the ...</td>\n",
       "      <td>-1</td>\n",
       "      <td>[the, experience, turned, even, more, sour, wh...</td>\n",
       "      <td>['experience', 'turn', 'even', 'sour', 'staff'...</td>\n",
       "    </tr>\n",
       "    <tr>\n",
       "      <th>4</th>\n",
       "      <td>i was expecting more empathy and a better reso...</td>\n",
       "      <td>-1</td>\n",
       "      <td>[i, was, expecting, more, empathy, and, a, bet...</td>\n",
       "      <td>['expect', 'empathy', 'good', 'resolution', 'r...</td>\n",
       "    </tr>\n",
       "    <tr>\n",
       "      <th>...</th>\n",
       "      <td>...</td>\n",
       "      <td>...</td>\n",
       "      <td>...</td>\n",
       "      <td>...</td>\n",
       "    </tr>\n",
       "    <tr>\n",
       "      <th>1891</th>\n",
       "      <td>my wife and i stayed here in the middle of feb...</td>\n",
       "      <td>1</td>\n",
       "      <td>[my, wife, and, i, stayed, here, in, the, midd...</td>\n",
       "      <td>['wife', 'stay', 'middle', 'february', 'take',...</td>\n",
       "    </tr>\n",
       "    <tr>\n",
       "      <th>1892</th>\n",
       "      <td>visiting during a busy 2day conference in chic...</td>\n",
       "      <td>1</td>\n",
       "      <td>[visiting, during, a, busy, 2day, conference, ...</td>\n",
       "      <td>['visit', 'busy', 'conference', 'chicago', 'ho...</td>\n",
       "    </tr>\n",
       "    <tr>\n",
       "      <th>1893</th>\n",
       "      <td>where do i start. the gm was a nice guy for ha...</td>\n",
       "      <td>1</td>\n",
       "      <td>[where, do, i, start, ., the, gm, was, a, nice...</td>\n",
       "      <td>['start', 'gm', 'nice', 'guy', 'handle', 'inci...</td>\n",
       "    </tr>\n",
       "    <tr>\n",
       "      <th>1894</th>\n",
       "      <td>the omni is in a fabulous location on michigan...</td>\n",
       "      <td>1</td>\n",
       "      <td>[the, omni, is, in, a, fabulous, location, on,...</td>\n",
       "      <td>['omni', 'fabulous', 'location', 'michigan', '...</td>\n",
       "    </tr>\n",
       "    <tr>\n",
       "      <th>1895</th>\n",
       "      <td>we got a great deal on this hotel, just $91 fo...</td>\n",
       "      <td>1</td>\n",
       "      <td>[we, got, a, great, deal, on, this, hotel, ,, ...</td>\n",
       "      <td>['get', 'great', 'deal', 'hotel', 'find', 'tra...</td>\n",
       "    </tr>\n",
       "  </tbody>\n",
       "</table>\n",
       "<p>1896 rows × 4 columns</p>\n",
       "</div>"
      ],
      "text/plain": [
       "                                         review_content  label  \\\n",
       "0     stayed here for a conference and it was a very...     -1   \n",
       "1     elegant and modernized hotel with great staff....     -1   \n",
       "2     we were extremely pleased with our beautiful c...     -1   \n",
       "3     the experience turned even more sour when the ...     -1   \n",
       "4     i was expecting more empathy and a better reso...     -1   \n",
       "...                                                 ...    ...   \n",
       "1891  my wife and i stayed here in the middle of feb...      1   \n",
       "1892  visiting during a busy 2day conference in chic...      1   \n",
       "1893  where do i start. the gm was a nice guy for ha...      1   \n",
       "1894  the omni is in a fabulous location on michigan...      1   \n",
       "1895  we got a great deal on this hotel, just $91 fo...      1   \n",
       "\n",
       "                                              tokenized  \\\n",
       "0     [stayed, here, for, a, conference, and, it, wa...   \n",
       "1     [elegant, and, modernized, hotel, with, great,...   \n",
       "2     [we, were, extremely, pleased, with, our, beau...   \n",
       "3     [the, experience, turned, even, more, sour, wh...   \n",
       "4     [i, was, expecting, more, empathy, and, a, bet...   \n",
       "...                                                 ...   \n",
       "1891  [my, wife, and, i, stayed, here, in, the, midd...   \n",
       "1892  [visiting, during, a, busy, 2day, conference, ...   \n",
       "1893  [where, do, i, start, ., the, gm, was, a, nice...   \n",
       "1894  [the, omni, is, in, a, fabulous, location, on,...   \n",
       "1895  [we, got, a, great, deal, on, this, hotel, ,, ...   \n",
       "\n",
       "                                             text_final  \n",
       "0     ['stay', 'conference', 'bad', 'experience', 'f...  \n",
       "1     ['elegant', 'modernized', 'hotel', 'great', 's...  \n",
       "2     ['extremely', 'pleased', 'beautiful', 'cabana'...  \n",
       "3     ['experience', 'turn', 'even', 'sour', 'staff'...  \n",
       "4     ['expect', 'empathy', 'good', 'resolution', 'r...  \n",
       "...                                                 ...  \n",
       "1891  ['wife', 'stay', 'middle', 'february', 'take',...  \n",
       "1892  ['visit', 'busy', 'conference', 'chicago', 'ho...  \n",
       "1893  ['start', 'gm', 'nice', 'guy', 'handle', 'inci...  \n",
       "1894  ['omni', 'fabulous', 'location', 'michigan', '...  \n",
       "1895  ['get', 'great', 'deal', 'hotel', 'find', 'tra...  \n",
       "\n",
       "[1896 rows x 4 columns]"
      ]
     },
     "execution_count": 5,
     "metadata": {},
     "output_type": "execute_result"
    }
   ],
   "source": [
    "df"
   ]
  },
  {
   "cell_type": "code",
   "execution_count": 52,
   "metadata": {},
   "outputs": [
    {
     "name": "stdout",
     "output_type": "stream",
     "text": [
      "negative:  1096  positive: 800 total 1896 percent deceptive 57.80590717299578\n"
     ]
    }
   ],
   "source": [
    "pos=0 \n",
    "neg = 0\n",
    "\n",
    "for x in df['label']:\n",
    "    if x == -1:\n",
    "        neg+=1\n",
    "    else:\n",
    "        pos+=1\n",
    "print ('negative: ', neg , ' positive:' , pos, 'total', neg+pos,'percent deceptive', neg*100.0/(neg+pos)) "
   ]
  },
  {
   "cell_type": "code",
   "execution_count": 7,
   "metadata": {},
   "outputs": [],
   "source": [
    "#file_path = '/home/parallels/KTH/II2202/Data/YelpNYC/database_feather.feather'\n",
    "#df = pd.read_feather(file_path, columns=None, use_threads=True)"
   ]
  },
  {
   "cell_type": "code",
   "execution_count": 8,
   "metadata": {},
   "outputs": [
    {
     "data": {
      "text/plain": [
       "review_content    object\n",
       "label              int64\n",
       "tokenized         object\n",
       "text_final        object\n",
       "dtype: object"
      ]
     },
     "execution_count": 8,
     "metadata": {},
     "output_type": "execute_result"
    }
   ],
   "source": [
    "df.dtypes"
   ]
  },
  {
   "cell_type": "code",
   "execution_count": 9,
   "metadata": {},
   "outputs": [
    {
     "data": {
      "text/html": [
       "<div>\n",
       "<style scoped>\n",
       "    .dataframe tbody tr th:only-of-type {\n",
       "        vertical-align: middle;\n",
       "    }\n",
       "\n",
       "    .dataframe tbody tr th {\n",
       "        vertical-align: top;\n",
       "    }\n",
       "\n",
       "    .dataframe thead th {\n",
       "        text-align: right;\n",
       "    }\n",
       "</style>\n",
       "<table border=\"1\" class=\"dataframe\">\n",
       "  <thead>\n",
       "    <tr style=\"text-align: right;\">\n",
       "      <th></th>\n",
       "      <th>label</th>\n",
       "    </tr>\n",
       "  </thead>\n",
       "  <tbody>\n",
       "    <tr>\n",
       "      <th>count</th>\n",
       "      <td>1896.000000</td>\n",
       "    </tr>\n",
       "    <tr>\n",
       "      <th>mean</th>\n",
       "      <td>-0.156118</td>\n",
       "    </tr>\n",
       "    <tr>\n",
       "      <th>std</th>\n",
       "      <td>0.987999</td>\n",
       "    </tr>\n",
       "    <tr>\n",
       "      <th>min</th>\n",
       "      <td>-1.000000</td>\n",
       "    </tr>\n",
       "    <tr>\n",
       "      <th>25%</th>\n",
       "      <td>-1.000000</td>\n",
       "    </tr>\n",
       "    <tr>\n",
       "      <th>50%</th>\n",
       "      <td>-1.000000</td>\n",
       "    </tr>\n",
       "    <tr>\n",
       "      <th>75%</th>\n",
       "      <td>1.000000</td>\n",
       "    </tr>\n",
       "    <tr>\n",
       "      <th>max</th>\n",
       "      <td>1.000000</td>\n",
       "    </tr>\n",
       "  </tbody>\n",
       "</table>\n",
       "</div>"
      ],
      "text/plain": [
       "             label\n",
       "count  1896.000000\n",
       "mean     -0.156118\n",
       "std       0.987999\n",
       "min      -1.000000\n",
       "25%      -1.000000\n",
       "50%      -1.000000\n",
       "75%       1.000000\n",
       "max       1.000000"
      ]
     },
     "execution_count": 9,
     "metadata": {},
     "output_type": "execute_result"
    }
   ],
   "source": [
    "df.describe()"
   ]
  },
  {
   "cell_type": "code",
   "execution_count": 10,
   "metadata": {},
   "outputs": [],
   "source": [
    "# # Step - a : Remove blank rows if any.\n",
    "# df['review_content'].dropna(inplace=True)"
   ]
  },
  {
   "cell_type": "code",
   "execution_count": 11,
   "metadata": {},
   "outputs": [],
   "source": [
    "# # Step - b : Change all the text to lower case\n",
    "# df['review_content'] = [entry.lower() for entry in df['review_content']]"
   ]
  },
  {
   "cell_type": "code",
   "execution_count": 12,
   "metadata": {},
   "outputs": [],
   "source": [
    "# # Step - c : Tokenization : In this each entry in the corpus will be broken into set of words\n",
    "# # tokenized = []\n",
    "# # for index,entry in enumerate(genuine['review_content']): \n",
    "# #     genuine.loc[index,'tokenized'] = [word_tokenize(entry)]\n",
    "# #     percent = index/len(genuine)*100\n",
    "# #     print('percent done [%d%%]\\r'%percent, end=\"\")\n",
    "# df['tokenized']= [word_tokenize(entry) for entry in df['review_content']]"
   ]
  },
  {
   "cell_type": "code",
   "execution_count": 13,
   "metadata": {},
   "outputs": [],
   "source": [
    "# # Step - d : Remove Stop words, Non-Numeric and perfom Word Stemming/Lemmenting.\n",
    "# # WordNetLemmatizer requires Pos tags to understand if the word is noun or verb or adjective etc. By default it is set to Noun\n",
    "# tag_map = defaultdict(lambda : wn.NOUN)\n",
    "# tag_map['J'] = wn.ADJ\n",
    "# tag_map['V'] = wn.VERB\n",
    "# tag_map['R'] = wn.ADV\n",
    "# final_text = [None]*len(df['tokenized'])\n",
    "# for index,entry in enumerate(df['tokenized']):\n",
    "#     # Declaring Empty List to store the words that follow the rules for this step\n",
    "#     Final_words = []\n",
    "#     # Initializing WordNetLemmatizer()\n",
    "#     percent = float(index/len(df['tokenized'])*100)\n",
    "\n",
    "#     print('percent done [%f%%]\\r'%percent, end=\"\")\n",
    "#     word_Lemmatized = WordNetLemmatizer()\n",
    "#     # pos_tag function below will provide the 'tag' i.e if the word is Noun(N) or Verb(V) or something else.\n",
    "#     for word, tag in pos_tag(entry):\n",
    "#         # Below condition is to check for Stop words and consider only alphabets\n",
    "#         if word not in stopwords.words('english') and word.isalpha():\n",
    "#             word_Final = word_Lemmatized.lemmatize(word,tag_map[tag[0]])\n",
    "#             Final_words.append(word_Final)\n",
    "#     # The final processed set of words for each iteration will be stored in 'text_final'\n",
    "#     df.loc[index,'text_final'] = str(Final_words)\n",
    "#     final_text[index]=(Final_words)\n",
    "    \n"
   ]
  },
  {
   "cell_type": "code",
   "execution_count": 14,
   "metadata": {},
   "outputs": [],
   "source": [
    "# #to save the preporcessed list\n",
    "\n",
    "# pickle_out = open(\"df_hotel.pickle\",\"wb\")\n",
    "# pickle.dump(df, pickle_out)\n",
    "# pickle_out.close()"
   ]
  },
  {
   "cell_type": "code",
   "execution_count": 15,
   "metadata": {},
   "outputs": [
    {
     "data": {
      "text/html": [
       "<div>\n",
       "<style scoped>\n",
       "    .dataframe tbody tr th:only-of-type {\n",
       "        vertical-align: middle;\n",
       "    }\n",
       "\n",
       "    .dataframe tbody tr th {\n",
       "        vertical-align: top;\n",
       "    }\n",
       "\n",
       "    .dataframe thead th {\n",
       "        text-align: right;\n",
       "    }\n",
       "</style>\n",
       "<table border=\"1\" class=\"dataframe\">\n",
       "  <thead>\n",
       "    <tr style=\"text-align: right;\">\n",
       "      <th></th>\n",
       "      <th>review_content</th>\n",
       "      <th>label</th>\n",
       "      <th>tokenized</th>\n",
       "      <th>text_final</th>\n",
       "    </tr>\n",
       "  </thead>\n",
       "  <tbody>\n",
       "    <tr>\n",
       "      <th>0</th>\n",
       "      <td>stayed here for a conference and it was a very...</td>\n",
       "      <td>-1</td>\n",
       "      <td>[stayed, here, for, a, conference, and, it, wa...</td>\n",
       "      <td>['stay', 'conference', 'bad', 'experience', 'f...</td>\n",
       "    </tr>\n",
       "    <tr>\n",
       "      <th>1</th>\n",
       "      <td>elegant and modernized hotel with great staff....</td>\n",
       "      <td>-1</td>\n",
       "      <td>[elegant, and, modernized, hotel, with, great,...</td>\n",
       "      <td>['elegant', 'modernized', 'hotel', 'great', 's...</td>\n",
       "    </tr>\n",
       "    <tr>\n",
       "      <th>2</th>\n",
       "      <td>we were extremely pleased with our beautiful c...</td>\n",
       "      <td>-1</td>\n",
       "      <td>[we, were, extremely, pleased, with, our, beau...</td>\n",
       "      <td>['extremely', 'pleased', 'beautiful', 'cabana'...</td>\n",
       "    </tr>\n",
       "    <tr>\n",
       "      <th>3</th>\n",
       "      <td>the experience turned even more sour when the ...</td>\n",
       "      <td>-1</td>\n",
       "      <td>[the, experience, turned, even, more, sour, wh...</td>\n",
       "      <td>['experience', 'turn', 'even', 'sour', 'staff'...</td>\n",
       "    </tr>\n",
       "    <tr>\n",
       "      <th>4</th>\n",
       "      <td>i was expecting more empathy and a better reso...</td>\n",
       "      <td>-1</td>\n",
       "      <td>[i, was, expecting, more, empathy, and, a, bet...</td>\n",
       "      <td>['expect', 'empathy', 'good', 'resolution', 'r...</td>\n",
       "    </tr>\n",
       "    <tr>\n",
       "      <th>...</th>\n",
       "      <td>...</td>\n",
       "      <td>...</td>\n",
       "      <td>...</td>\n",
       "      <td>...</td>\n",
       "    </tr>\n",
       "    <tr>\n",
       "      <th>1891</th>\n",
       "      <td>my wife and i stayed here in the middle of feb...</td>\n",
       "      <td>1</td>\n",
       "      <td>[my, wife, and, i, stayed, here, in, the, midd...</td>\n",
       "      <td>['wife', 'stay', 'middle', 'february', 'take',...</td>\n",
       "    </tr>\n",
       "    <tr>\n",
       "      <th>1892</th>\n",
       "      <td>visiting during a busy 2day conference in chic...</td>\n",
       "      <td>1</td>\n",
       "      <td>[visiting, during, a, busy, 2day, conference, ...</td>\n",
       "      <td>['visit', 'busy', 'conference', 'chicago', 'ho...</td>\n",
       "    </tr>\n",
       "    <tr>\n",
       "      <th>1893</th>\n",
       "      <td>where do i start. the gm was a nice guy for ha...</td>\n",
       "      <td>1</td>\n",
       "      <td>[where, do, i, start, ., the, gm, was, a, nice...</td>\n",
       "      <td>['start', 'gm', 'nice', 'guy', 'handle', 'inci...</td>\n",
       "    </tr>\n",
       "    <tr>\n",
       "      <th>1894</th>\n",
       "      <td>the omni is in a fabulous location on michigan...</td>\n",
       "      <td>1</td>\n",
       "      <td>[the, omni, is, in, a, fabulous, location, on,...</td>\n",
       "      <td>['omni', 'fabulous', 'location', 'michigan', '...</td>\n",
       "    </tr>\n",
       "    <tr>\n",
       "      <th>1895</th>\n",
       "      <td>we got a great deal on this hotel, just $91 fo...</td>\n",
       "      <td>1</td>\n",
       "      <td>[we, got, a, great, deal, on, this, hotel, ,, ...</td>\n",
       "      <td>['get', 'great', 'deal', 'hotel', 'find', 'tra...</td>\n",
       "    </tr>\n",
       "  </tbody>\n",
       "</table>\n",
       "<p>1896 rows × 4 columns</p>\n",
       "</div>"
      ],
      "text/plain": [
       "                                         review_content  label  \\\n",
       "0     stayed here for a conference and it was a very...     -1   \n",
       "1     elegant and modernized hotel with great staff....     -1   \n",
       "2     we were extremely pleased with our beautiful c...     -1   \n",
       "3     the experience turned even more sour when the ...     -1   \n",
       "4     i was expecting more empathy and a better reso...     -1   \n",
       "...                                                 ...    ...   \n",
       "1891  my wife and i stayed here in the middle of feb...      1   \n",
       "1892  visiting during a busy 2day conference in chic...      1   \n",
       "1893  where do i start. the gm was a nice guy for ha...      1   \n",
       "1894  the omni is in a fabulous location on michigan...      1   \n",
       "1895  we got a great deal on this hotel, just $91 fo...      1   \n",
       "\n",
       "                                              tokenized  \\\n",
       "0     [stayed, here, for, a, conference, and, it, wa...   \n",
       "1     [elegant, and, modernized, hotel, with, great,...   \n",
       "2     [we, were, extremely, pleased, with, our, beau...   \n",
       "3     [the, experience, turned, even, more, sour, wh...   \n",
       "4     [i, was, expecting, more, empathy, and, a, bet...   \n",
       "...                                                 ...   \n",
       "1891  [my, wife, and, i, stayed, here, in, the, midd...   \n",
       "1892  [visiting, during, a, busy, 2day, conference, ...   \n",
       "1893  [where, do, i, start, ., the, gm, was, a, nice...   \n",
       "1894  [the, omni, is, in, a, fabulous, location, on,...   \n",
       "1895  [we, got, a, great, deal, on, this, hotel, ,, ...   \n",
       "\n",
       "                                             text_final  \n",
       "0     ['stay', 'conference', 'bad', 'experience', 'f...  \n",
       "1     ['elegant', 'modernized', 'hotel', 'great', 's...  \n",
       "2     ['extremely', 'pleased', 'beautiful', 'cabana'...  \n",
       "3     ['experience', 'turn', 'even', 'sour', 'staff'...  \n",
       "4     ['expect', 'empathy', 'good', 'resolution', 'r...  \n",
       "...                                                 ...  \n",
       "1891  ['wife', 'stay', 'middle', 'february', 'take',...  \n",
       "1892  ['visit', 'busy', 'conference', 'chicago', 'ho...  \n",
       "1893  ['start', 'gm', 'nice', 'guy', 'handle', 'inci...  \n",
       "1894  ['omni', 'fabulous', 'location', 'michigan', '...  \n",
       "1895  ['get', 'great', 'deal', 'hotel', 'find', 'tra...  \n",
       "\n",
       "[1896 rows x 4 columns]"
      ]
     },
     "execution_count": 15,
     "metadata": {},
     "output_type": "execute_result"
    }
   ],
   "source": [
    "df"
   ]
  },
  {
   "cell_type": "code",
   "execution_count": 16,
   "metadata": {},
   "outputs": [
    {
     "data": {
      "text/plain": [
       "(1896, 1)"
      ]
     },
     "execution_count": 16,
     "metadata": {},
     "output_type": "execute_result"
    }
   ],
   "source": [
    "x = df['text_final'].values.reshape(-1,1)\n",
    "y = df['label'].values.reshape(-1,1)\n",
    "y.shape"
   ]
  },
  {
   "cell_type": "code",
   "execution_count": 17,
   "metadata": {},
   "outputs": [],
   "source": [
    "#undersample = RandomUnderSampler(sampling_strategy='majority')\n",
    "undersample = RandomUnderSampler(sampling_strategy='majority')\n",
    "#oversample = RandomOverSampler(sampling_strategy='minority')\n",
    "X_under, y_under = undersample.fit_resample(x, y)\n",
    "#X_over, y_over = oversample.fit_resample(X, df['label'])"
   ]
  },
  {
   "cell_type": "code",
   "execution_count": 18,
   "metadata": {},
   "outputs": [],
   "source": [
    "d = {'text_final':X_under[:,0],'label':y_under[:,]}\n",
    "dfu = pd.DataFrame(d)"
   ]
  },
  {
   "cell_type": "code",
   "execution_count": 19,
   "metadata": {
    "scrolled": true
   },
   "outputs": [
    {
     "data": {
      "text/html": [
       "<div>\n",
       "<style scoped>\n",
       "    .dataframe tbody tr th:only-of-type {\n",
       "        vertical-align: middle;\n",
       "    }\n",
       "\n",
       "    .dataframe tbody tr th {\n",
       "        vertical-align: top;\n",
       "    }\n",
       "\n",
       "    .dataframe thead th {\n",
       "        text-align: right;\n",
       "    }\n",
       "</style>\n",
       "<table border=\"1\" class=\"dataframe\">\n",
       "  <thead>\n",
       "    <tr style=\"text-align: right;\">\n",
       "      <th></th>\n",
       "      <th>text_final</th>\n",
       "      <th>label</th>\n",
       "    </tr>\n",
       "  </thead>\n",
       "  <tbody>\n",
       "    <tr>\n",
       "      <th>0</th>\n",
       "      <td>['let', 'website', 'fool', 'stay', 'amalfi', '...</td>\n",
       "      <td>-1</td>\n",
       "    </tr>\n",
       "    <tr>\n",
       "      <th>1</th>\n",
       "      <td>['wife', 'stay', 'allegro', 'weekend', 'busine...</td>\n",
       "      <td>-1</td>\n",
       "    </tr>\n",
       "    <tr>\n",
       "      <th>2</th>\n",
       "      <td>['many', 'hotel', 'chicago', 'many', 'hotel', ...</td>\n",
       "      <td>-1</td>\n",
       "    </tr>\n",
       "    <tr>\n",
       "      <th>3</th>\n",
       "      <td>['one', 'expensive', 'hotel', 'ithaca', 'area'...</td>\n",
       "      <td>-1</td>\n",
       "    </tr>\n",
       "    <tr>\n",
       "      <th>4</th>\n",
       "      <td>['talbot', 'hotel', 'elegant', 'place', 'take'...</td>\n",
       "      <td>-1</td>\n",
       "    </tr>\n",
       "    <tr>\n",
       "      <th>...</th>\n",
       "      <td>...</td>\n",
       "      <td>...</td>\n",
       "    </tr>\n",
       "    <tr>\n",
       "      <th>1595</th>\n",
       "      <td>['wife', 'stay', 'middle', 'february', 'take',...</td>\n",
       "      <td>1</td>\n",
       "    </tr>\n",
       "    <tr>\n",
       "      <th>1596</th>\n",
       "      <td>['visit', 'busy', 'conference', 'chicago', 'ho...</td>\n",
       "      <td>1</td>\n",
       "    </tr>\n",
       "    <tr>\n",
       "      <th>1597</th>\n",
       "      <td>['start', 'gm', 'nice', 'guy', 'handle', 'inci...</td>\n",
       "      <td>1</td>\n",
       "    </tr>\n",
       "    <tr>\n",
       "      <th>1598</th>\n",
       "      <td>['omni', 'fabulous', 'location', 'michigan', '...</td>\n",
       "      <td>1</td>\n",
       "    </tr>\n",
       "    <tr>\n",
       "      <th>1599</th>\n",
       "      <td>['get', 'great', 'deal', 'hotel', 'find', 'tra...</td>\n",
       "      <td>1</td>\n",
       "    </tr>\n",
       "  </tbody>\n",
       "</table>\n",
       "<p>1600 rows × 2 columns</p>\n",
       "</div>"
      ],
      "text/plain": [
       "                                             text_final  label\n",
       "0     ['let', 'website', 'fool', 'stay', 'amalfi', '...     -1\n",
       "1     ['wife', 'stay', 'allegro', 'weekend', 'busine...     -1\n",
       "2     ['many', 'hotel', 'chicago', 'many', 'hotel', ...     -1\n",
       "3     ['one', 'expensive', 'hotel', 'ithaca', 'area'...     -1\n",
       "4     ['talbot', 'hotel', 'elegant', 'place', 'take'...     -1\n",
       "...                                                 ...    ...\n",
       "1595  ['wife', 'stay', 'middle', 'february', 'take',...      1\n",
       "1596  ['visit', 'busy', 'conference', 'chicago', 'ho...      1\n",
       "1597  ['start', 'gm', 'nice', 'guy', 'handle', 'inci...      1\n",
       "1598  ['omni', 'fabulous', 'location', 'michigan', '...      1\n",
       "1599  ['get', 'great', 'deal', 'hotel', 'find', 'tra...      1\n",
       "\n",
       "[1600 rows x 2 columns]"
      ]
     },
     "execution_count": 19,
     "metadata": {},
     "output_type": "execute_result"
    }
   ],
   "source": [
    "dfu"
   ]
  },
  {
   "cell_type": "code",
   "execution_count": 20,
   "metadata": {},
   "outputs": [
    {
     "name": "stdout",
     "output_type": "stream",
     "text": [
      "negative:  800  positive: 800 total 1600 percent deceptive 50.0\n"
     ]
    }
   ],
   "source": [
    "pos=0 \n",
    "neg = 0\n",
    "for x in dfu['label']:\n",
    "    if x == -1:\n",
    "        neg+=1\n",
    "    else:\n",
    "        pos+=1\n",
    "print ('negative: ', neg , ' positive:' , pos, 'total', neg+pos,'percent deceptive', neg*100.0/(neg+pos)) "
   ]
  },
  {
   "cell_type": "code",
   "execution_count": 21,
   "metadata": {},
   "outputs": [],
   "source": [
    "Train_X_oc_all, Test_X_oc_all = model_selection.train_test_split(dfu[['label','text_final']],test_size=0.3,stratify=dfu['label'])"
   ]
  },
  {
   "cell_type": "code",
   "execution_count": 22,
   "metadata": {},
   "outputs": [
    {
     "name": "stdout",
     "output_type": "stream",
     "text": [
      "negative:  240  positive: 240 total 480 percent deceptive 50.0\n"
     ]
    }
   ],
   "source": [
    "# check test genuine/deceptive\n",
    "pos=0 \n",
    "neg = 0\n",
    "\n",
    "for x in Test_X_oc_all['label']:\n",
    "    if x == -1:\n",
    "        neg+=1\n",
    "    else:\n",
    "        pos+=1\n",
    "print ('negative: ', neg , ' positive:' , pos, 'total', neg+pos,'percent deceptive', neg*100.0/(neg+pos)) "
   ]
  },
  {
   "cell_type": "code",
   "execution_count": 23,
   "metadata": {},
   "outputs": [],
   "source": [
    "# split using genuine\n",
    "Train_X, Test_X = model_selection.train_test_split((df.loc[(df['label'] == 1)]).text_final,test_size=0.3)\n"
   ]
  },
  {
   "cell_type": "code",
   "execution_count": 24,
   "metadata": {},
   "outputs": [
    {
     "data": {
      "text/plain": [
       "560"
      ]
     },
     "execution_count": 24,
     "metadata": {},
     "output_type": "execute_result"
    }
   ],
   "source": [
    "len(Train_X)"
   ]
  },
  {
   "cell_type": "code",
   "execution_count": 25,
   "metadata": {},
   "outputs": [],
   "source": [
    "#split using deceptive\n",
    "Train_X_dec, Test_X_dec = model_selection.train_test_split((Train_X_oc_all.loc[(dfu['label'] == -1)]).text_final,test_size=0.3)"
   ]
  },
  {
   "cell_type": "code",
   "execution_count": 26,
   "metadata": {},
   "outputs": [
    {
     "data": {
      "text/plain": [
       "TfidfVectorizer(max_features=400)"
      ]
     },
     "execution_count": 26,
     "metadata": {},
     "output_type": "execute_result"
    }
   ],
   "source": [
    "Tfidf_vect = TfidfVectorizer(max_features=max_max)        \n",
    "Tfidf_vect.fit(df['text_final'])"
   ]
  },
  {
   "cell_type": "code",
   "execution_count": 27,
   "metadata": {},
   "outputs": [],
   "source": [
    "#vectorizing genuine data\n",
    "Train_X_Tfidf = Tfidf_vect.transform(Train_X)\n",
    "Test_X_Tfidf = Tfidf_vect.transform(Test_X)"
   ]
  },
  {
   "cell_type": "code",
   "execution_count": 28,
   "metadata": {},
   "outputs": [],
   "source": [
    "# vectorizing deceptive data\n",
    "Train_X_Tfidf_dec = Tfidf_vect.transform(Train_X_dec)\n",
    "Test_X_Tfidf_dec = Tfidf_vect.transform(Test_X_oc_all['text_final'])"
   ]
  },
  {
   "cell_type": "code",
   "execution_count": 29,
   "metadata": {},
   "outputs": [],
   "source": [
    "# vectorizing all data\n",
    "Test_X_Tfidf_all = Tfidf_vect.transform(df['text_final'])"
   ]
  },
  {
   "cell_type": "code",
   "execution_count": 30,
   "metadata": {},
   "outputs": [
    {
     "data": {
      "text/plain": [
       "<560x400 sparse matrix of type '<class 'numpy.float64'>'\n",
       "\twith 20631 stored elements in Compressed Sparse Row format>"
      ]
     },
     "execution_count": 30,
     "metadata": {},
     "output_type": "execute_result"
    }
   ],
   "source": [
    "Train_X_Tfidf"
   ]
  },
  {
   "cell_type": "code",
   "execution_count": 31,
   "metadata": {},
   "outputs": [
    {
     "name": "stdout",
     "output_type": "stream",
     "text": [
      "elapsed_time 0.03981781005859375\n"
     ]
    }
   ],
   "source": [
    "# fit the training dataset on the classifier using [deceptive]\n",
    "start_time = time.time()\n",
    "\n",
    "clf_dec = OneClassSVM(gamma='auto', kernel='rbf', degree=5).fit(Train_X_Tfidf_dec)\n",
    "elapsed_time = time.time() - start_time\n",
    "print('elapsed_time' , elapsed_time)\n",
    "# predict the labels on validation dataset"
   ]
  },
  {
   "cell_type": "code",
   "execution_count": 32,
   "metadata": {},
   "outputs": [
    {
     "name": "stdout",
     "output_type": "stream",
     "text": [
      "elapsed_time 0.031905174255371094\n"
     ]
    }
   ],
   "source": [
    "# predict using deceptive\n",
    "start_time = time.time()\n",
    "predictions_oneclass_dec = clf_dec.predict(Test_X_Tfidf_dec)\n",
    "#print(predictions_oneclass_dec)\n",
    "elapsed_time = time.time() - start_time\n",
    "print('elapsed_time' , elapsed_time)\n",
    "# Use accuracy_score function to get the accuracy"
   ]
  },
  {
   "cell_type": "code",
   "execution_count": 33,
   "metadata": {},
   "outputs": [
    {
     "name": "stdout",
     "output_type": "stream",
     "text": [
      "negative:  289  positive: 191\n"
     ]
    }
   ],
   "source": [
    "# deceptive predict count\n",
    "pos=0 \n",
    "neg = 0\n",
    "\n",
    "for x in predictions_oneclass_dec:\n",
    "    if x == -1:\n",
    "        neg+=1\n",
    "    else:\n",
    "        pos+=1\n",
    "print ('negative: ', neg , ' positive:' , pos)       "
   ]
  },
  {
   "cell_type": "code",
   "execution_count": 34,
   "metadata": {},
   "outputs": [
    {
     "name": "stdout",
     "output_type": "stream",
     "text": [
      "Accuracy Score ->  0.54375\n",
      "percision:  0.5456530009601624  recall:  0.54375  fscore:  0.5389453462515186\n"
     ]
    }
   ],
   "source": [
    "cf_matrix=confusion_matrix(Test_X_oc_all['label'], predictions_oneclass_dec*-1)\n",
    "metrics_result = precision_recall_fscore_support(Test_X_oc_all['label'], predictions_oneclass_dec*-1, average='weighted',zero_division=0)\n",
    "print(\"Accuracy Score -> \",accuracy_score(predictions_oneclass_dec*-1, Test_X_oc_all['label'], normalize=True))\n",
    "print(\"percision: \", metrics_result[0], ' recall: ' , metrics_result[1], ' fscore: ', metrics_result[2])\n",
    "#print(metrics.f1_score(Test_X_oc_all['label'], predictions_oneclass_dec*-1, average='weighted'))\n",
    "#sns.heatmap(cf_matrix, annot=True)"
   ]
  },
  {
   "cell_type": "code",
   "execution_count": 35,
   "metadata": {},
   "outputs": [
    {
     "data": {
      "text/plain": [
       "<AxesSubplot:>"
      ]
     },
     "execution_count": 35,
     "metadata": {},
     "output_type": "execute_result"
    },
    {
     "data": {
      "image/png": "[encoded data removed]",
      "text/plain": [
       "<Figure size 432x288 with 2 Axes>"
      ]
     },
     "metadata": {
      "needs_background": "light"
     },
     "output_type": "display_data"
    }
   ],
   "source": [
    "group_names = ['True Neg','False Pos','False Neg','True Pos']\n",
    "group_counts = [\"{0:0.0f}\".format(value) for value in\n",
    "                cf_matrix.flatten()]\n",
    "group_percentages = [\"{0:.2%}\".format(value) for value in\n",
    "                     cf_matrix.flatten()/np.sum(cf_matrix)]\n",
    "labels = [f\"{v1}\\n{v2}\\n{v3}\" for v1, v2, v3 in\n",
    "          zip(group_names,group_counts,group_percentages)]\n",
    "labels = np.asarray(labels).reshape(2,2)\n",
    "sns.heatmap(cf_matrix, annot=labels, fmt='', cmap='Blues')\n"
   ]
  },
  {
   "cell_type": "code",
   "execution_count": 36,
   "metadata": {},
   "outputs": [
    {
     "name": "stdout",
     "output_type": "stream",
     "text": [
      "elapsed_time 0.09508275985717773\n"
     ]
    }
   ],
   "source": [
    "# fit the training dataset on the classifier using [genuine]\n",
    "start_time = time.time()\n",
    "\n",
    "clf_gen = OneClassSVM(gamma='auto', kernel='poly', degree=1).fit(Train_X_Tfidf)\n",
    "elapsed_time = time.time() - start_time\n",
    "print('elapsed_time' , elapsed_time)\n",
    "# predict the labels on validation dataset"
   ]
  },
  {
   "cell_type": "code",
   "execution_count": 37,
   "metadata": {},
   "outputs": [
    {
     "name": "stdout",
     "output_type": "stream",
     "text": [
      "elapsed_time 0.04801011085510254\n"
     ]
    }
   ],
   "source": [
    "# predict using [genuine]\n",
    "start_time = time.time()\n",
    "predictions_oneclass_gen = clf_gen.predict(Test_X_Tfidf_dec)\n",
    "#print(predictions_oneclass_gen)\n",
    "elapsed_time = time.time() - start_time\n",
    "print('elapsed_time' , elapsed_time)\n",
    "# Use accuracy_score function to get the accuracy"
   ]
  },
  {
   "cell_type": "code",
   "execution_count": 38,
   "metadata": {},
   "outputs": [
    {
     "name": "stdout",
     "output_type": "stream",
     "text": [
      "negative:  296  positive: 184\n"
     ]
    }
   ],
   "source": [
    "# count of prediction using [genuine]\n",
    "pos=0 \n",
    "neg = 0\n",
    "\n",
    "for x in predictions_oneclass_gen:\n",
    "    if x == -1:\n",
    "        neg+=1\n",
    "    else:\n",
    "        pos+=1\n",
    "print ('negative: ', neg , ' positive:' , pos)   "
   ]
  },
  {
   "cell_type": "code",
   "execution_count": 39,
   "metadata": {},
   "outputs": [
    {
     "name": "stdout",
     "output_type": "stream",
     "text": [
      "Accuracy Score ->  0.575\n"
     ]
    }
   ],
   "source": [
    "print(\"Accuracy Score -> \",accuracy_score(predictions_oneclass_gen, Test_X_oc_all['label'], normalize=True))"
   ]
  },
  {
   "cell_type": "code",
   "execution_count": 40,
   "metadata": {},
   "outputs": [],
   "source": [
    "# # to save the classifier model\n",
    "\n",
    "# pickle_out = open(\"clf_oneclass.pickle\",\"wb\")\n",
    "# pickle.dump(clf, pickle_out)\n",
    "# pickle_out.close()"
   ]
  },
  {
   "cell_type": "code",
   "execution_count": 41,
   "metadata": {},
   "outputs": [],
   "source": [
    "X_train_all, X_validation_all, Y_train_all, Y_validation_all = train_test_split(Tfidf_vect.transform(dfu['text_final']), dfu['label'], test_size=0.65, random_state=1,stratify=dfu['label'] )"
   ]
  },
  {
   "cell_type": "code",
   "execution_count": 42,
   "metadata": {},
   "outputs": [
    {
     "name": "stdout",
     "output_type": "stream",
     "text": [
      "1600 560\n"
     ]
    }
   ],
   "source": [
    "print(len(dfu['text_final']),len(Y_train_all))"
   ]
  },
  {
   "cell_type": "code",
   "execution_count": 43,
   "metadata": {},
   "outputs": [
    {
     "name": "stdout",
     "output_type": "stream",
     "text": [
      "negative:  280  positive: 280 total 560 percent deceptive 50.0\n"
     ]
    }
   ],
   "source": [
    "pos=0 \n",
    "neg = 0\n",
    "for x in Y_train_all:\n",
    "    if x == -1:\n",
    "        neg+=1\n",
    "    else:\n",
    "        pos+=1\n",
    "print ('negative: ', neg , ' positive:' , pos, 'total', neg+pos,'percent deceptive', neg*100.0/(neg+pos)) "
   ]
  },
  {
   "cell_type": "code",
   "execution_count": 44,
   "metadata": {},
   "outputs": [
    {
     "name": "stdout",
     "output_type": "stream",
     "text": [
      "Support Vector Machine: 0.775000 (0.051570) elapsed time: 0.499618\n",
      "Support Vector Machine: 0.719643 (0.058847) elapsed time: 0.451702\n",
      "Support Vector Machine: 0.798214 (0.028571) elapsed time: 0.357760\n",
      "the best model performer is:  Support Vector Machine\n"
     ]
    }
   ],
   "source": [
    "# classifier checker\n",
    "\n",
    "# your code\n",
    "models = []\n",
    "#models.append(['Logistic Regression', LogisticRegression(solver='liblinear', multi_class='ovr'),[],0,0])\n",
    "#models.append(['Linear Discriminant Analysis', LinearDiscriminantAnalysis(),[],0,0])\n",
    "#models.append(['K Nearest Neighbor', KNeighborsClassifier(),[],0,0])\n",
    "#models.append(['Decesion Tree Classifier', DecisionTreeClassifier(),[],0,0])\n",
    "#models.append(['Gaussien Naive Bayes', GaussianNB(),[],0,0])\n",
    "models.append(['Support Vector Machine', SVC(gamma='auto',kernel='rbf'),[],0,0])\n",
    "models.append(['Support Vector Machine', SVC(gamma='auto',kernel='poly'),[],0,0])\n",
    "models.append(['Support Vector Machine', SVC(gamma='auto',kernel='linear'),[],0,0])\n",
    "#models.append(['Random Forest', RandomForestClassifier(max_depth = 1000,random_state=1),[],0,0])\n",
    "\n",
    "models = np.array(models,dtype=object)\n",
    "\n",
    "for i in range(len(models)):\n",
    "    start_time = time.time()\n",
    "    #kfold = StratifiedKFold(n_splits=1, random_state=1, shuffle=True)\n",
    "    cv_results = cross_val_score(models[i,1], X_train_all, Y_train_all, scoring='accuracy')\n",
    "    models[i,2] = cv_results\n",
    "    models[i,3] = cv_results.mean()\n",
    "    models[i,4] = cv_results.std()\n",
    "    elapsed_time = time.time() - start_time\n",
    "    print('%s: %f (%f) elapsed time: %f' % (models[i,0], models[i,3], models[i,4],elapsed_time))\n",
    "    \n",
    "    \n",
    "\n",
    "best_model= models[np.argmax(models[:,3]),:]\n",
    "print(\"the best model performer is: \", best_model[0])"
   ]
  },
  {
   "cell_type": "code",
   "execution_count": 45,
   "metadata": {},
   "outputs": [],
   "source": [
    "clf_model=SVC(gamma='auto',kernel='linear',degree=2).fit(X_train_all, Y_train_all)"
   ]
  },
  {
   "cell_type": "code",
   "execution_count": 46,
   "metadata": {},
   "outputs": [],
   "source": [
    "result=clf_model.predict(X_validation_all)"
   ]
  },
  {
   "cell_type": "code",
   "execution_count": 47,
   "metadata": {},
   "outputs": [
    {
     "name": "stdout",
     "output_type": "stream",
     "text": [
      "negative:  525  positive: 515 total 1040 percent deceptive 50.48076923076923\n"
     ]
    }
   ],
   "source": [
    "pos=0 \n",
    "neg = 0\n",
    "for x in result:\n",
    "    if x == -1:\n",
    "        neg+=1\n",
    "    else:\n",
    "        pos+=1\n",
    "print ('negative: ', neg , ' positive:' , pos, 'total', neg+pos,'percent deceptive', neg*100.0/(neg+pos)) "
   ]
  },
  {
   "cell_type": "code",
   "execution_count": 48,
   "metadata": {},
   "outputs": [
    {
     "name": "stdout",
     "output_type": "stream",
     "text": [
      "Accuracy Score ->  0.7778846153846154\n",
      "percision:  0.7805825242718447  recall:  0.7730769230769231  fscore:  0.7768115942028986 \n",
      "\n"
     ]
    }
   ],
   "source": [
    "print(\"Accuracy Score -> \",accuracy_score(result, Y_validation_all, normalize=True))\n",
    "metrics_result = precision_recall_fscore_support(Y_validation_all, result, average='binary',zero_division=0)\n",
    "print(\"percision: \", metrics_result[0], ' recall: ' , metrics_result[1], ' fscore: ', metrics_result[2], '\\n') "
   ]
  },
  {
   "cell_type": "code",
   "execution_count": 49,
   "metadata": {},
   "outputs": [
    {
     "name": "stdout",
     "output_type": "stream",
     "text": [
      "kernel used:  linear  elapsed_time:  0.0921783447265625\n",
      "kernel used:  poly  degree used:  0  elapsed_time: 0.05991196632385254\n",
      "kernel used:  poly  degree used:  1  elapsed_time: 0.08762669563293457\n",
      "kernel used:  poly  degree used:  2  elapsed_time: 0.09639120101928711\n",
      "kernel used:  poly  degree used:  3  elapsed_time: 0.11719822883605957\n",
      "kernel used:  rbf  elapsed_time:  0.08744359016418457\n",
      "kernel used:  sigmoid  elapsed_time:  0.08698606491088867\n"
     ]
    }
   ],
   "source": [
    "# fit the training dataset on the classifier\n",
    "kernels = ['linear', 'poly', 'rbf', 'sigmoid']\n",
    "degrees = [0,1,2,3]\n",
    "classifiers = []\n",
    "for kern in kernels:\n",
    "    start_time = time.time()\n",
    "    if kern == 'poly':\n",
    "        for deg in degrees:\n",
    "            start_time = time.time()\n",
    "            clf_result = OneClassSVM( kernel=kern, degree=deg).fit(Train_X_Tfidf)\n",
    "            elapsed_time = time.time() - start_time\n",
    "            classifiers.append([kern,deg,clf_result,elapsed_time])\n",
    "            print('kernel used: ' , kern, ' degree used: ' , deg, ' elapsed_time:' , elapsed_time)\n",
    "            \n",
    "    else:\n",
    "        clf_result = OneClassSVM(gamma='auto', kernel=kern).fit(Train_X_Tfidf)\n",
    "        elapsed_time = time.time() - start_time\n",
    "        classifiers.append([kern,0,clf_result,elapsed_time])\n",
    "        print('kernel used: ' , kern, ' elapsed_time: ' , elapsed_time)\n",
    "\n",
    "# predict the labels on validation dataset"
   ]
  },
  {
   "cell_type": "code",
   "execution_count": 50,
   "metadata": {},
   "outputs": [
    {
     "name": "stdout",
     "output_type": "stream",
     "text": [
      "kernel used:  linear  degree used: 0  elapsed_time:  0.04443836212158203  accuracy:  0.5708333333333333\n",
      "percision:  0.5934065934065934  recall:  0.45  fscore:  0.5118483412322274 \n",
      "\n",
      "kernel used:  poly  degree used: 0  elapsed_time:  0.04950428009033203  accuracy:  0.5\n",
      "percision:  0.0  recall:  0.0  fscore:  0.0 \n",
      "\n",
      "kernel used:  poly  degree used: 1  elapsed_time:  0.04513216018676758  accuracy:  0.5708333333333333\n",
      "percision:  0.5934065934065934  recall:  0.45  fscore:  0.5118483412322274 \n",
      "\n",
      "kernel used:  poly  degree used: 2  elapsed_time:  0.05779910087585449  accuracy:  0.6125\n",
      "percision:  0.684931506849315  recall:  0.4166666666666667  fscore:  0.5181347150259068 \n",
      "\n",
      "kernel used:  poly  degree used: 3  elapsed_time:  0.08621621131896973  accuracy:  0.6520833333333333\n",
      "percision:  0.9101123595505618  recall:  0.3375  fscore:  0.49240121580547114 \n",
      "\n",
      "kernel used:  rbf  degree used: 0  elapsed_time:  0.047629356384277344  accuracy:  0.5708333333333333\n",
      "percision:  0.5934065934065934  recall:  0.45  fscore:  0.5118483412322274 \n",
      "\n",
      "kernel used:  sigmoid  degree used: 0  elapsed_time:  0.05607414245605469  accuracy:  0.575\n",
      "percision:  0.5978260869565217  recall:  0.4583333333333333  fscore:  0.5188679245283019 \n",
      "\n"
     ]
    }
   ],
   "source": [
    "clas_result = []\n",
    "for clas in classifiers:\n",
    "    start_time = time.time()\n",
    "    predict_result = clas[2].predict(Test_X_Tfidf_dec)\n",
    "    elapsed_time = time.time() - start_time\n",
    "    clas_result.append([clas[0],clas[1],clas[2],predict_result])\n",
    "    acc = accuracy_score(predict_result*1, Test_X_oc_all['label'], normalize=True)\n",
    "    metrics_result = precision_recall_fscore_support(Test_X_oc_all['label'], predict_result*1, average='binary',zero_division=0)\n",
    "    print('kernel used: ' , clas[0], ' degree used:' , clas[1], ' elapsed_time: ' , elapsed_time, ' accuracy: ', acc)\n",
    "    print(\"percision: \", metrics_result[0], ' recall: ' , metrics_result[1], ' fscore: ', metrics_result[2], '\\n')  \n",
    "# predict the labels on validation dataset"
   ]
  },
  {
   "cell_type": "code",
   "execution_count": 51,
   "metadata": {},
   "outputs": [
    {
     "data": {
      "text/plain": [
       "<AxesSubplot:>"
      ]
     },
     "execution_count": 51,
     "metadata": {},
     "output_type": "execute_result"
    },
    {
     "data": {
      "image/png": "[encoded data removed]",
      "text/plain": [
       "<Figure size 432x288 with 2 Axes>"
      ]
     },
     "metadata": {
      "needs_background": "light"
     },
     "output_type": "display_data"
    }
   ],
   "source": [
    "clf_result = OneClassSVM( kernel='poly', degree=2).fit(Train_X_Tfidf)\n",
    "predict_result = clf_result.predict(Test_X_Tfidf_dec)\n",
    "\n",
    "cf_matrix=confusion_matrix(Test_X_oc_all['label'], predict_result*1)\n",
    "group_names = ['True Neg','False Pos','False Neg','True Pos']\n",
    "group_counts = [\"{0:0.0f}\".format(value) for value in\n",
    "                cf_matrix.flatten()]\n",
    "group_percentages = [\"{0:.2%}\".format(value) for value in\n",
    "                     cf_matrix.flatten()/np.sum(cf_matrix)]\n",
    "labels = [f\"{v1}\\n{v2}\\n{v3}\" for v1, v2, v3 in\n",
    "          zip(group_names,group_counts,group_percentages)]\n",
    "labels = np.asarray(labels).reshape(2,2)\n",
    "sns.heatmap(cf_matrix, annot=labels, fmt='', cmap='Blues')\n"
   ]
  },
  {
   "cell_type": "code",
   "execution_count": null,
   "metadata": {},
   "outputs": [],
   "source": []
  }
 ],
 "metadata": {
  "kernelspec": {
   "display_name": "Python 3",
   "language": "python",
   "name": "python3"
  },
  "language_info": {
   "codemirror_mode": {
    "name": "ipython",
    "version": 3
   },
   "file_extension": ".py",
   "mimetype": "text/x-python",
   "name": "python",
   "nbconvert_exporter": "python",
   "pygments_lexer": "ipython3",
   "version": "3.6.9"
  }
 },
 "nbformat": 4,
 "nbformat_minor": 2
}
